{
 "cells": [
  {
   "cell_type": "code",
   "execution_count": 1,
   "metadata": {},
   "outputs": [
    {
     "data": {
      "text/html": [
       "<div>\n",
       "<style scoped>\n",
       "    .dataframe tbody tr th:only-of-type {\n",
       "        vertical-align: middle;\n",
       "    }\n",
       "\n",
       "    .dataframe tbody tr th {\n",
       "        vertical-align: top;\n",
       "    }\n",
       "\n",
       "    .dataframe thead th {\n",
       "        text-align: right;\n",
       "    }\n",
       "</style>\n",
       "<table border=\"1\" class=\"dataframe\">\n",
       "  <thead>\n",
       "    <tr style=\"text-align: right;\">\n",
       "      <th></th>\n",
       "      <th>Unnamed: 0</th>\n",
       "      <th>Job_Title</th>\n",
       "      <th>Link</th>\n",
       "      <th>Queried_Salary</th>\n",
       "      <th>Job_Type</th>\n",
       "      <th>Skill</th>\n",
       "      <th>Unnamed: 6</th>\n",
       "      <th>No_of_Skills</th>\n",
       "      <th>Company</th>\n",
       "      <th>No_of_Reviews</th>\n",
       "      <th>...</th>\n",
       "      <th>MD</th>\n",
       "      <th>DC</th>\n",
       "      <th>NC</th>\n",
       "      <th>Other_states</th>\n",
       "      <th>Consulting and Business Services</th>\n",
       "      <th>Internet and Software</th>\n",
       "      <th>Banks and Financial Services</th>\n",
       "      <th>Health Care</th>\n",
       "      <th>Insurance</th>\n",
       "      <th>Other_industries</th>\n",
       "    </tr>\n",
       "  </thead>\n",
       "  <tbody>\n",
       "    <tr>\n",
       "      <th>0</th>\n",
       "      <td>0.0</td>\n",
       "      <td>Data Scientist</td>\n",
       "      <td>https://www.indeed.com/rc/clk?jk=6a105f495c36a...</td>\n",
       "      <td>&lt;80000</td>\n",
       "      <td>data_scientist</td>\n",
       "      <td>SAP, SQL</td>\n",
       "      <td>NaN</td>\n",
       "      <td>2.0</td>\n",
       "      <td>Express Scripts</td>\n",
       "      <td>3301.0</td>\n",
       "      <td>...</td>\n",
       "      <td>0.0</td>\n",
       "      <td>0.0</td>\n",
       "      <td>0.0</td>\n",
       "      <td>1.0</td>\n",
       "      <td>0.0</td>\n",
       "      <td>0.0</td>\n",
       "      <td>0.0</td>\n",
       "      <td>1.0</td>\n",
       "      <td>0.0</td>\n",
       "      <td>0.0</td>\n",
       "    </tr>\n",
       "    <tr>\n",
       "      <th>1</th>\n",
       "      <td>1.0</td>\n",
       "      <td>Data Scientist</td>\n",
       "      <td>https://www.indeed.com/rc/clk?jk=86afd561ea8c6...</td>\n",
       "      <td>&lt;80000</td>\n",
       "      <td>data_scientist</td>\n",
       "      <td>Machine Learning, R, SAS, SQL, Python</td>\n",
       "      <td>NaN</td>\n",
       "      <td>5.0</td>\n",
       "      <td>Money Mart Financial Services</td>\n",
       "      <td>NaN</td>\n",
       "      <td>...</td>\n",
       "      <td>0.0</td>\n",
       "      <td>0.0</td>\n",
       "      <td>0.0</td>\n",
       "      <td>0.0</td>\n",
       "      <td>0.0</td>\n",
       "      <td>0.0</td>\n",
       "      <td>0.0</td>\n",
       "      <td>0.0</td>\n",
       "      <td>0.0</td>\n",
       "      <td>0.0</td>\n",
       "    </tr>\n",
       "    <tr>\n",
       "      <th>2</th>\n",
       "      <td>2.0</td>\n",
       "      <td>Data Scientist</td>\n",
       "      <td>https://www.indeed.com/rc/clk?jk=e0aad317e6d45...</td>\n",
       "      <td>&lt;80000</td>\n",
       "      <td>data_scientist</td>\n",
       "      <td>Data Mining, Data Management, R, SAS, SQL, STA...</td>\n",
       "      <td>NaN</td>\n",
       "      <td>9.0</td>\n",
       "      <td>comScore</td>\n",
       "      <td>62.0</td>\n",
       "      <td>...</td>\n",
       "      <td>0.0</td>\n",
       "      <td>0.0</td>\n",
       "      <td>0.0</td>\n",
       "      <td>1.0</td>\n",
       "      <td>0.0</td>\n",
       "      <td>0.0</td>\n",
       "      <td>0.0</td>\n",
       "      <td>0.0</td>\n",
       "      <td>0.0</td>\n",
       "      <td>0.0</td>\n",
       "    </tr>\n",
       "    <tr>\n",
       "      <th>3</th>\n",
       "      <td>3.0</td>\n",
       "      <td>Graduate Studies Program - Data Scientist</td>\n",
       "      <td>https://www.indeed.com/rc/clk?jk=1cfdd9e391a63...</td>\n",
       "      <td>&lt;80000</td>\n",
       "      <td>data_scientist</td>\n",
       "      <td>Certified Internal Auditor</td>\n",
       "      <td>NaN</td>\n",
       "      <td>1.0</td>\n",
       "      <td>Central Intelligence Agency</td>\n",
       "      <td>158.0</td>\n",
       "      <td>...</td>\n",
       "      <td>0.0</td>\n",
       "      <td>1.0</td>\n",
       "      <td>0.0</td>\n",
       "      <td>0.0</td>\n",
       "      <td>0.0</td>\n",
       "      <td>0.0</td>\n",
       "      <td>0.0</td>\n",
       "      <td>0.0</td>\n",
       "      <td>0.0</td>\n",
       "      <td>1.0</td>\n",
       "    </tr>\n",
       "    <tr>\n",
       "      <th>4</th>\n",
       "      <td>4.0</td>\n",
       "      <td>Data Scientist I</td>\n",
       "      <td>https://www.indeed.com/rc/clk?jk=fec647775a21e...</td>\n",
       "      <td>&lt;80000</td>\n",
       "      <td>data_scientist</td>\n",
       "      <td>Statistical Software, Time Management, R, Micr...</td>\n",
       "      <td>NaN</td>\n",
       "      <td>7.0</td>\n",
       "      <td>Federal Reserve Bank of Dallas</td>\n",
       "      <td>495.0</td>\n",
       "      <td>...</td>\n",
       "      <td>0.0</td>\n",
       "      <td>0.0</td>\n",
       "      <td>0.0</td>\n",
       "      <td>0.0</td>\n",
       "      <td>0.0</td>\n",
       "      <td>0.0</td>\n",
       "      <td>1.0</td>\n",
       "      <td>0.0</td>\n",
       "      <td>0.0</td>\n",
       "      <td>0.0</td>\n",
       "    </tr>\n",
       "  </tbody>\n",
       "</table>\n",
       "<p>5 rows × 44 columns</p>\n",
       "</div>"
      ],
      "text/plain": [
       "   Unnamed: 0                                  Job_Title  \\\n",
       "0         0.0                             Data Scientist   \n",
       "1         1.0                             Data Scientist   \n",
       "2         2.0                             Data Scientist   \n",
       "3         3.0  Graduate Studies Program - Data Scientist   \n",
       "4         4.0                           Data Scientist I   \n",
       "\n",
       "                                                Link Queried_Salary  \\\n",
       "0  https://www.indeed.com/rc/clk?jk=6a105f495c36a...         <80000   \n",
       "1  https://www.indeed.com/rc/clk?jk=86afd561ea8c6...         <80000   \n",
       "2  https://www.indeed.com/rc/clk?jk=e0aad317e6d45...         <80000   \n",
       "3  https://www.indeed.com/rc/clk?jk=1cfdd9e391a63...         <80000   \n",
       "4  https://www.indeed.com/rc/clk?jk=fec647775a21e...         <80000   \n",
       "\n",
       "         Job_Type                                              Skill  \\\n",
       "0  data_scientist                                           SAP, SQL   \n",
       "1  data_scientist              Machine Learning, R, SAS, SQL, Python   \n",
       "2  data_scientist  Data Mining, Data Management, R, SAS, SQL, STA...   \n",
       "3  data_scientist                         Certified Internal Auditor   \n",
       "4  data_scientist  Statistical Software, Time Management, R, Micr...   \n",
       "\n",
       "   Unnamed: 6  No_of_Skills                         Company  No_of_Reviews  \\\n",
       "0         NaN           2.0                 Express Scripts         3301.0   \n",
       "1         NaN           5.0   Money Mart Financial Services            NaN   \n",
       "2         NaN           9.0                        comScore           62.0   \n",
       "3         NaN           1.0     Central Intelligence Agency          158.0   \n",
       "4         NaN           7.0  Federal Reserve Bank of Dallas          495.0   \n",
       "\n",
       "   ...   MD   DC   NC Other_states Consulting and Business Services  \\\n",
       "0  ...  0.0  0.0  0.0          1.0                              0.0   \n",
       "1  ...  0.0  0.0  0.0          0.0                              0.0   \n",
       "2  ...  0.0  0.0  0.0          1.0                              0.0   \n",
       "3  ...  0.0  1.0  0.0          0.0                              0.0   \n",
       "4  ...  0.0  0.0  0.0          0.0                              0.0   \n",
       "\n",
       "  Internet and Software Banks and Financial Services  Health Care  Insurance  \\\n",
       "0                   0.0                          0.0          1.0        0.0   \n",
       "1                   0.0                          0.0          0.0        0.0   \n",
       "2                   0.0                          0.0          0.0        0.0   \n",
       "3                   0.0                          0.0          0.0        0.0   \n",
       "4                   0.0                          1.0          0.0        0.0   \n",
       "\n",
       "   Other_industries  \n",
       "0               0.0  \n",
       "1               0.0  \n",
       "2               0.0  \n",
       "3               1.0  \n",
       "4               0.0  \n",
       "\n",
       "[5 rows x 44 columns]"
      ]
     },
     "execution_count": 1,
     "metadata": {},
     "output_type": "execute_result"
    }
   ],
   "source": [
    "import pandas as pd\n",
    "import numpy as np\n",
    "fname = 'Resources/indeed_job_dataset.csv'\n",
    "data = pd.read_csv(fname)\n",
    "data.head()"
   ]
  },
  {
   "cell_type": "code",
   "execution_count": 2,
   "metadata": {},
   "outputs": [],
   "source": [
    "industry_clean = data.dropna(subset=['Company_Industry'])"
   ]
  },
  {
   "cell_type": "code",
   "execution_count": 3,
   "metadata": {},
   "outputs": [
    {
     "data": {
      "text/plain": [
       "'0                        Health Care\\n3                         Government\\n4       Banks and Financial Services\\n6                         Government\\n8              Education and Schools\\n                    ...             \\n5708    Human Resources and Staffing\\n5711    Human Resources and Staffing\\n5712    Banks and Financial Services\\n5713    Banks and Financial Services\\n5714           Aerospace and Defense\\nName: Company_Industry, Length: 3826, dtype: object'"
      ]
     },
     "execution_count": 3,
     "metadata": {},
     "output_type": "execute_result"
    }
   ],
   "source": [
    "industry = str(industry_clean.Company_Industry)\n",
    "industry"
   ]
  },
  {
   "cell_type": "code",
   "execution_count": 4,
   "metadata": {},
   "outputs": [
    {
     "data": {
      "text/html": [
       "<div>\n",
       "<style scoped>\n",
       "    .dataframe tbody tr th:only-of-type {\n",
       "        vertical-align: middle;\n",
       "    }\n",
       "\n",
       "    .dataframe tbody tr th {\n",
       "        vertical-align: top;\n",
       "    }\n",
       "\n",
       "    .dataframe thead th {\n",
       "        text-align: right;\n",
       "    }\n",
       "</style>\n",
       "<table border=\"1\" class=\"dataframe\">\n",
       "  <thead>\n",
       "    <tr style=\"text-align: right;\">\n",
       "      <th></th>\n",
       "      <th>Company_Industry</th>\n",
       "    </tr>\n",
       "  </thead>\n",
       "  <tbody>\n",
       "    <tr>\n",
       "      <th>0</th>\n",
       "      <td>Health Care</td>\n",
       "    </tr>\n",
       "    <tr>\n",
       "      <th>3</th>\n",
       "      <td>Government</td>\n",
       "    </tr>\n",
       "    <tr>\n",
       "      <th>4</th>\n",
       "      <td>Banks and Financial Services</td>\n",
       "    </tr>\n",
       "    <tr>\n",
       "      <th>6</th>\n",
       "      <td>Government</td>\n",
       "    </tr>\n",
       "    <tr>\n",
       "      <th>8</th>\n",
       "      <td>Education and Schools</td>\n",
       "    </tr>\n",
       "  </tbody>\n",
       "</table>\n",
       "</div>"
      ],
      "text/plain": [
       "               Company_Industry\n",
       "0                   Health Care\n",
       "3                    Government\n",
       "4  Banks and Financial Services\n",
       "6                    Government\n",
       "8         Education and Schools"
      ]
     },
     "execution_count": 4,
     "metadata": {},
     "output_type": "execute_result"
    }
   ],
   "source": [
    "ind = pd.DataFrame(industry_clean.Company_Industry)\n",
    "ind.head()"
   ]
  },
  {
   "cell_type": "code",
   "execution_count": 5,
   "metadata": {},
   "outputs": [],
   "source": [
    "#ind['Company_Industry'].value_counts()"
   ]
  },
  {
   "cell_type": "code",
   "execution_count": 6,
   "metadata": {},
   "outputs": [
    {
     "data": {
      "text/plain": [
       "33"
      ]
     },
     "execution_count": 6,
     "metadata": {},
     "output_type": "execute_result"
    }
   ],
   "source": [
    "len(ind['Company_Industry'].unique())"
   ]
  },
  {
   "cell_type": "code",
   "execution_count": 7,
   "metadata": {},
   "outputs": [],
   "source": [
    "industry1 = str(ind)"
   ]
  },
  {
   "cell_type": "code",
   "execution_count": 8,
   "metadata": {},
   "outputs": [
    {
     "name": "stdout",
     "output_type": "stream",
     "text": [
      "444\n"
     ]
    }
   ],
   "source": [
    "print(len(industry1))"
   ]
  },
  {
   "cell_type": "code",
   "execution_count": 26,
   "metadata": {},
   "outputs": [
    {
     "name": "stdout",
     "output_type": "stream",
     "text": [
      "                  Company_Industry\n",
      "                      Health Care\n",
      "                       Government\n",
      "     Banks and Financial Services\n",
      "                       Government\n",
      "            Education and Schools\n",
      "...                            ...\n",
      "  Human Resources and Staffing\n",
      "  Human Resources and Staffing\n",
      "  Banks and Financial Services\n",
      "  Banks and Financial Services\n",
      "         Aerospace and Defense\n",
      "\n",
      "[ rows x  columns]\n"
     ]
    }
   ],
   "source": [
    "import re\n",
    "output = re.sub(r'\\d+', '', industry1)\n",
    "print(output)"
   ]
  },
  {
   "cell_type": "code",
   "execution_count": 10,
   "metadata": {},
   "outputs": [],
   "source": [
    "#df = pd.DataFrame(output)"
   ]
  },
  {
   "cell_type": "code",
   "execution_count": 12,
   "metadata": {},
   "outputs": [
    {
     "name": "stderr",
     "output_type": "stream",
     "text": [
      "[nltk_data] Downloading collection 'popular'\n",
      "[nltk_data]    | \n",
      "[nltk_data]    | Downloading package cmudict to C:\\Users\\David\n",
      "[nltk_data]    |     Blalock\\AppData\\Roaming\\nltk_data...\n",
      "[nltk_data]    |   Package cmudict is already up-to-date!\n",
      "[nltk_data]    | Downloading package gazetteers to C:\\Users\\David\n",
      "[nltk_data]    |     Blalock\\AppData\\Roaming\\nltk_data...\n",
      "[nltk_data]    |   Package gazetteers is already up-to-date!\n",
      "[nltk_data]    | Downloading package genesis to C:\\Users\\David\n",
      "[nltk_data]    |     Blalock\\AppData\\Roaming\\nltk_data...\n",
      "[nltk_data]    |   Package genesis is already up-to-date!\n",
      "[nltk_data]    | Downloading package gutenberg to C:\\Users\\David\n",
      "[nltk_data]    |     Blalock\\AppData\\Roaming\\nltk_data...\n",
      "[nltk_data]    |   Package gutenberg is already up-to-date!\n",
      "[nltk_data]    | Downloading package inaugural to C:\\Users\\David\n",
      "[nltk_data]    |     Blalock\\AppData\\Roaming\\nltk_data...\n",
      "[nltk_data]    |   Package inaugural is already up-to-date!\n",
      "[nltk_data]    | Downloading package movie_reviews to C:\\Users\\David\n",
      "[nltk_data]    |     Blalock\\AppData\\Roaming\\nltk_data...\n",
      "[nltk_data]    |   Package movie_reviews is already up-to-date!\n",
      "[nltk_data]    | Downloading package names to C:\\Users\\David\n",
      "[nltk_data]    |     Blalock\\AppData\\Roaming\\nltk_data...\n",
      "[nltk_data]    |   Package names is already up-to-date!\n",
      "[nltk_data]    | Downloading package shakespeare to C:\\Users\\David\n",
      "[nltk_data]    |     Blalock\\AppData\\Roaming\\nltk_data...\n",
      "[nltk_data]    |   Package shakespeare is already up-to-date!\n",
      "[nltk_data]    | Downloading package stopwords to C:\\Users\\David\n",
      "[nltk_data]    |     Blalock\\AppData\\Roaming\\nltk_data...\n",
      "[nltk_data]    |   Package stopwords is already up-to-date!\n",
      "[nltk_data]    | Downloading package treebank to C:\\Users\\David\n",
      "[nltk_data]    |     Blalock\\AppData\\Roaming\\nltk_data...\n",
      "[nltk_data]    |   Package treebank is already up-to-date!\n",
      "[nltk_data]    | Downloading package twitter_samples to C:\\Users\\David\n",
      "[nltk_data]    |     Blalock\\AppData\\Roaming\\nltk_data...\n",
      "[nltk_data]    |   Package twitter_samples is already up-to-date!\n",
      "[nltk_data]    | Downloading package omw to C:\\Users\\David\n",
      "[nltk_data]    |     Blalock\\AppData\\Roaming\\nltk_data...\n",
      "[nltk_data]    |   Package omw is already up-to-date!\n",
      "[nltk_data]    | Downloading package wordnet to C:\\Users\\David\n",
      "[nltk_data]    |     Blalock\\AppData\\Roaming\\nltk_data...\n",
      "[nltk_data]    |   Package wordnet is already up-to-date!\n",
      "[nltk_data]    | Downloading package wordnet_ic to C:\\Users\\David\n",
      "[nltk_data]    |     Blalock\\AppData\\Roaming\\nltk_data...\n",
      "[nltk_data]    |   Package wordnet_ic is already up-to-date!\n",
      "[nltk_data]    | Downloading package words to C:\\Users\\David\n",
      "[nltk_data]    |     Blalock\\AppData\\Roaming\\nltk_data...\n",
      "[nltk_data]    |   Package words is already up-to-date!\n",
      "[nltk_data]    | Downloading package maxent_ne_chunker to\n",
      "[nltk_data]    |     C:\\Users\\David\n",
      "[nltk_data]    |     Blalock\\AppData\\Roaming\\nltk_data...\n",
      "[nltk_data]    |   Package maxent_ne_chunker is already up-to-date!\n",
      "[nltk_data]    | Downloading package punkt to C:\\Users\\David\n",
      "[nltk_data]    |     Blalock\\AppData\\Roaming\\nltk_data...\n",
      "[nltk_data]    |   Package punkt is already up-to-date!\n",
      "[nltk_data]    | Downloading package snowball_data to C:\\Users\\David\n",
      "[nltk_data]    |     Blalock\\AppData\\Roaming\\nltk_data...\n",
      "[nltk_data]    |   Package snowball_data is already up-to-date!\n",
      "[nltk_data]    | Downloading package averaged_perceptron_tagger to\n",
      "[nltk_data]    |     C:\\Users\\David\n",
      "[nltk_data]    |     Blalock\\AppData\\Roaming\\nltk_data...\n",
      "[nltk_data]    |   Package averaged_perceptron_tagger is already up-\n",
      "[nltk_data]    |       to-date!\n",
      "[nltk_data]    | \n",
      "[nltk_data]  Done downloading collection popular\n"
     ]
    }
   ],
   "source": [
    "import nltk\n",
    "nltk.download('popular')\n",
    "from nltk.probability import FreqDist"
   ]
  },
  {
   "cell_type": "code",
   "execution_count": 110,
   "metadata": {},
   "outputs": [],
   "source": [
    "from string import punctuation\n",
    "from nltk.stem import PorterStemmer\n",
    "from nltk.corpus import stopwords\n",
    "from nltk.tokenize import RegexpTokenizer"
   ]
  },
  {
   "cell_type": "code",
   "execution_count": 116,
   "metadata": {},
   "outputs": [
    {
     "data": {
      "text/plain": [
       "['Company_Industry',\n",
       " 'Health',\n",
       " 'Care',\n",
       " 'Government',\n",
       " 'Banks',\n",
       " 'and',\n",
       " 'Financial',\n",
       " 'Services',\n",
       " 'Government',\n",
       " 'Education',\n",
       " 'and',\n",
       " 'Schools',\n",
       " 'Human',\n",
       " 'Resources',\n",
       " 'and',\n",
       " 'Staffing',\n",
       " 'Human',\n",
       " 'Resources',\n",
       " 'and',\n",
       " 'Staffing',\n",
       " 'Banks',\n",
       " 'and',\n",
       " 'Financial',\n",
       " 'Services',\n",
       " 'Banks',\n",
       " 'and',\n",
       " 'Financial',\n",
       " 'Services',\n",
       " 'Aerospace',\n",
       " 'and',\n",
       " 'Defense',\n",
       " 'rows',\n",
       " 'x',\n",
       " 'columns']"
      ]
     },
     "execution_count": 116,
     "metadata": {},
     "output_type": "execute_result"
    }
   ],
   "source": [
    "tokenizer = RegexpTokenizer(r'\\w+')\n",
    "tokens = tokenizer.tokenize(output)\n",
    "tokens"
   ]
  },
  {
   "cell_type": "code",
   "execution_count": 118,
   "metadata": {},
   "outputs": [],
   "source": [
    "tokens_str = str(tokens)"
   ]
  },
  {
   "cell_type": "code",
   "execution_count": 136,
   "metadata": {},
   "outputs": [
    {
     "name": "stdout",
     "output_type": "stream",
     "text": [
      "[\"'Company_Industry\", \"'Health\", \"'Care\", \"'Government\", \"'Banks\", \"'and\", \"'Financial\", \"'Services\", \"'Government\", \"'Education\", \"'and\", \"'Schools\", \"'Human\", \"'Resources\", \"'and\", \"'Staffing\", \"'Human\", \"'Resources\", \"'and\", \"'Staffing\", \"'Banks\", \"'and\", \"'Financial\", \"'Services\", \"'Banks\", \"'and\", \"'Financial\", \"'Services\", \"'Aerospace\", \"'and\", \"'Defense\", \"'rows\", 'x', \"'columns\"]\n"
     ]
    }
   ],
   "source": [
    "from nltk.corpus import stopwords\n",
    "from nltk.tokenize import word_tokenize\n",
    "stopwords = set(stopwords.words('english')+ list(punctuation))\n",
    "word_tokens = word_tokenize(tokens_str)\n",
    "filtered_words = [w for w in word_tokens if not w in stopwords]\n",
    "filtered_words = []\n",
    "for w in word_tokens:\n",
    "    if w not in stopwords:\n",
    "        filtered_words.append(w)\n",
    "print(filtered_words)"
   ]
  },
  {
   "cell_type": "code",
   "execution_count": 149,
   "metadata": {},
   "outputs": [
    {
     "name": "stdout",
     "output_type": "stream",
     "text": [
      "Vector of frequencies:\n",
      " [1, 1, 1, 2, 3, 7, 3, 3, 1, 1, 2, 2, 2, 1, 1, 1, 1, 1]\n",
      "Corresponding words:\n",
      " [\"['Company_Industry',\", \"'Health',\", \"'Care',\", \"'Government',\", \"'Banks',\", \"'and',\", \"'Financial',\", \"'Services',\", \"'Education',\", \"'Schools',\", \"'Human',\", \"'Resources',\", \"'Staffing',\", \"'Aerospace',\", \"'Defense',\", \"'rows',\", \"'x',\", \"'columns']\"]\n"
     ]
    }
   ],
   "source": [
    "from collections import Counter\n",
    "word_frequency = Counter(tokens_str.split())\n",
    "print(\"Vector of frequencies:\\n {}\".format(list(word_frequency.values())))\n",
    "print(\"Corresponding words:\\n {}\".format(list(word_frequency.keys())))"
   ]
  },
  {
   "cell_type": "code",
   "execution_count": null,
   "metadata": {},
   "outputs": [],
   "source": []
  },
  {
   "cell_type": "code",
   "execution_count": 150,
   "metadata": {},
   "outputs": [
    {
     "data": {
      "text/plain": [
       "Counter({\"['Company_Industry',\": 1,\n",
       "         \"'Health',\": 1,\n",
       "         \"'Care',\": 1,\n",
       "         \"'Government',\": 2,\n",
       "         \"'Banks',\": 3,\n",
       "         \"'and',\": 7,\n",
       "         \"'Financial',\": 3,\n",
       "         \"'Services',\": 3,\n",
       "         \"'Education',\": 1,\n",
       "         \"'Schools',\": 1,\n",
       "         \"'Human',\": 2,\n",
       "         \"'Resources',\": 2,\n",
       "         \"'Staffing',\": 2,\n",
       "         \"'Aerospace',\": 1,\n",
       "         \"'Defense',\": 1,\n",
       "         \"'rows',\": 1,\n",
       "         \"'x',\": 1,\n",
       "         \"'columns']\": 1})"
      ]
     },
     "execution_count": 150,
     "metadata": {},
     "output_type": "execute_result"
    }
   ],
   "source": [
    "word_frequency"
   ]
  },
  {
   "cell_type": "code",
   "execution_count": 151,
   "metadata": {},
   "outputs": [
    {
     "name": "stdout",
     "output_type": "stream",
     "text": [
      "<FreqDist with 18 samples and 34 outcomes>\n"
     ]
    }
   ],
   "source": [
    "fdist1 = FreqDist(word_frequency)\n",
    "print(fdist1)"
   ]
  },
  {
   "cell_type": "code",
   "execution_count": 152,
   "metadata": {},
   "outputs": [
    {
     "data": {
      "text/plain": [
       "FreqDist({\"'and',\": 7, \"'Banks',\": 3, \"'Financial',\": 3, \"'Services',\": 3, \"'Government',\": 2, \"'Human',\": 2, \"'Resources',\": 2, \"'Staffing',\": 2, \"['Company_Industry',\": 1, \"'Health',\": 1, ...})"
      ]
     },
     "execution_count": 152,
     "metadata": {},
     "output_type": "execute_result"
    }
   ],
   "source": [
    "fdist1"
   ]
  },
  {
   "cell_type": "code",
   "execution_count": 153,
   "metadata": {},
   "outputs": [
    {
     "data": {
      "text/plain": [
       "[(\"'and',\", 7),\n",
       " (\"'Banks',\", 3),\n",
       " (\"'Financial',\", 3),\n",
       " (\"'Services',\", 3),\n",
       " (\"'Government',\", 2),\n",
       " (\"'Human',\", 2),\n",
       " (\"'Resources',\", 2),\n",
       " (\"'Staffing',\", 2),\n",
       " (\"['Company_Industry',\", 1),\n",
       " (\"'Health',\", 1)]"
      ]
     },
     "execution_count": 153,
     "metadata": {},
     "output_type": "execute_result"
    }
   ],
   "source": [
    "word_frequency.most_common(10)"
   ]
  },
  {
   "cell_type": "code",
   "execution_count": 154,
   "metadata": {},
   "outputs": [
    {
     "data": {
      "image/png": "[encoded data removed]",
      "text/plain": [
       "<Figure size 432x288 with 1 Axes>"
      ]
     },
     "metadata": {
      "needs_background": "light"
     },
     "output_type": "display_data"
    },
    {
     "data": {
      "text/plain": [
       "<matplotlib.axes._subplots.AxesSubplot at 0x1eafe594f98>"
      ]
     },
     "execution_count": 154,
     "metadata": {},
     "output_type": "execute_result"
    }
   ],
   "source": [
    "fdist1.plot(10)"
   ]
  },
  {
   "cell_type": "code",
   "execution_count": 160,
   "metadata": {},
   "outputs": [
    {
     "data": {
      "image/png": "[encoded data removed]",
      "text/plain": [
       "<Figure size 432x288 with 1 Axes>"
      ]
     },
     "metadata": {
      "needs_background": "light"
     },
     "output_type": "display_data"
    }
   ],
   "source": [
    "from wordcloud import WordCloud\n",
    "import matplotlib.pyplot as plt\n",
    "wordcloud = WordCloud().generate_from_frequencies(fdist1)\n",
    "plt.imshow(wordcloud)\n",
    "plt.axis(\"off\")\n",
    "plt.show()"
   ]
  },
  {
   "cell_type": "code",
   "execution_count": null,
   "metadata": {},
   "outputs": [],
   "source": []
  }
 ],
 "metadata": {
  "kernelspec": {
   "display_name": "Conda [PythonData]",
   "language": "python",
   "name": "pythondata"
  },
  "language_info": {
   "codemirror_mode": {
    "name": "ipython",
    "version": 3
   },
   "file_extension": ".py",
   "mimetype": "text/x-python",
   "name": "python",
   "nbconvert_exporter": "python",
   "pygments_lexer": "ipython3",
   "version": "3.6.9"
  }
 },
 "nbformat": 4,
 "nbformat_minor": 2
}
