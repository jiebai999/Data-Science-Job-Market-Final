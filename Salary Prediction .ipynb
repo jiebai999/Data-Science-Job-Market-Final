{
 "cells": [
  {
   "cell_type": "markdown",
   "metadata": {},
   "source": [
    "## Machine Learning Project on Data Professional Job Market ---Jan. 2020"
   ]
  },
  {
   "cell_type": "markdown",
   "metadata": {},
   "source": [
    "### Author: Jennifer Lawless & Jie Bai"
   ]
  },
  {
   "cell_type": "code",
   "execution_count": 2,
   "metadata": {},
   "outputs": [],
   "source": [
    "# Import all the required packages\n",
    "import pandas as pd\n",
    "import numpy as np\n",
    "import matplotlib.pyplot as plt\n",
    "import seaborn\n",
    "import re\n",
    "import sklearn\n",
    "import urllib\n",
    "import requests\n",
    "import sys\n",
    "import nltk\n",
    "from sklearn import datasets, linear_model\n",
    "from sklearn.metrics import mean_squared_error, r2_score\n",
    "from sklearn.feature_extraction.text import TfidfVectorizer\n",
    "from sklearn.preprocessing import LabelEncoder\n",
    "from nltk.stem import PorterStemmer\n",
    "from sklearn.model_selection import train_test_split\n",
    "from sklearn.svm import SVC\n",
    "from sklearn.metrics import accuracy_score,confusion_matrix\n",
    "from sklearn.linear_model import SGDClassifier\n",
    "from sklearn.ensemble import GradientBoostingClassifier\n",
    "from sklearn.naive_bayes import MultinomialNB\n",
    "from bs4 import BeautifulSoup as Soup\n",
    "from tqdm import tqdm\n",
    "from furl import furl\n",
    "from sklearn.feature_extraction.text import CountVectorizer\n",
    "from sklearn.neighbors import KNeighborsClassifier\n",
    "from sklearn.linear_model import LogisticRegression\n",
    "from sklearn.tree import DecisionTreeClassifier\n",
    "from sklearn.ensemble import VotingClassifier\n",
    "from sklearn.metrics import accuracy_score\n",
    "from scipy.stats import norm"
   ]
  },
  {
   "cell_type": "code",
   "execution_count": 3,
   "metadata": {},
   "outputs": [
    {
     "name": "stdout",
     "output_type": "stream",
     "text": [
      "Job_Title                            object\n",
      "Link                                 object\n",
      "Queried_Salary                       object\n",
      "Job_Type                             object\n",
      "Skill                                object\n",
      "No_of_Skills                        float64\n",
      "Company                              object\n",
      "No_of_Reviews                       float64\n",
      "No_of_Stars                         float64\n",
      "Date_Since_Posted                   float64\n",
      "Description                          object\n",
      "Location                             object\n",
      "Company_Revenue                      object\n",
      "Company_Employees                    object\n",
      "Company_Industry                     object\n",
      "python                              float64\n",
      "sql                                 float64\n",
      "machine learning                    float64\n",
      "r                                   float64\n",
      "hadoop                              float64\n",
      "tableau                             float64\n",
      "sas                                 float64\n",
      "spark                               float64\n",
      "java                                float64\n",
      "Others                              float64\n",
      "CA                                  float64\n",
      "NY                                  float64\n",
      "VA                                  float64\n",
      "TX                                  float64\n",
      "MA                                  float64\n",
      "IL                                  float64\n",
      "WA                                  float64\n",
      "MD                                  float64\n",
      "DC                                  float64\n",
      "NC                                  float64\n",
      "Other_states                        float64\n",
      "Consulting and Business Services    float64\n",
      "Internet and Software               float64\n",
      "Banks and Financial Services        float64\n",
      "Health Care                         float64\n",
      "Insurance                           float64\n",
      "Other_industries                    float64\n",
      "dtype: object\n",
      "(5716, 42)\n"
     ]
    },
    {
     "data": {
      "text/html": [
       "<div>\n",
       "<style scoped>\n",
       "    .dataframe tbody tr th:only-of-type {\n",
       "        vertical-align: middle;\n",
       "    }\n",
       "\n",
       "    .dataframe tbody tr th {\n",
       "        vertical-align: top;\n",
       "    }\n",
       "\n",
       "    .dataframe thead th {\n",
       "        text-align: right;\n",
       "    }\n",
       "</style>\n",
       "<table border=\"1\" class=\"dataframe\">\n",
       "  <thead>\n",
       "    <tr style=\"text-align: right;\">\n",
       "      <th></th>\n",
       "      <th>Job_Title</th>\n",
       "      <th>Link</th>\n",
       "      <th>Queried_Salary</th>\n",
       "      <th>Job_Type</th>\n",
       "      <th>Skill</th>\n",
       "      <th>No_of_Skills</th>\n",
       "      <th>Company</th>\n",
       "      <th>No_of_Reviews</th>\n",
       "      <th>No_of_Stars</th>\n",
       "      <th>Date_Since_Posted</th>\n",
       "      <th>...</th>\n",
       "      <th>MD</th>\n",
       "      <th>DC</th>\n",
       "      <th>NC</th>\n",
       "      <th>Other_states</th>\n",
       "      <th>Consulting and Business Services</th>\n",
       "      <th>Internet and Software</th>\n",
       "      <th>Banks and Financial Services</th>\n",
       "      <th>Health Care</th>\n",
       "      <th>Insurance</th>\n",
       "      <th>Other_industries</th>\n",
       "    </tr>\n",
       "  </thead>\n",
       "  <tbody>\n",
       "    <tr>\n",
       "      <td>0</td>\n",
       "      <td>Data Scientist</td>\n",
       "      <td>https://www.indeed.com/rc/clk?jk=6a105f495c36a...</td>\n",
       "      <td>&lt;80000</td>\n",
       "      <td>data_scientist</td>\n",
       "      <td>SAP, SQL</td>\n",
       "      <td>2.0</td>\n",
       "      <td>Express Scripts</td>\n",
       "      <td>3301.0</td>\n",
       "      <td>3.3</td>\n",
       "      <td>1.0</td>\n",
       "      <td>...</td>\n",
       "      <td>0.0</td>\n",
       "      <td>0.0</td>\n",
       "      <td>0.0</td>\n",
       "      <td>1.0</td>\n",
       "      <td>0.0</td>\n",
       "      <td>0.0</td>\n",
       "      <td>0.0</td>\n",
       "      <td>1.0</td>\n",
       "      <td>0.0</td>\n",
       "      <td>0.0</td>\n",
       "    </tr>\n",
       "    <tr>\n",
       "      <td>1</td>\n",
       "      <td>Data Scientist</td>\n",
       "      <td>https://www.indeed.com/rc/clk?jk=86afd561ea8c6...</td>\n",
       "      <td>&lt;80000</td>\n",
       "      <td>data_scientist</td>\n",
       "      <td>Machine Learning, R, SAS, SQL, Python</td>\n",
       "      <td>5.0</td>\n",
       "      <td>Money Mart Financial Services</td>\n",
       "      <td>NaN</td>\n",
       "      <td>NaN</td>\n",
       "      <td>15.0</td>\n",
       "      <td>...</td>\n",
       "      <td>0.0</td>\n",
       "      <td>0.0</td>\n",
       "      <td>0.0</td>\n",
       "      <td>0.0</td>\n",
       "      <td>0.0</td>\n",
       "      <td>0.0</td>\n",
       "      <td>0.0</td>\n",
       "      <td>0.0</td>\n",
       "      <td>0.0</td>\n",
       "      <td>0.0</td>\n",
       "    </tr>\n",
       "    <tr>\n",
       "      <td>2</td>\n",
       "      <td>Data Scientist</td>\n",
       "      <td>https://www.indeed.com/rc/clk?jk=e0aad317e6d45...</td>\n",
       "      <td>&lt;80000</td>\n",
       "      <td>data_scientist</td>\n",
       "      <td>Data Mining, Data Management, R, SAS, SQL, STA...</td>\n",
       "      <td>9.0</td>\n",
       "      <td>comScore</td>\n",
       "      <td>62.0</td>\n",
       "      <td>3.5</td>\n",
       "      <td>1.0</td>\n",
       "      <td>...</td>\n",
       "      <td>0.0</td>\n",
       "      <td>0.0</td>\n",
       "      <td>0.0</td>\n",
       "      <td>1.0</td>\n",
       "      <td>0.0</td>\n",
       "      <td>0.0</td>\n",
       "      <td>0.0</td>\n",
       "      <td>0.0</td>\n",
       "      <td>0.0</td>\n",
       "      <td>0.0</td>\n",
       "    </tr>\n",
       "    <tr>\n",
       "      <td>3</td>\n",
       "      <td>Graduate Studies Program - Data Scientist</td>\n",
       "      <td>https://www.indeed.com/rc/clk?jk=1cfdd9e391a63...</td>\n",
       "      <td>&lt;80000</td>\n",
       "      <td>data_scientist</td>\n",
       "      <td>Certified Internal Auditor</td>\n",
       "      <td>1.0</td>\n",
       "      <td>Central Intelligence Agency</td>\n",
       "      <td>158.0</td>\n",
       "      <td>4.3</td>\n",
       "      <td>30.0</td>\n",
       "      <td>...</td>\n",
       "      <td>0.0</td>\n",
       "      <td>1.0</td>\n",
       "      <td>0.0</td>\n",
       "      <td>0.0</td>\n",
       "      <td>0.0</td>\n",
       "      <td>0.0</td>\n",
       "      <td>0.0</td>\n",
       "      <td>0.0</td>\n",
       "      <td>0.0</td>\n",
       "      <td>1.0</td>\n",
       "    </tr>\n",
       "    <tr>\n",
       "      <td>4</td>\n",
       "      <td>Data Scientist I</td>\n",
       "      <td>https://www.indeed.com/rc/clk?jk=fec647775a21e...</td>\n",
       "      <td>&lt;80000</td>\n",
       "      <td>data_scientist</td>\n",
       "      <td>Statistical Software, Time Management, R, Micr...</td>\n",
       "      <td>7.0</td>\n",
       "      <td>Federal Reserve Bank of Dallas</td>\n",
       "      <td>495.0</td>\n",
       "      <td>4.1</td>\n",
       "      <td>30.0</td>\n",
       "      <td>...</td>\n",
       "      <td>0.0</td>\n",
       "      <td>0.0</td>\n",
       "      <td>0.0</td>\n",
       "      <td>0.0</td>\n",
       "      <td>0.0</td>\n",
       "      <td>0.0</td>\n",
       "      <td>1.0</td>\n",
       "      <td>0.0</td>\n",
       "      <td>0.0</td>\n",
       "      <td>0.0</td>\n",
       "    </tr>\n",
       "  </tbody>\n",
       "</table>\n",
       "<p>5 rows × 42 columns</p>\n",
       "</div>"
      ],
      "text/plain": [
       "                                   Job_Title  \\\n",
       "0                             Data Scientist   \n",
       "1                             Data Scientist   \n",
       "2                             Data Scientist   \n",
       "3  Graduate Studies Program - Data Scientist   \n",
       "4                           Data Scientist I   \n",
       "\n",
       "                                                Link Queried_Salary  \\\n",
       "0  https://www.indeed.com/rc/clk?jk=6a105f495c36a...         <80000   \n",
       "1  https://www.indeed.com/rc/clk?jk=86afd561ea8c6...         <80000   \n",
       "2  https://www.indeed.com/rc/clk?jk=e0aad317e6d45...         <80000   \n",
       "3  https://www.indeed.com/rc/clk?jk=1cfdd9e391a63...         <80000   \n",
       "4  https://www.indeed.com/rc/clk?jk=fec647775a21e...         <80000   \n",
       "\n",
       "         Job_Type                                              Skill  \\\n",
       "0  data_scientist                                           SAP, SQL   \n",
       "1  data_scientist              Machine Learning, R, SAS, SQL, Python   \n",
       "2  data_scientist  Data Mining, Data Management, R, SAS, SQL, STA...   \n",
       "3  data_scientist                         Certified Internal Auditor   \n",
       "4  data_scientist  Statistical Software, Time Management, R, Micr...   \n",
       "\n",
       "   No_of_Skills                         Company  No_of_Reviews  No_of_Stars  \\\n",
       "0           2.0                 Express Scripts         3301.0          3.3   \n",
       "1           5.0   Money Mart Financial Services            NaN          NaN   \n",
       "2           9.0                        comScore           62.0          3.5   \n",
       "3           1.0     Central Intelligence Agency          158.0          4.3   \n",
       "4           7.0  Federal Reserve Bank of Dallas          495.0          4.1   \n",
       "\n",
       "   Date_Since_Posted  ...   MD   DC   NC Other_states  \\\n",
       "0                1.0  ...  0.0  0.0  0.0          1.0   \n",
       "1               15.0  ...  0.0  0.0  0.0          0.0   \n",
       "2                1.0  ...  0.0  0.0  0.0          1.0   \n",
       "3               30.0  ...  0.0  1.0  0.0          0.0   \n",
       "4               30.0  ...  0.0  0.0  0.0          0.0   \n",
       "\n",
       "  Consulting and Business Services  Internet and Software  \\\n",
       "0                              0.0                    0.0   \n",
       "1                              0.0                    0.0   \n",
       "2                              0.0                    0.0   \n",
       "3                              0.0                    0.0   \n",
       "4                              0.0                    0.0   \n",
       "\n",
       "   Banks and Financial Services  Health Care  Insurance  Other_industries  \n",
       "0                           0.0          1.0        0.0               0.0  \n",
       "1                           0.0          0.0        0.0               0.0  \n",
       "2                           0.0          0.0        0.0               0.0  \n",
       "3                           0.0          0.0        0.0               1.0  \n",
       "4                           1.0          0.0        0.0               0.0  \n",
       "\n",
       "[5 rows x 42 columns]"
      ]
     },
     "execution_count": 3,
     "metadata": {},
     "output_type": "execute_result"
    }
   ],
   "source": [
    "#Loading the data\n",
    "df = pd.read_csv('Resources/indeed_job_dataset.csv')\n",
    "df = df.drop(columns='Unnamed: 0')\n",
    "df = df.drop(columns='Unnamed: 6')\n",
    "#df = df[['Job_Type','Queried_Salary','No_of_Skills','Company','Company_Industry','Location']].copy()\n",
    "print(df.dtypes)\n",
    "print(df.shape)\n",
    "df.head()"
   ]
  },
  {
   "cell_type": "code",
   "execution_count": 4,
   "metadata": {},
   "outputs": [],
   "source": [
    "industry_clean = df.dropna(subset=['Company_Industry'])"
   ]
  },
  {
   "cell_type": "code",
   "execution_count": 5,
   "metadata": {},
   "outputs": [
    {
     "data": {
      "text/plain": [
       "'0                        Health Care\\n3                         Government\\n4       Banks and Financial Services\\n6                         Government\\n8              Education and Schools\\n                    ...             \\n5707    Human Resources and Staffing\\n5710    Human Resources and Staffing\\n5711    Banks and Financial Services\\n5712    Banks and Financial Services\\n5713           Aerospace and Defense\\nName: Company_Industry, Length: 3825, dtype: object'"
      ]
     },
     "execution_count": 5,
     "metadata": {},
     "output_type": "execute_result"
    }
   ],
   "source": [
    "industry = str(industry_clean.Company_Industry)\n",
    "industry"
   ]
  },
  {
   "cell_type": "code",
   "execution_count": 6,
   "metadata": {},
   "outputs": [
    {
     "data": {
      "text/html": [
       "<div>\n",
       "<style scoped>\n",
       "    .dataframe tbody tr th:only-of-type {\n",
       "        vertical-align: middle;\n",
       "    }\n",
       "\n",
       "    .dataframe tbody tr th {\n",
       "        vertical-align: top;\n",
       "    }\n",
       "\n",
       "    .dataframe thead th {\n",
       "        text-align: right;\n",
       "    }\n",
       "</style>\n",
       "<table border=\"1\" class=\"dataframe\">\n",
       "  <thead>\n",
       "    <tr style=\"text-align: right;\">\n",
       "      <th></th>\n",
       "      <th>Company_Industry</th>\n",
       "    </tr>\n",
       "  </thead>\n",
       "  <tbody>\n",
       "    <tr>\n",
       "      <td>0</td>\n",
       "      <td>Health Care</td>\n",
       "    </tr>\n",
       "    <tr>\n",
       "      <td>3</td>\n",
       "      <td>Government</td>\n",
       "    </tr>\n",
       "    <tr>\n",
       "      <td>4</td>\n",
       "      <td>Banks and Financial Services</td>\n",
       "    </tr>\n",
       "    <tr>\n",
       "      <td>6</td>\n",
       "      <td>Government</td>\n",
       "    </tr>\n",
       "    <tr>\n",
       "      <td>8</td>\n",
       "      <td>Education and Schools</td>\n",
       "    </tr>\n",
       "  </tbody>\n",
       "</table>\n",
       "</div>"
      ],
      "text/plain": [
       "               Company_Industry\n",
       "0                   Health Care\n",
       "3                    Government\n",
       "4  Banks and Financial Services\n",
       "6                    Government\n",
       "8         Education and Schools"
      ]
     },
     "execution_count": 6,
     "metadata": {},
     "output_type": "execute_result"
    }
   ],
   "source": [
    "ind = pd.DataFrame(industry_clean.Company_Industry)\n",
    "ind.head()"
   ]
  },
  {
   "cell_type": "code",
   "execution_count": 8,
   "metadata": {},
   "outputs": [
    {
     "data": {
      "text/plain": [
       "Consulting and Business Services                                   733\n",
       "Internet and Software                                              647\n",
       "Banks and Financial Services                                       459\n",
       "Health Care                                                        339\n",
       "Insurance                                                          227\n",
       "Industrial Manufacturing                                           153\n",
       "Aerospace and Defense                                              129\n",
       "Retail                                                             122\n",
       "Education and Schools                                              121\n",
       "Computers and Electronics                                           99\n",
       "Consumer Goods and Services                                         98\n",
       "Media, News and Publishing                                          96\n",
       "Telecommunications                                                  73\n",
       "Human Resources and Staffing                                        73\n",
       "Government                                                          63\n",
       "Pharmaceuticals                                                     58\n",
       "Auto                                                                45\n",
       "Energy and Utilities                                                45\n",
       "Restaurants, Travel and Leisure                                     44\n",
       "Transport and Freight                                               41\n",
       "InsuranceHealth Care                                                37\n",
       "Real Estate                                                         28\n",
       "Organization                                                        27\n",
       "Agriculture and Extraction                                          18\n",
       "Food and Beverages                                                  18\n",
       "Construction                                                        16\n",
       "RetailConsumer Goods and Services                                    6\n",
       "Restaurants, Travel and LeisureConsulting and Business Services      3\n",
       "Real EstateReal Estate                                               2\n",
       "Industrial ManufacturingConsumer Goods and Services                  2\n",
       "Food and BeveragesConsulting and Business Services                   1\n",
       "Industrial ManufacturingAgriculture and Extraction                   1\n",
       "Industrial ManufacturingConstruction                                 1\n",
       "Name: Company_Industry, dtype: int64"
      ]
     },
     "execution_count": 8,
     "metadata": {},
     "output_type": "execute_result"
    }
   ],
   "source": [
    "ind['Company_Industry'].value_counts()"
   ]
  },
  {
   "cell_type": "code",
   "execution_count": 9,
   "metadata": {},
   "outputs": [
    {
     "data": {
      "text/plain": [
       "33"
      ]
     },
     "execution_count": 9,
     "metadata": {},
     "output_type": "execute_result"
    }
   ],
   "source": [
    "len(ind['Company_Industry'].unique())"
   ]
  },
  {
   "cell_type": "code",
   "execution_count": 10,
   "metadata": {},
   "outputs": [
    {
     "name": "stdout",
     "output_type": "stream",
     "text": [
      "444\n"
     ]
    }
   ],
   "source": [
    "industry1 = str(ind)\n",
    "print(len(industry1))"
   ]
  },
  {
   "cell_type": "code",
   "execution_count": 11,
   "metadata": {},
   "outputs": [
    {
     "name": "stdout",
     "output_type": "stream",
     "text": [
      "                  Company_Industry\n",
      "                      Health Care\n",
      "                       Government\n",
      "     Banks and Financial Services\n",
      "                       Government\n",
      "            Education and Schools\n",
      "...                            ...\n",
      "  Human Resources and Staffing\n",
      "  Human Resources and Staffing\n",
      "  Banks and Financial Services\n",
      "  Banks and Financial Services\n",
      "         Aerospace and Defense\n",
      "\n",
      "[ rows x  columns]\n"
     ]
    }
   ],
   "source": [
    "import re\n",
    "output = re.sub(r'\\d+', '', industry1)\n",
    "print(output)"
   ]
  },
  {
   "cell_type": "code",
   "execution_count": 12,
   "metadata": {},
   "outputs": [
    {
     "name": "stderr",
     "output_type": "stream",
     "text": [
      "[nltk_data] Downloading collection 'popular'\n",
      "[nltk_data]    | \n",
      "[nltk_data]    | Downloading package cmudict to\n",
      "[nltk_data]    |     /Users/jiebai/nltk_data...\n",
      "[nltk_data]    |   Unzipping corpora/cmudict.zip.\n",
      "[nltk_data]    | Downloading package gazetteers to\n",
      "[nltk_data]    |     /Users/jiebai/nltk_data...\n",
      "[nltk_data]    |   Unzipping corpora/gazetteers.zip.\n",
      "[nltk_data]    | Downloading package genesis to\n",
      "[nltk_data]    |     /Users/jiebai/nltk_data...\n",
      "[nltk_data]    |   Package genesis is already up-to-date!\n",
      "[nltk_data]    | Downloading package gutenberg to\n",
      "[nltk_data]    |     /Users/jiebai/nltk_data...\n",
      "[nltk_data]    |   Package gutenberg is already up-to-date!\n",
      "[nltk_data]    | Downloading package inaugural to\n",
      "[nltk_data]    |     /Users/jiebai/nltk_data...\n",
      "[nltk_data]    |   Package inaugural is already up-to-date!\n",
      "[nltk_data]    | Downloading package movie_reviews to\n",
      "[nltk_data]    |     /Users/jiebai/nltk_data...\n",
      "[nltk_data]    |   Unzipping corpora/movie_reviews.zip.\n",
      "[nltk_data]    | Downloading package names to\n",
      "[nltk_data]    |     /Users/jiebai/nltk_data...\n",
      "[nltk_data]    |   Unzipping corpora/names.zip.\n",
      "[nltk_data]    | Downloading package shakespeare to\n",
      "[nltk_data]    |     /Users/jiebai/nltk_data...\n",
      "[nltk_data]    |   Unzipping corpora/shakespeare.zip.\n",
      "[nltk_data]    | Downloading package stopwords to\n",
      "[nltk_data]    |     /Users/jiebai/nltk_data...\n",
      "[nltk_data]    |   Package stopwords is already up-to-date!\n",
      "[nltk_data]    | Downloading package treebank to\n",
      "[nltk_data]    |     /Users/jiebai/nltk_data...\n",
      "[nltk_data]    |   Package treebank is already up-to-date!\n",
      "[nltk_data]    | Downloading package twitter_samples to\n",
      "[nltk_data]    |     /Users/jiebai/nltk_data...\n",
      "[nltk_data]    |   Unzipping corpora/twitter_samples.zip.\n",
      "[nltk_data]    | Downloading package omw to /Users/jiebai/nltk_data...\n",
      "[nltk_data]    |   Unzipping corpora/omw.zip.\n",
      "[nltk_data]    | Downloading package wordnet to\n",
      "[nltk_data]    |     /Users/jiebai/nltk_data...\n",
      "[nltk_data]    |   Unzipping corpora/wordnet.zip.\n",
      "[nltk_data]    | Downloading package wordnet_ic to\n",
      "[nltk_data]    |     /Users/jiebai/nltk_data...\n",
      "[nltk_data]    |   Unzipping corpora/wordnet_ic.zip.\n",
      "[nltk_data]    | Downloading package words to\n",
      "[nltk_data]    |     /Users/jiebai/nltk_data...\n",
      "[nltk_data]    |   Package words is already up-to-date!\n",
      "[nltk_data]    | Downloading package maxent_ne_chunker to\n",
      "[nltk_data]    |     /Users/jiebai/nltk_data...\n",
      "[nltk_data]    |   Package maxent_ne_chunker is already up-to-date!\n",
      "[nltk_data]    | Downloading package punkt to\n",
      "[nltk_data]    |     /Users/jiebai/nltk_data...\n",
      "[nltk_data]    |   Package punkt is already up-to-date!\n",
      "[nltk_data]    | Downloading package snowball_data to\n",
      "[nltk_data]    |     /Users/jiebai/nltk_data...\n",
      "[nltk_data]    | Downloading package averaged_perceptron_tagger to\n",
      "[nltk_data]    |     /Users/jiebai/nltk_data...\n",
      "[nltk_data]    |   Package averaged_perceptron_tagger is already up-\n",
      "[nltk_data]    |       to-date!\n",
      "[nltk_data]    | \n",
      "[nltk_data]  Done downloading collection popular\n"
     ]
    }
   ],
   "source": [
    "nltk.download('popular')\n",
    "from nltk.probability import FreqDist"
   ]
  },
  {
   "cell_type": "code",
   "execution_count": 14,
   "metadata": {},
   "outputs": [],
   "source": [
    "from string import punctuation\n",
    "from nltk.stem import PorterStemmer\n",
    "from nltk.corpus import stopwords\n",
    "from nltk.tokenize import RegexpTokenizer"
   ]
  },
  {
   "cell_type": "code",
   "execution_count": 15,
   "metadata": {},
   "outputs": [
    {
     "data": {
      "text/plain": [
       "['Company_Industry',\n",
       " 'Health',\n",
       " 'Care',\n",
       " 'Government',\n",
       " 'Banks',\n",
       " 'and',\n",
       " 'Financial',\n",
       " 'Services',\n",
       " 'Government',\n",
       " 'Education',\n",
       " 'and',\n",
       " 'Schools',\n",
       " 'Human',\n",
       " 'Resources',\n",
       " 'and',\n",
       " 'Staffing',\n",
       " 'Human',\n",
       " 'Resources',\n",
       " 'and',\n",
       " 'Staffing',\n",
       " 'Banks',\n",
       " 'and',\n",
       " 'Financial',\n",
       " 'Services',\n",
       " 'Banks',\n",
       " 'and',\n",
       " 'Financial',\n",
       " 'Services',\n",
       " 'Aerospace',\n",
       " 'and',\n",
       " 'Defense',\n",
       " 'rows',\n",
       " 'x',\n",
       " 'columns']"
      ]
     },
     "execution_count": 15,
     "metadata": {},
     "output_type": "execute_result"
    }
   ],
   "source": [
    "tokenizer = RegexpTokenizer(r'\\w+')\n",
    "tokens = tokenizer.tokenize(output)\n",
    "tokens"
   ]
  },
  {
   "cell_type": "code",
   "execution_count": 16,
   "metadata": {},
   "outputs": [],
   "source": [
    "tokens_str = str(tokens)"
   ]
  },
  {
   "cell_type": "code",
   "execution_count": 17,
   "metadata": {},
   "outputs": [
    {
     "name": "stdout",
     "output_type": "stream",
     "text": [
      "[\"'Company_Industry\", \"'Health\", \"'Care\", \"'Government\", \"'Banks\", \"'and\", \"'Financial\", \"'Services\", \"'Government\", \"'Education\", \"'and\", \"'Schools\", \"'Human\", \"'Resources\", \"'and\", \"'Staffing\", \"'Human\", \"'Resources\", \"'and\", \"'Staffing\", \"'Banks\", \"'and\", \"'Financial\", \"'Services\", \"'Banks\", \"'and\", \"'Financial\", \"'Services\", \"'Aerospace\", \"'and\", \"'Defense\", \"'rows\", 'x', \"'columns\"]\n"
     ]
    }
   ],
   "source": [
    "from nltk.corpus import stopwords\n",
    "from nltk.tokenize import word_tokenize\n",
    "stopwords = set(stopwords.words('english')+ list(punctuation))\n",
    "word_tokens = word_tokenize(tokens_str)\n",
    "filtered_words = [w for w in word_tokens if not w in stopwords]\n",
    "filtered_words = []\n",
    "for w in word_tokens:\n",
    "    if w not in stopwords:\n",
    "        filtered_words.append(w)\n",
    "print(filtered_words)"
   ]
  },
  {
   "cell_type": "code",
   "execution_count": 18,
   "metadata": {},
   "outputs": [
    {
     "name": "stdout",
     "output_type": "stream",
     "text": [
      "Vector of frequencies:\n",
      " [1, 1, 1, 2, 3, 7, 3, 3, 1, 1, 2, 2, 2, 1, 1, 1, 1, 1]\n",
      "Corresponding words:\n",
      " [\"'Company_Industry\", \"'Health\", \"'Care\", \"'Government\", \"'Banks\", \"'and\", \"'Financial\", \"'Services\", \"'Education\", \"'Schools\", \"'Human\", \"'Resources\", \"'Staffing\", \"'Aerospace\", \"'Defense\", \"'rows\", 'x', \"'columns\"]\n"
     ]
    }
   ],
   "source": [
    "from collections import Counter\n",
    "word_frequency = Counter(filtered_words)\n",
    "print(\"Vector of frequencies:\\n {}\".format(list(word_frequency.values())))\n",
    "print(\"Corresponding words:\\n {}\".format(list(word_frequency.keys())))"
   ]
  },
  {
   "cell_type": "code",
   "execution_count": 19,
   "metadata": {},
   "outputs": [
    {
     "data": {
      "text/plain": [
       "Counter({\"'Company_Industry\": 1,\n",
       "         \"'Health\": 1,\n",
       "         \"'Care\": 1,\n",
       "         \"'Government\": 2,\n",
       "         \"'Banks\": 3,\n",
       "         \"'and\": 7,\n",
       "         \"'Financial\": 3,\n",
       "         \"'Services\": 3,\n",
       "         \"'Education\": 1,\n",
       "         \"'Schools\": 1,\n",
       "         \"'Human\": 2,\n",
       "         \"'Resources\": 2,\n",
       "         \"'Staffing\": 2,\n",
       "         \"'Aerospace\": 1,\n",
       "         \"'Defense\": 1,\n",
       "         \"'rows\": 1,\n",
       "         'x': 1,\n",
       "         \"'columns\": 1})"
      ]
     },
     "execution_count": 19,
     "metadata": {},
     "output_type": "execute_result"
    }
   ],
   "source": [
    "word_frequency"
   ]
  },
  {
   "cell_type": "code",
   "execution_count": 20,
   "metadata": {},
   "outputs": [
    {
     "name": "stdout",
     "output_type": "stream",
     "text": [
      "<FreqDist with 18 samples and 34 outcomes>\n"
     ]
    }
   ],
   "source": [
    "fdist1 = FreqDist(word_frequency)\n",
    "print(fdist1)"
   ]
  },
  {
   "cell_type": "code",
   "execution_count": 21,
   "metadata": {},
   "outputs": [
    {
     "data": {
      "text/plain": [
       "FreqDist({\"'and\": 7, \"'Banks\": 3, \"'Financial\": 3, \"'Services\": 3, \"'Government\": 2, \"'Human\": 2, \"'Resources\": 2, \"'Staffing\": 2, \"'Company_Industry\": 1, \"'Health\": 1, ...})"
      ]
     },
     "execution_count": 21,
     "metadata": {},
     "output_type": "execute_result"
    }
   ],
   "source": [
    "fdist1"
   ]
  },
  {
   "cell_type": "code",
   "execution_count": 22,
   "metadata": {},
   "outputs": [
    {
     "data": {
      "text/plain": [
       "[(\"'and\", 7),\n",
       " (\"'Banks\", 3),\n",
       " (\"'Financial\", 3),\n",
       " (\"'Services\", 3),\n",
       " (\"'Government\", 2),\n",
       " (\"'Human\", 2),\n",
       " (\"'Resources\", 2),\n",
       " (\"'Staffing\", 2),\n",
       " (\"'Company_Industry\", 1),\n",
       " (\"'Health\", 1)]"
      ]
     },
     "execution_count": 22,
     "metadata": {},
     "output_type": "execute_result"
    }
   ],
   "source": [
    "word_frequency.most_common(10)"
   ]
  },
  {
   "cell_type": "code",
   "execution_count": 23,
   "metadata": {},
   "outputs": [
    {
     "name": "stdout",
     "output_type": "stream",
     "text": [
      "{'now', \"shan't\", '/', 'same', '~', 'couldn', '.', '=', 'very', 'has', 'are', '`', 'wasn', 'ourselves', 'until', \"needn't\", 'few', \"should've\", '%', '@', 'doing', 'will', 're', 'mightn', 'we', 'll', 'where', \"aren't\", 'as', 'wouldn', \"don't\", '<', \"wouldn't\", 'both', \"hasn't\", 'in', 'isn', 'mustn', 'ain', 'an', 'did', \"that'll\", 'if', 't', 'be', ';', \"couldn't\", 'into', 'from', 'all', 'your', 'didn', 'over', \"weren't\", 'were', 'further', 'their', 'after', 'you', 'yours', 'that', 'above', 'have', 'our', 'do', 'being', ']', 'won', 'these', 'off', ')', 'ma', 'himself', \"she's\", ':', '\\\\', 'on', 'shan', 'can', 'which', 'y', 'his', 'or', 'had', 'its', 'than', \"didn't\", 'hasn', 'down', 'own', 'nor', 'too', '[', 'd', '^', 'itself', 'other', 'does', 'haven', 'once', 'am', 'more', '\"', 'weren', '{', 'again', 'been', \"you've\", '(', '_', 'what', 'herself', 'hadn', '+', 'doesn', \"mustn't\", 'the', \"it's\", 'below', \"doesn't\", 'they', 'up', 'and', 'during', 'before', 'how', 'no', 'ours', '*', '-', 'it', '}', \"isn't\", 'needn', 'to', \"haven't\", 'under', 'my', 'between', 'i', 'only', 'but', \"'\", 'me', 'whom', 'themselves', 'out', 'so', \"you'd\", 'this', \"mightn't\", '?', \"you'll\", 'then', 'is', 'when', \"hadn't\", '#', 'by', 'through', 'some', 'them', 've', 'with', '$', 's', 'o', \"won't\", 'of', 'against', 'theirs', 'yourselves', 'those', 'while', 'not', 'why', 'her', 'him', 'there', 'most', 'don', 'any', 'having', 'shouldn', '|', 'he', 'm', 'such', \"shouldn't\", 'just', 'myself', 'who', '!', 'each', 'for', '&', 'should', 'aren', \"wasn't\", 'because', ',', 'a', 'hers', 'here', 'about', 'was', 'she', 'yourself', 'at', \"you're\", '>'}\n"
     ]
    }
   ],
   "source": [
    "print(stopwords)"
   ]
  },
  {
   "cell_type": "code",
   "execution_count": 24,
   "metadata": {},
   "outputs": [
    {
     "data": {
      "image/png": "[encoded data removed]",
      "text/plain": [
       "<Figure size 432x288 with 1 Axes>"
      ]
     },
     "metadata": {
      "needs_background": "light"
     },
     "output_type": "display_data"
    },
    {
     "data": {
      "text/plain": [
       "<matplotlib.axes._subplots.AxesSubplot at 0x129ec9c10>"
      ]
     },
     "execution_count": 24,
     "metadata": {},
     "output_type": "execute_result"
    }
   ],
   "source": [
    "fdist1.plot(10)"
   ]
  },
  {
   "cell_type": "code",
   "execution_count": 27,
   "metadata": {},
   "outputs": [
    {
     "data": {
      "image/png": "[encoded data removed]",
      "text/plain": [
       "<Figure size 432x288 with 1 Axes>"
      ]
     },
     "metadata": {
      "needs_background": "light"
     },
     "output_type": "display_data"
    }
   ],
   "source": [
    "from wordcloud import WordCloud\n",
    "import matplotlib.pyplot as plt\n",
    "wordcloud = WordCloud().generate_from_frequencies(word_frequency)\n",
    "plt.imshow(wordcloud)\n",
    "plt.axis(\"off\")\n",
    "plt.show()"
   ]
  },
  {
   "cell_type": "code",
   "execution_count": 29,
   "metadata": {},
   "outputs": [],
   "source": [
    "data_cleaning = df.replace({'Queried_Salary' : {'<80000': 80000, '80000-99999': 90000, '100000-119999': 110000, '120000-139999': 130000, '140000-159999': 150000, '>160000': 160000}})"
   ]
  },
  {
   "cell_type": "code",
   "execution_count": 30,
   "metadata": {},
   "outputs": [],
   "source": [
    "data_clean = data_cleaning.dropna(subset=['Queried_Salary', 'Date_Since_Posted'])"
   ]
  },
  {
   "cell_type": "code",
   "execution_count": 31,
   "metadata": {},
   "outputs": [
    {
     "data": {
      "text/plain": [
       "array([ 80000.,  90000., 110000., 130000., 150000., 160000.])"
      ]
     },
     "execution_count": 31,
     "metadata": {},
     "output_type": "execute_result"
    }
   ],
   "source": [
    "data_clean.Queried_Salary.unique()"
   ]
  },
  {
   "cell_type": "code",
   "execution_count": 32,
   "metadata": {},
   "outputs": [
    {
     "data": {
      "text/plain": [
       "array([ 1., 15., 30.,  5., 10., 22.,  6., 11., 21.,  2., 16., 18.,  3.,\n",
       "        7.,  8.,  4., 14., 13., 28., 23., 19., 20., 12., 25., 29.,  9.,\n",
       "       26., 27., 17., 24.])"
      ]
     },
     "execution_count": 32,
     "metadata": {},
     "output_type": "execute_result"
    }
   ],
   "source": [
    "data_clean.Date_Since_Posted.unique()"
   ]
  },
  {
   "cell_type": "code",
   "execution_count": 33,
   "metadata": {},
   "outputs": [
    {
     "name": "stdout",
     "output_type": "stream",
     "text": [
      "(5610, 1) (5610, 1)\n"
     ]
    }
   ],
   "source": [
    "y = data_clean[\"Queried_Salary\"].values.reshape(-1,1)\n",
    "X = data_clean[[\"Date_Since_Posted\"]]\n",
    "print(X.shape, y.shape)"
   ]
  },
  {
   "cell_type": "code",
   "execution_count": 34,
   "metadata": {},
   "outputs": [
    {
     "data": {
      "image/png": "[encoded data removed]",
      "text/plain": [
       "<Figure size 432x288 with 1 Axes>"
      ]
     },
     "metadata": {
      "needs_background": "light"
     },
     "output_type": "display_data"
    }
   ],
   "source": [
    "data_clean.plot(x='Date_Since_Posted', y='Queried_Salary', style='o')  \n",
    "plt.title('Title')  \n",
    "plt.xlabel('Date Since Posted')  \n",
    "plt.ylabel('Salary')  \n",
    "plt.show()"
   ]
  },
  {
   "cell_type": "code",
   "execution_count": 35,
   "metadata": {},
   "outputs": [],
   "source": [
    "from sklearn.linear_model import LinearRegression\n",
    "model = LinearRegression()"
   ]
  },
  {
   "cell_type": "code",
   "execution_count": 36,
   "metadata": {},
   "outputs": [
    {
     "name": "stdout",
     "output_type": "stream",
     "text": [
      "LinearRegression(copy_X=True, fit_intercept=True, n_jobs=None, normalize=False)\n"
     ]
    }
   ],
   "source": [
    "model.fit(X, y)\n",
    "print(model)"
   ]
  },
  {
   "cell_type": "code",
   "execution_count": 37,
   "metadata": {},
   "outputs": [],
   "source": [
    "X_train, X_test, y_train, y_test = train_test_split(X, y, random_state=42)"
   ]
  },
  {
   "cell_type": "code",
   "execution_count": 38,
   "metadata": {},
   "outputs": [
    {
     "name": "stdout",
     "output_type": "stream",
     "text": [
      "Training Score: 0.008672934559651457\n",
      "Testing Score: 0.0072195826582343026\n"
     ]
    }
   ],
   "source": [
    "model.fit(X_train, y_train)\n",
    "training_score = model.score(X_train, y_train)\n",
    "testing_score = model.score(X_test, y_test)\n",
    "\n",
    "print(f\"Training Score: {training_score}\")\n",
    "print(f\"Testing Score: {testing_score}\")"
   ]
  },
  {
   "cell_type": "code",
   "execution_count": 39,
   "metadata": {},
   "outputs": [
    {
     "data": {
      "text/plain": [
       "1"
      ]
     },
     "execution_count": 39,
     "metadata": {},
     "output_type": "execute_result"
    }
   ],
   "source": [
    "model.rank_"
   ]
  },
  {
   "cell_type": "code",
   "execution_count": 40,
   "metadata": {},
   "outputs": [
    {
     "name": "stdout",
     "output_type": "stream",
     "text": [
      "Weight coefficients:  [[237.86366554]]\n",
      "y-axis intercept:  [111425.85166487]\n"
     ]
    }
   ],
   "source": [
    "print('Weight coefficients: ', model.coef_)\n",
    "print('y-axis intercept: ', model.intercept_)"
   ]
  },
  {
   "cell_type": "code",
   "execution_count": 41,
   "metadata": {},
   "outputs": [
    {
     "name": "stdout",
     "output_type": "stream",
     "text": [
      "True output: [80000.]\n",
      "Predicted output: [111663.71533041]\n",
      "Prediction Error: [31663.71533041]\n"
     ]
    }
   ],
   "source": [
    "predictions = model.predict(X)\n",
    "print(f\"True output: {y[0]}\")\n",
    "print(f\"Predicted output: {predictions[0]}\")\n",
    "print(f\"Prediction Error: {predictions[0]-y[0]}\")"
   ]
  },
  {
   "cell_type": "code",
   "execution_count": 42,
   "metadata": {},
   "outputs": [
    {
     "data": {
      "text/html": [
       "<div>\n",
       "<style scoped>\n",
       "    .dataframe tbody tr th:only-of-type {\n",
       "        vertical-align: middle;\n",
       "    }\n",
       "\n",
       "    .dataframe tbody tr th {\n",
       "        vertical-align: top;\n",
       "    }\n",
       "\n",
       "    .dataframe thead th {\n",
       "        text-align: right;\n",
       "    }\n",
       "</style>\n",
       "<table border=\"1\" class=\"dataframe\">\n",
       "  <thead>\n",
       "    <tr style=\"text-align: right;\">\n",
       "      <th></th>\n",
       "      <th>Predicted</th>\n",
       "      <th>Actual</th>\n",
       "      <th>Error</th>\n",
       "    </tr>\n",
       "  </thead>\n",
       "  <tbody>\n",
       "    <tr>\n",
       "      <td>0</td>\n",
       "      <td>[[111663.71533040649], [114993.80664790205], [...</td>\n",
       "      <td>[[80000.0], [80000.0], [80000.0], [80000.0], [...</td>\n",
       "      <td>[[31663.715330406485], [34993.80664790205], [3...</td>\n",
       "    </tr>\n",
       "  </tbody>\n",
       "</table>\n",
       "</div>"
      ],
      "text/plain": [
       "                                           Predicted  \\\n",
       "0  [[111663.71533040649], [114993.80664790205], [...   \n",
       "\n",
       "                                              Actual  \\\n",
       "0  [[80000.0], [80000.0], [80000.0], [80000.0], [...   \n",
       "\n",
       "                                               Error  \n",
       "0  [[31663.715330406485], [34993.80664790205], [3...  "
      ]
     },
     "execution_count": 42,
     "metadata": {},
     "output_type": "execute_result"
    }
   ],
   "source": [
    "pd.DataFrame({\"Predicted\": [predictions], \"Actual\": [y], \"Error\": [predictions - y]})[[\"Predicted\", \"Actual\", \"Error\"]]"
   ]
  },
  {
   "cell_type": "code",
   "execution_count": 43,
   "metadata": {},
   "outputs": [
    {
     "name": "stdout",
     "output_type": "stream",
     "text": [
      "Actual Min Value: 80000.0\n",
      "Calculated Min Value: Date_Since_Posted    114.336249\n",
      "dtype: float64\n",
      "Actual Max Value: 160000.0\n",
      "Calculated Max Value: Date_Since_Posted    475.096952\n",
      "dtype: float64\n"
     ]
    }
   ],
   "source": [
    "x_min = X.min()\n",
    "x_max = X.max()\n",
    "y_min_actual = y.min()\n",
    "y_max_actual = y.max()\n",
    "y_min = 101.896225057 + 12.44002424 * x_min\n",
    "y_max = 101.896225057 + 12.44002424 * x_max\n",
    "print(f\"Actual Min Value: {y_min_actual}\")\n",
    "print(f\"Calculated Min Value: {y_min}\")\n",
    "print(f\"Actual Max Value: {y_max_actual}\")\n",
    "print(f\"Calculated Max Value: {y_max}\")"
   ]
  },
  {
   "cell_type": "code",
   "execution_count": 44,
   "metadata": {},
   "outputs": [
    {
     "name": "stdout",
     "output_type": "stream",
     "text": [
      "Actual Min Value: 80000.0\n",
      "Predicted Min Value: [[111663.71533041]]\n",
      "Actual Max Value: 160000.0\n",
      "Predicted Max Value: [[118561.76163093]]\n"
     ]
    }
   ],
   "source": [
    "y_min_predicted = model.predict(np.array(x_min).reshape(-1,1))\n",
    "y_max_predicted = model.predict(np.array(x_max).reshape(-1,1))\n",
    "print(f\"Actual Min Value: {y_min_actual}\")\n",
    "print(f\"Predicted Min Value: {y_min_predicted}\")\n",
    "print(f\"Actual Max Value: {y_max_actual}\")\n",
    "print(f\"Predicted Max Value: {y_max_predicted}\")"
   ]
  },
  {
   "cell_type": "code",
   "execution_count": 45,
   "metadata": {},
   "outputs": [
    {
     "data": {
      "text/plain": [
       "[<matplotlib.lines.Line2D at 0x12b687ad0>]"
      ]
     },
     "execution_count": 45,
     "metadata": {},
     "output_type": "execute_result"
    },
    {
     "data": {
      "image/png": "[encoded data removed]",
      "text/plain": [
       "<Figure size 432x288 with 1 Axes>"
      ]
     },
     "metadata": {
      "needs_background": "light"
     },
     "output_type": "display_data"
    }
   ],
   "source": [
    "plt.scatter(X, y, c='blue')\n",
    "plt.plot([x_min, x_max], [y_min, y_max], c='red')"
   ]
  },
  {
   "cell_type": "code",
   "execution_count": 46,
   "metadata": {},
   "outputs": [],
   "source": [
    "from sklearn.pipeline import make_pipeline\n",
    "from sklearn.preprocessing import StandardScaler, OneHotEncoder"
   ]
  },
  {
   "cell_type": "code",
   "execution_count": 47,
   "metadata": {},
   "outputs": [],
   "source": [
    "from sklearn.base import BaseEstimator, TransformerMixin\n",
    "class PandasDummies(BaseEstimator, TransformerMixin):\n",
    "    def transform(self, X, *_):\n",
    "        return pd.get_dummies(X)\n",
    "    \n",
    "    def fit(self, *_):\n",
    "        return self"
   ]
  },
  {
   "cell_type": "code",
   "execution_count": 48,
   "metadata": {},
   "outputs": [],
   "source": [
    "X_train, X_test, y_train, y_test = train_test_split(X, y, random_state=42)"
   ]
  },
  {
   "cell_type": "code",
   "execution_count": 49,
   "metadata": {},
   "outputs": [
    {
     "data": {
      "text/plain": [
       "Pipeline(memory=None,\n",
       "         steps=[('pandasdummies', PandasDummies()),\n",
       "                ('standardscaler',\n",
       "                 StandardScaler(copy=True, with_mean=True, with_std=True)),\n",
       "                ('linearregression',\n",
       "                 LinearRegression(copy_X=True, fit_intercept=True, n_jobs=None,\n",
       "                                  normalize=False))],\n",
       "         verbose=False)"
      ]
     },
     "execution_count": 49,
     "metadata": {},
     "output_type": "execute_result"
    }
   ],
   "source": [
    "model = make_pipeline(PandasDummies(), StandardScaler(), LinearRegression())\n",
    "model.fit(X_train, y_train)"
   ]
  },
  {
   "cell_type": "code",
   "execution_count": 50,
   "metadata": {},
   "outputs": [
    {
     "data": {
      "text/plain": [
       "[('pandasdummies', PandasDummies()),\n",
       " ('standardscaler', StandardScaler(copy=True, with_mean=True, with_std=True)),\n",
       " ('linearregression',\n",
       "  LinearRegression(copy_X=True, fit_intercept=True, n_jobs=None, normalize=False))]"
      ]
     },
     "execution_count": 50,
     "metadata": {},
     "output_type": "execute_result"
    }
   ],
   "source": [
    "model.steps"
   ]
  },
  {
   "cell_type": "code",
   "execution_count": 51,
   "metadata": {},
   "outputs": [],
   "source": [
    "from sklearn.metrics import mean_squared_error\n",
    "\n",
    "predictions = model.predict(X_test)\n",
    "MSE = mean_squared_error(y_test, predictions)\n",
    "r2 = model.score(X_test, y_test)"
   ]
  },
  {
   "cell_type": "code",
   "execution_count": 52,
   "metadata": {},
   "outputs": [
    {
     "name": "stdout",
     "output_type": "stream",
     "text": [
      "MSE: 649829409.7804298, R2: 0.0072195826582340805\n"
     ]
    }
   ],
   "source": [
    "print(f\"MSE: {MSE}, R2: {r2}\")"
   ]
  },
  {
   "cell_type": "code",
   "execution_count": 53,
   "metadata": {},
   "outputs": [
    {
     "data": {
      "image/png": "[encoded data removed]",
      "text/plain": [
       "<Figure size 432x288 with 1 Axes>"
      ]
     },
     "metadata": {
      "needs_background": "light"
     },
     "output_type": "display_data"
    }
   ],
   "source": [
    "plt.scatter(model.predict(X_train), model.predict(X_train) - y_train, c=\"blue\", label=\"Training Data\")\n",
    "plt.scatter(model.predict(X_test), model.predict(X_test) - y_test, c=\"orange\", label=\"Testing Data\")\n",
    "plt.legend()\n",
    "plt.hlines(y=0, xmin=y_test.min(), xmax=y_test.max())\n",
    "plt.title(\"Residual Plot\")\n",
    "plt.show()"
   ]
  },
  {
   "cell_type": "markdown",
   "metadata": {},
   "source": [
    "### Part1: Some Data Analysis"
   ]
  },
  {
   "cell_type": "code",
   "execution_count": 8,
   "metadata": {},
   "outputs": [
    {
     "name": "stdout",
     "output_type": "stream",
     "text": [
      "Toatl number of firms with data science job vacancies 2230\n",
      "Top 10 firms with most vacancies                           Company  Job_Title\n",
      "316           Booz Allen Hamilton        151\n",
      "927                       Harnham         87\n",
      "388                     Capgemini         84\n",
      "752                      Facebook         65\n",
      "1100                     KPMG LLP         64\n",
      "2098                      Walmart         59\n",
      "392                   Capital One         54\n",
      "1067               JPMorgan Chase         51\n",
      "883                        Google         40\n",
      "994                           IBM         38\n",
      "420                       Centene         37\n",
      "1291                    Microsoft         36\n",
      "55                      Accenture         36\n",
      "1081           Jobspring Partners         35\n",
      "107                      Allstate         35\n",
      "833                    GE Careers         32\n",
      "1992                         Uber         30\n",
      "62               Ace Technologies         30\n",
      "2099            Walmart eCommerce         30\n",
      "82                          Aetna         29\n",
      "614                      Deloitte         27\n",
      "455                 Cisco Systems         23\n",
      "98               All-In Analytics         21\n",
      "1486                Payette Group         19\n",
      "1187  Lockheed Martin Corporation         19\n"
     ]
    },
    {
     "data": {
      "text/plain": [
       "Text(0, 0.5, '# OF JOBS')"
      ]
     },
     "execution_count": 8,
     "metadata": {},
     "output_type": "execute_result"
    },
    {
     "data": {
      "image/png": "[encoded data removed]",
      "text/plain": [
       "<Figure size 720x432 with 1 Axes>"
      ]
     },
     "metadata": {
      "needs_background": "light"
     },
     "output_type": "display_data"
    }
   ],
   "source": [
    "# finding total number of compnaies who require data science Professionals\n",
    "total_no_company=df['Company'].nunique()\n",
    "print('Toatl number of firms with data science job vacancies',total_no_company)\n",
    "\n",
    "#finding highest number of vacancy in a company\n",
    "most_vacancy= df.groupby(['Company'])['Job_Title'].count()\n",
    "most_vacancy=most_vacancy.reset_index(name='Job_Title')\n",
    "most_vacancy=most_vacancy.sort_values(['Job_Title'],ascending=False)\n",
    "pareto_df=most_vacancy\n",
    "most_vacancy=most_vacancy.head(25)\n",
    "print('Top 10 firms with most vacancies',most_vacancy)\n",
    "\n",
    "# Plot graph for top most vacancy\n",
    "fig, ax = plt.subplots(figsize = (10,6))\n",
    "ax=seaborn.barplot(x=\"Company\", y=\"Job_Title\", data=most_vacancy)    \n",
    "ax.set_xticklabels(most_vacancy['Company'],rotation=90)  \n",
    "ax.set_xlabel('COMPANY WITH MOST JOBS',fontsize=16, color='red')\n",
    "ax.set_ylabel('# OF JOBS',fontsize=16,color='red') "
   ]
  },
  {
   "cell_type": "code",
   "execution_count": 9,
   "metadata": {},
   "outputs": [
    {
     "data": {
      "text/plain": [
       "Text(0.5, 0, 'Company Name')"
      ]
     },
     "execution_count": 9,
     "metadata": {},
     "output_type": "execute_result"
    },
    {
     "data": {
      "image/png": "[encoded data removed]",
      "text/plain": [
       "<Figure size 720x432 with 1 Axes>"
      ]
     },
     "metadata": {
      "needs_background": "light"
     },
     "output_type": "display_data"
    }
   ],
   "source": [
    "# Finding total number of states with Data science jobs\n",
    "total_no_cities=df['Location'].nunique()\n",
    "\n",
    "#states and total no of openings w.r.t companies\n",
    "city_and_roles=df.groupby(['Location','Company'])['Job_Title'].count()     \n",
    "city_and_roles=city_and_roles.reset_index()\n",
    "city_and_roles=city_and_roles.sort_values(['Job_Title'],ascending=False)\n",
    "city_and_roles=city_and_roles.head(15) \n",
    "\n",
    "# Plot graph for top most states and no of roles\n",
    "fig,a=plt.subplots(figsize=(10,6))             \n",
    "a=seaborn.barplot(x=\"Company\", y=\"Job_Title\", hue=\"Location\", data=city_and_roles);    \n",
    "a.set_xticklabels(city_and_roles['Company'],rotation=90)   \n",
    "a.set_ylabel('No Of Positions',fontsize=16,color='red')\n",
    "a.set_xlabel('Company Name',fontsize=16,color='red')"
   ]
  },
  {
   "cell_type": "code",
   "execution_count": 10,
   "metadata": {},
   "outputs": [
    {
     "name": "stdout",
     "output_type": "stream",
     "text": [
      "Here is  the count of each new roles we created : \n",
      "\n",
      "                    Job_Title  Company\n",
      "2             Data Scientist     2442\n",
      "0               Data Analyst     1655\n",
      "3  Machine Learning Engineer     1321\n",
      "1       Data Science Manager      110\n",
      "4                     Others       82\n"
     ]
    }
   ],
   "source": [
    "#PART 3 MACHINE LEARNING\n",
    "#there are so many job profiles in the dataset so lets Categories them into 5: Data Scientist, \n",
    "#Machine Learning Engineer, Data Analyst, Data Science Manager and Others\n",
    "\n",
    "# Creating only 5 datascience roles among all\n",
    "data=df.copy()\n",
    "data.dropna(subset=['Job_Title'], how='all', inplace = True)\n",
    "data.Job_Title=data.Job_Title.astype(str)\n",
    "data.Description=data.Description.astype(str)\n",
    "data['Job_Title']=[x.upper() for x in data['Job_Title']]\n",
    "data['Description']=[x.upper() for x in data['Description']]\n",
    "\n",
    "data.loc[data.Job_Title.str.contains(\"SCIENTIST\"), 'Job_Title'] = 'Data Scientist'\n",
    "\n",
    "data.loc[data.Job_Title.str.contains('ENGINEER'),'Job_Title']='Machine Learning Engineer'\n",
    "data.loc[data.Job_Title.str.contains('PRINCIPAL STATISTICAL PROGRAMMER'),'Job_Title']='Machine Learning Engineer'\n",
    "data.loc[data.Job_Title.str.contains('PROGRAMMER'),'Job_Title']='Machine Learning Engineer'\n",
    "data.loc[data.Job_Title.str.contains('DEVELOPER'),'Job_Title']='Machine Learning Engineer'\n",
    "\n",
    "data.loc[data.Job_Title.str.contains('ANALYST'), 'Job_Title'] = 'Data Analyst'\n",
    "data.loc[data.Job_Title.str.contains('STATISTICIAN'), 'Job_Title'] = 'Data Analyst'\n",
    "\n",
    "data.loc[data.Job_Title.str.contains('MANAGER'),'Job_Title']='Data Science Manager'\n",
    "data.loc[data.Job_Title.str.contains('CONSULTANT'),'Job_Title']='Data Science Manager'\n",
    "data.loc[data.Job_Title.str.contains('DATA SCIENCE'),'Job_Title']='Data Science Manager'\n",
    "data.loc[data.Job_Title.str.contains('DIRECTOR'),'Job_Title']='Data Science Manager'\n",
    "\n",
    "data.Job_Title=data[(data.Job_Title == 'Data Scientist') | (data.Job_Title == 'Data Analyst') | (data.Job_Title == 'Machine Learning Engineer') | (data.Job_Title == 'Data Science Manager')]\n",
    "data.Job_Title=['Others' if x is np.nan else x for x in data.Job_Title]\n",
    "\n",
    "Job_Title=data.groupby(['Job_Title'])['Company'].count()   \n",
    "Job_Title=Job_Title.reset_index(name='Company')\n",
    "Job_Title=Job_Title.sort_values(['Company'],ascending=False)\n",
    "\n",
    "print('Here is  the count of each new roles we created :', '\\n\\n', Job_Title)"
   ]
  },
  {
   "cell_type": "markdown",
   "metadata": {},
   "source": [
    "### Part2: Machine Learning(Predict the Job_Title with feature of job description)"
   ]
  },
  {
   "cell_type": "code",
   "execution_count": 11,
   "metadata": {},
   "outputs": [],
   "source": [
    "# Next Part in ML Algorithm is Data Cleansing\n",
    "X=data.Description\n",
    "Y=data.Job_Title\n",
    "\n",
    "X=[re.sub(r\"[^a-zA-Z0-9]+\", ' ', k) for k in X]\n",
    "X=[re.sub(\"[0-9]+\",' ',k) for k in X]\n",
    "\n",
    "#applying stemmer\n",
    "ps =PorterStemmer()\n",
    "X=[ps.stem(k) for k in X]\n",
    "\n",
    "#Note: I have not removed stop words because there are important key words mentioned in job description which are of length 2, I feel they have weightage while classifing\n",
    "tfidf=TfidfVectorizer()\n",
    "label_enc=LabelEncoder()\n",
    "\n",
    "X=tfidf.fit_transform(X)\n",
    "Y=label_enc.fit_transform(Y)\n",
    "\n",
    "#split the train and test sets\n",
    "x_train,x_test,y_train,y_test=train_test_split(X,Y,stratify=Y,test_size=0.3)"
   ]
  },
  {
   "cell_type": "code",
   "execution_count": 12,
   "metadata": {},
   "outputs": [
    {
     "name": "stdout",
     "output_type": "stream",
     "text": [
      "Accuracy of NB : 0.5516034985422741\n",
      "Confusion Matrix of NB :  \n",
      "\n",
      " [[136   0 360   2   0]\n",
      " [  0   0  34   0   0]\n",
      " [  5   0 732   0   0]\n",
      " [  4   0 337  78   0]\n",
      " [  1   0  26   0   0]]\n",
      "NB Train fit score is :  \n",
      "\n",
      " [0.573096   0.57601401 0.57263711 0.584014   0.581972   0.57497083\n",
      " 0.56155193]\n",
      "NB TEST score is :  \n",
      "\n",
      " [0.54020979 0.51748252 0.56217163 0.53064799 0.54816112 0.53415061\n",
      " 0.53064799]\n"
     ]
    }
   ],
   "source": [
    "#Naive Bayes classification\n",
    "NB=MultinomialNB()\n",
    "NB.fit(x_train,y_train)\n",
    "NB_y=NB.predict(x_test)\n",
    "\n",
    "print('Accuracy of NB :', accuracy_score(y_test,NB_y))\n",
    "print ('Confusion Matrix of NB : ', '\\n\\n', confusion_matrix(y_test,NB_y))\n",
    "\n",
    "#crossfold Validation of 7 folds for NB\n",
    "cross_val_NB=sklearn.model_selection.cross_validate(NB, x_train, y=y_train,cv=7,return_train_score=True)\n",
    "\n",
    "print ('NB Train fit score is : ', '\\n\\n', cross_val_NB ['train_score'])\n",
    "print ('NB TEST score is : ', '\\n\\n', cross_val_NB ['test_score'])"
   ]
  },
  {
   "cell_type": "code",
   "execution_count": 13,
   "metadata": {},
   "outputs": [
    {
     "name": "stdout",
     "output_type": "stream",
     "text": [
      "Accuracy of SGD : 0.8332361516034985\n",
      "Confusion Matrix of SGD :  \n",
      "\n",
      " [[425   0  57  16   0]\n",
      " [  7  12  12   3   0]\n",
      " [ 83   1 636  15   2]\n",
      " [ 44   0  24 351   0]\n",
      " [  4   3  14   1   5]]\n",
      "SGD Train fit score is :  \n",
      "\n",
      " [0.95622994 0.95039393 0.94953326 0.95478413 0.95274212 0.95128355\n",
      " 0.95157526]\n",
      "SGD TEST score is :  \n",
      "\n",
      " [0.8479021  0.86713287 0.85464098 0.84763573 0.81611208 0.84588441\n",
      " 0.86164623]\n"
     ]
    }
   ],
   "source": [
    "#SGD classification\n",
    "sgd=SGDClassifier()\n",
    "sgd.fit(x_train,y_train)\n",
    "sgd_y=sgd.predict(x_test)\n",
    "\n",
    "print('Accuracy of SGD :', accuracy_score(y_test,sgd_y))\n",
    "print ('Confusion Matrix of SGD : ', '\\n\\n', confusion_matrix(y_test,sgd_y))\n",
    "\n",
    "#crossfold Validation of 7 folds for SGD\n",
    "cross_val_SGD=sklearn.model_selection.cross_validate(sgd, x_train, y=y_train,cv=7,return_train_score=True)\n",
    "\n",
    "print ('SGD Train fit score is : ', '\\n\\n', cross_val_SGD ['train_score'])\n",
    "print ('SGD TEST score is : ', '\\n\\n', cross_val_SGD ['test_score'])"
   ]
  },
  {
   "cell_type": "markdown",
   "metadata": {},
   "source": [
    "## Salary Prediction with features of job_title and job_description"
   ]
  },
  {
   "cell_type": "code",
   "execution_count": 23,
   "metadata": {},
   "outputs": [
    {
     "data": {
      "image/png": "[encoded data removed]",
      "text/plain": [
       "<Figure size 720x360 with 1 Axes>"
      ]
     },
     "metadata": {
      "needs_background": "light"
     },
     "output_type": "display_data"
    }
   ],
   "source": [
    "# Salary Distribution\n",
    "df.Queried_Salary.hist(color='b',figsize=(10,5))\n",
    "plt.ylabel('frequency')\n",
    "plt.xlabel(u'salary')\n",
    "plt.yscale('log')"
   ]
  },
  {
   "cell_type": "code",
   "execution_count": 25,
   "metadata": {},
   "outputs": [
    {
     "data": {
      "text/plain": [
       "CA        1394\n",
       "NY         601\n",
       "VA         334\n",
       "TX         329\n",
       "MA         271\n",
       "IL         240\n",
       "WA         222\n",
       "MD         169\n",
       "DC         140\n",
       "NC         139\n",
       "PA         139\n",
       "GA         139\n",
       "NJ         128\n",
       "CO         109\n",
       "OH         108\n",
       "FL         103\n",
       "MI          85\n",
       "MO          77\n",
       "CT          75\n",
       "USA         71\n",
       "MN          66\n",
       "OR          63\n",
       "AZ          53\n",
       "IN          46\n",
       "TN          44\n",
       "WI          39\n",
       "UT          34\n",
       "IA          30\n",
       "AR          28\n",
       "SC          24\n",
       "NV          20\n",
       "AL          17\n",
       "DE          17\n",
       "ME          14\n",
       "KY          13\n",
       "REMOTE      11\n",
       "NE          10\n",
       "KS           9\n",
       "NH           7\n",
       "RI           7\n",
       "ID           6\n",
       "HI           6\n",
       "LA           6\n",
       "NM           5\n",
       "OK           4\n",
       "WV           3\n",
       "WY           2\n",
       "VT           2\n",
       "ND           1\n",
       "SD           1\n",
       "MT           1\n",
       "Name: Location, dtype: int64"
      ]
     },
     "execution_count": 25,
     "metadata": {},
     "output_type": "execute_result"
    }
   ],
   "source": [
    "# Exploration of geographic distribution of the job demand\n",
    "df['Location'].value_counts()"
   ]
  },
  {
   "cell_type": "markdown",
   "metadata": {},
   "source": [
    "### Data Prepocessing"
   ]
  },
  {
   "cell_type": "markdown",
   "metadata": {},
   "source": [
    "Before proceeding with modeling, we need to preprocess and clean the data. Cleaning involves removing the stop words, non alphanumeric characters and unnecessary white spaces. This is done with the help of regular expressions and the NLTK library which has a corpus of all the stop words in English."
   ]
  },
  {
   "cell_type": "code",
   "execution_count": 26,
   "metadata": {},
   "outputs": [],
   "source": [
    "def clean(Description):\n",
    "    # Removing non alphanumeric characters\n",
    "    js = re.sub('[^a-zA-Z\\d]', ' ', Description)\n",
    "    # Removing unnecessary white spaces\n",
    "    js = re.sub(' +', ' ', js).strip()\n",
    "    # Removing all the stop words\n",
    "    words = nltk.word_tokenize(js.lower())\n",
    "    filtered_words = [word for word in words\n",
    "                      if word not in nltk.corpus.stopwords.words('english')]\n",
    "    return ' '.join(filtered_words)\n",
    "\n",
    "\n",
    "def clean_column(data, column_name):\n",
    "    for index, column in tqdm(enumerate(data[column_name])):\n",
    "        cleaned_column = clean(column)\n",
    "        data.set_value(index, column_name, cleaned_column)"
   ]
  },
  {
   "cell_type": "code",
   "execution_count": 27,
   "metadata": {},
   "outputs": [],
   "source": [
    "le = LabelEncoder()\n",
    "le.fit(data['Queried_Salary'])\n",
    "\n",
    "data['Queried_Salary_original'] = data['Queried_Salary']\n",
    "data['Queried_Salary'] = le.transform(data['Queried_Salary'])"
   ]
  },
  {
   "cell_type": "code",
   "execution_count": 29,
   "metadata": {},
   "outputs": [
    {
     "name": "stderr",
     "output_type": "stream",
     "text": [
      "0it [00:00, ?it/s]/Users/jiebai/.local/lib/python3.7/site-packages/ipykernel_launcher.py:16: FutureWarning: set_value is deprecated and will be removed in a future release. Please use .at[] or .iat[] accessors instead\n",
      "  app.launch_new_instance()\n",
      "5714it [03:24, 27.91it/s]\n",
      "5714it [00:02, 2832.37it/s]\n"
     ]
    },
    {
     "data": {
      "text/html": [
       "<div>\n",
       "<style scoped>\n",
       "    .dataframe tbody tr th:only-of-type {\n",
       "        vertical-align: middle;\n",
       "    }\n",
       "\n",
       "    .dataframe tbody tr th {\n",
       "        vertical-align: top;\n",
       "    }\n",
       "\n",
       "    .dataframe thead th {\n",
       "        text-align: right;\n",
       "    }\n",
       "</style>\n",
       "<table border=\"1\" class=\"dataframe\">\n",
       "  <thead>\n",
       "    <tr style=\"text-align: right;\">\n",
       "      <th></th>\n",
       "      <th>Job_Title</th>\n",
       "      <th>Link</th>\n",
       "      <th>Queried_Salary</th>\n",
       "      <th>Job_Type</th>\n",
       "      <th>Skill</th>\n",
       "      <th>No_of_Skills</th>\n",
       "      <th>Company</th>\n",
       "      <th>No_of_Reviews</th>\n",
       "      <th>No_of_Stars</th>\n",
       "      <th>Date_Since_Posted</th>\n",
       "      <th>...</th>\n",
       "      <th>DC</th>\n",
       "      <th>NC</th>\n",
       "      <th>Other_states</th>\n",
       "      <th>Consulting and Business Services</th>\n",
       "      <th>Internet and Software</th>\n",
       "      <th>Banks and Financial Services</th>\n",
       "      <th>Health Care</th>\n",
       "      <th>Insurance</th>\n",
       "      <th>Other_industries</th>\n",
       "      <th>Queried_Salary_original</th>\n",
       "    </tr>\n",
       "  </thead>\n",
       "  <tbody>\n",
       "    <tr>\n",
       "      <td>0</td>\n",
       "      <td>data scientist</td>\n",
       "      <td>https://www.indeed.com/rc/clk?jk=6a105f495c36a...</td>\n",
       "      <td>4</td>\n",
       "      <td>data_scientist</td>\n",
       "      <td>SAP, SQL</td>\n",
       "      <td>2.0</td>\n",
       "      <td>Express Scripts</td>\n",
       "      <td>3301.0</td>\n",
       "      <td>3.3</td>\n",
       "      <td>1.0</td>\n",
       "      <td>...</td>\n",
       "      <td>0.0</td>\n",
       "      <td>0.0</td>\n",
       "      <td>1.0</td>\n",
       "      <td>0.0</td>\n",
       "      <td>0.0</td>\n",
       "      <td>0.0</td>\n",
       "      <td>1.0</td>\n",
       "      <td>0.0</td>\n",
       "      <td>0.0</td>\n",
       "      <td>&lt;80000</td>\n",
       "    </tr>\n",
       "    <tr>\n",
       "      <td>1</td>\n",
       "      <td>data scientist</td>\n",
       "      <td>https://www.indeed.com/rc/clk?jk=86afd561ea8c6...</td>\n",
       "      <td>4</td>\n",
       "      <td>data_scientist</td>\n",
       "      <td>Machine Learning, R, SAS, SQL, Python</td>\n",
       "      <td>5.0</td>\n",
       "      <td>Money Mart Financial Services</td>\n",
       "      <td>NaN</td>\n",
       "      <td>NaN</td>\n",
       "      <td>15.0</td>\n",
       "      <td>...</td>\n",
       "      <td>0.0</td>\n",
       "      <td>0.0</td>\n",
       "      <td>0.0</td>\n",
       "      <td>0.0</td>\n",
       "      <td>0.0</td>\n",
       "      <td>0.0</td>\n",
       "      <td>0.0</td>\n",
       "      <td>0.0</td>\n",
       "      <td>0.0</td>\n",
       "      <td>&lt;80000</td>\n",
       "    </tr>\n",
       "    <tr>\n",
       "      <td>2</td>\n",
       "      <td>data scientist</td>\n",
       "      <td>https://www.indeed.com/rc/clk?jk=e0aad317e6d45...</td>\n",
       "      <td>4</td>\n",
       "      <td>data_scientist</td>\n",
       "      <td>Data Mining, Data Management, R, SAS, SQL, STA...</td>\n",
       "      <td>9.0</td>\n",
       "      <td>comScore</td>\n",
       "      <td>62.0</td>\n",
       "      <td>3.5</td>\n",
       "      <td>1.0</td>\n",
       "      <td>...</td>\n",
       "      <td>0.0</td>\n",
       "      <td>0.0</td>\n",
       "      <td>1.0</td>\n",
       "      <td>0.0</td>\n",
       "      <td>0.0</td>\n",
       "      <td>0.0</td>\n",
       "      <td>0.0</td>\n",
       "      <td>0.0</td>\n",
       "      <td>0.0</td>\n",
       "      <td>&lt;80000</td>\n",
       "    </tr>\n",
       "    <tr>\n",
       "      <td>3</td>\n",
       "      <td>data scientist</td>\n",
       "      <td>https://www.indeed.com/rc/clk?jk=1cfdd9e391a63...</td>\n",
       "      <td>4</td>\n",
       "      <td>data_scientist</td>\n",
       "      <td>Certified Internal Auditor</td>\n",
       "      <td>1.0</td>\n",
       "      <td>Central Intelligence Agency</td>\n",
       "      <td>158.0</td>\n",
       "      <td>4.3</td>\n",
       "      <td>30.0</td>\n",
       "      <td>...</td>\n",
       "      <td>1.0</td>\n",
       "      <td>0.0</td>\n",
       "      <td>0.0</td>\n",
       "      <td>0.0</td>\n",
       "      <td>0.0</td>\n",
       "      <td>0.0</td>\n",
       "      <td>0.0</td>\n",
       "      <td>0.0</td>\n",
       "      <td>1.0</td>\n",
       "      <td>&lt;80000</td>\n",
       "    </tr>\n",
       "    <tr>\n",
       "      <td>4</td>\n",
       "      <td>data scientist</td>\n",
       "      <td>https://www.indeed.com/rc/clk?jk=fec647775a21e...</td>\n",
       "      <td>4</td>\n",
       "      <td>data_scientist</td>\n",
       "      <td>Statistical Software, Time Management, R, Micr...</td>\n",
       "      <td>7.0</td>\n",
       "      <td>Federal Reserve Bank of Dallas</td>\n",
       "      <td>495.0</td>\n",
       "      <td>4.1</td>\n",
       "      <td>30.0</td>\n",
       "      <td>...</td>\n",
       "      <td>0.0</td>\n",
       "      <td>0.0</td>\n",
       "      <td>0.0</td>\n",
       "      <td>0.0</td>\n",
       "      <td>0.0</td>\n",
       "      <td>1.0</td>\n",
       "      <td>0.0</td>\n",
       "      <td>0.0</td>\n",
       "      <td>0.0</td>\n",
       "      <td>&lt;80000</td>\n",
       "    </tr>\n",
       "  </tbody>\n",
       "</table>\n",
       "<p>5 rows × 43 columns</p>\n",
       "</div>"
      ],
      "text/plain": [
       "        Job_Title                                               Link  \\\n",
       "0  data scientist  https://www.indeed.com/rc/clk?jk=6a105f495c36a...   \n",
       "1  data scientist  https://www.indeed.com/rc/clk?jk=86afd561ea8c6...   \n",
       "2  data scientist  https://www.indeed.com/rc/clk?jk=e0aad317e6d45...   \n",
       "3  data scientist  https://www.indeed.com/rc/clk?jk=1cfdd9e391a63...   \n",
       "4  data scientist  https://www.indeed.com/rc/clk?jk=fec647775a21e...   \n",
       "\n",
       "   Queried_Salary        Job_Type  \\\n",
       "0               4  data_scientist   \n",
       "1               4  data_scientist   \n",
       "2               4  data_scientist   \n",
       "3               4  data_scientist   \n",
       "4               4  data_scientist   \n",
       "\n",
       "                                               Skill  No_of_Skills  \\\n",
       "0                                           SAP, SQL           2.0   \n",
       "1              Machine Learning, R, SAS, SQL, Python           5.0   \n",
       "2  Data Mining, Data Management, R, SAS, SQL, STA...           9.0   \n",
       "3                         Certified Internal Auditor           1.0   \n",
       "4  Statistical Software, Time Management, R, Micr...           7.0   \n",
       "\n",
       "                          Company  No_of_Reviews  No_of_Stars  \\\n",
       "0                 Express Scripts         3301.0          3.3   \n",
       "1   Money Mart Financial Services            NaN          NaN   \n",
       "2                        comScore           62.0          3.5   \n",
       "3     Central Intelligence Agency          158.0          4.3   \n",
       "4  Federal Reserve Bank of Dallas          495.0          4.1   \n",
       "\n",
       "   Date_Since_Posted  ...   DC   NC Other_states  \\\n",
       "0                1.0  ...  0.0  0.0          1.0   \n",
       "1               15.0  ...  0.0  0.0          0.0   \n",
       "2                1.0  ...  0.0  0.0          1.0   \n",
       "3               30.0  ...  1.0  0.0          0.0   \n",
       "4               30.0  ...  0.0  0.0          0.0   \n",
       "\n",
       "  Consulting and Business Services Internet and Software  \\\n",
       "0                              0.0                   0.0   \n",
       "1                              0.0                   0.0   \n",
       "2                              0.0                   0.0   \n",
       "3                              0.0                   0.0   \n",
       "4                              0.0                   0.0   \n",
       "\n",
       "   Banks and Financial Services  Health Care  Insurance  Other_industries  \\\n",
       "0                           0.0          1.0        0.0               0.0   \n",
       "1                           0.0          0.0        0.0               0.0   \n",
       "2                           0.0          0.0        0.0               0.0   \n",
       "3                           0.0          0.0        0.0               1.0   \n",
       "4                           1.0          0.0        0.0               0.0   \n",
       "\n",
       "   Queried_Salary_original  \n",
       "0                   <80000  \n",
       "1                   <80000  \n",
       "2                   <80000  \n",
       "3                   <80000  \n",
       "4                   <80000  \n",
       "\n",
       "[5 rows x 43 columns]"
      ]
     },
     "execution_count": 29,
     "metadata": {},
     "output_type": "execute_result"
    }
   ],
   "source": [
    "#Save the cleanned data to csv file\n",
    "clean_column(data, 'Description')\n",
    "clean_column(data, 'Job_Title')\n",
    "data.to_csv('jobs.csv', index=False)\n",
    "data.head()"
   ]
  },
  {
   "cell_type": "code",
   "execution_count": 30,
   "metadata": {},
   "outputs": [
    {
     "name": "stdout",
     "output_type": "stream",
     "text": [
      "The dataframe contains 5714 rows\n"
     ]
    }
   ],
   "source": [
    "df1 = pd.read_csv('jobs.csv')\n",
    "print('The dataframe contains {} rows'.format(len(df1)))"
   ]
  },
  {
   "cell_type": "code",
   "execution_count": 31,
   "metadata": {},
   "outputs": [
    {
     "data": {
      "text/html": [
       "<div>\n",
       "<style scoped>\n",
       "    .dataframe tbody tr th:only-of-type {\n",
       "        vertical-align: middle;\n",
       "    }\n",
       "\n",
       "    .dataframe tbody tr th {\n",
       "        vertical-align: top;\n",
       "    }\n",
       "\n",
       "    .dataframe thead th {\n",
       "        text-align: right;\n",
       "    }\n",
       "</style>\n",
       "<table border=\"1\" class=\"dataframe\">\n",
       "  <thead>\n",
       "    <tr style=\"text-align: right;\">\n",
       "      <th></th>\n",
       "      <th>Job_Title</th>\n",
       "      <th>Queried_Salary</th>\n",
       "      <th>Description</th>\n",
       "    </tr>\n",
       "  </thead>\n",
       "  <tbody>\n",
       "    <tr>\n",
       "      <td>0</td>\n",
       "      <td>data scientist</td>\n",
       "      <td>4</td>\n",
       "      <td>p b position summary b p p business analyst ro...</td>\n",
       "    </tr>\n",
       "    <tr>\n",
       "      <td>1</td>\n",
       "      <td>data scientist</td>\n",
       "      <td>4</td>\n",
       "      <td>p b need b p ul li amazing personality communi...</td>\n",
       "    </tr>\n",
       "    <tr>\n",
       "      <td>2</td>\n",
       "      <td>data scientist</td>\n",
       "      <td>4</td>\n",
       "      <td>ul li validate analyze conduct statistical ana...</td>\n",
       "    </tr>\n",
       "    <tr>\n",
       "      <td>3</td>\n",
       "      <td>data scientist</td>\n",
       "      <td>4</td>\n",
       "      <td>p full time p p washington dc metro area p p s...</td>\n",
       "    </tr>\n",
       "    <tr>\n",
       "      <td>4</td>\n",
       "      <td>data scientist</td>\n",
       "      <td>4</td>\n",
       "      <td>ul li assist consultations business partners i...</td>\n",
       "    </tr>\n",
       "  </tbody>\n",
       "</table>\n",
       "</div>"
      ],
      "text/plain": [
       "        Job_Title  Queried_Salary  \\\n",
       "0  data scientist               4   \n",
       "1  data scientist               4   \n",
       "2  data scientist               4   \n",
       "3  data scientist               4   \n",
       "4  data scientist               4   \n",
       "\n",
       "                                         Description  \n",
       "0  p b position summary b p p business analyst ro...  \n",
       "1  p b need b p ul li amazing personality communi...  \n",
       "2  ul li validate analyze conduct statistical ana...  \n",
       "3  p full time p p washington dc metro area p p s...  \n",
       "4  ul li assist consultations business partners i...  "
      ]
     },
     "execution_count": 31,
     "metadata": {},
     "output_type": "execute_result"
    }
   ],
   "source": [
    "# Drop NaN values\n",
    "df1 = df1.loc[:, df1.columns.isin(['Description', 'Job_Title', 'Queried_Salary'])]\n",
    "df1 = df1.dropna(how='any')\n",
    "df1.head()"
   ]
  },
  {
   "cell_type": "code",
   "execution_count": 32,
   "metadata": {},
   "outputs": [
    {
     "data": {
      "text/plain": [
       "(5412, 3)"
      ]
     },
     "execution_count": 32,
     "metadata": {},
     "output_type": "execute_result"
    }
   ],
   "source": [
    "df1.shape"
   ]
  },
  {
   "cell_type": "code",
   "execution_count": 33,
   "metadata": {},
   "outputs": [
    {
     "data": {
      "text/html": [
       "<div>\n",
       "<style scoped>\n",
       "    .dataframe tbody tr th:only-of-type {\n",
       "        vertical-align: middle;\n",
       "    }\n",
       "\n",
       "    .dataframe tbody tr th {\n",
       "        vertical-align: top;\n",
       "    }\n",
       "\n",
       "    .dataframe thead th {\n",
       "        text-align: right;\n",
       "    }\n",
       "</style>\n",
       "<table border=\"1\" class=\"dataframe\">\n",
       "  <thead>\n",
       "    <tr style=\"text-align: right;\">\n",
       "      <th></th>\n",
       "      <th>Job_Title</th>\n",
       "      <th>Queried_Salary</th>\n",
       "      <th>Description</th>\n",
       "    </tr>\n",
       "  </thead>\n",
       "  <tbody>\n",
       "    <tr>\n",
       "      <td>800</td>\n",
       "      <td>data scientist</td>\n",
       "      <td>0</td>\n",
       "      <td>p abbott committed helping people live best po...</td>\n",
       "    </tr>\n",
       "    <tr>\n",
       "      <td>429</td>\n",
       "      <td>data scientist</td>\n",
       "      <td>0</td>\n",
       "      <td>p fleetpride largest market distributor heavy ...</td>\n",
       "    </tr>\n",
       "    <tr>\n",
       "      <td>5662</td>\n",
       "      <td>machine learning engineer</td>\n",
       "      <td>5</td>\n",
       "      <td>p mobile analytics company downtown la current...</td>\n",
       "    </tr>\n",
       "    <tr>\n",
       "      <td>1508</td>\n",
       "      <td>data scientist</td>\n",
       "      <td>1</td>\n",
       "      <td>ul b role summary b want revolutionize healthc...</td>\n",
       "    </tr>\n",
       "    <tr>\n",
       "      <td>930</td>\n",
       "      <td>data scientist</td>\n",
       "      <td>0</td>\n",
       "      <td>p b fueled fundamental belief access financial...</td>\n",
       "    </tr>\n",
       "  </tbody>\n",
       "</table>\n",
       "</div>"
      ],
      "text/plain": [
       "                      Job_Title  Queried_Salary  \\\n",
       "800              data scientist               0   \n",
       "429              data scientist               0   \n",
       "5662  machine learning engineer               5   \n",
       "1508             data scientist               1   \n",
       "930              data scientist               0   \n",
       "\n",
       "                                            Description  \n",
       "800   p abbott committed helping people live best po...  \n",
       "429   p fleetpride largest market distributor heavy ...  \n",
       "5662  p mobile analytics company downtown la current...  \n",
       "1508  ul b role summary b want revolutionize healthc...  \n",
       "930   p b fueled fundamental belief access financial...  "
      ]
     },
     "execution_count": 33,
     "metadata": {},
     "output_type": "execute_result"
    }
   ],
   "source": [
    "# Split the dataset into train and test. Train = 80% and test = 20%.\n",
    "train = df1.sample(frac=0.8, random_state=200)\n",
    "test = df1.drop(train.index)\n",
    "train.head()"
   ]
  },
  {
   "cell_type": "code",
   "execution_count": 34,
   "metadata": {},
   "outputs": [],
   "source": [
    "# Since job titles could determine job salaries, we concatenate it with the job description.\n",
    "def concat(title, summary):\n",
    "    job_details = title + ' ' + summary\n",
    "    return job_details\n",
    "\n",
    "\n",
    "def get_job_details(df1):\n",
    "    job_details_list = []\n",
    "    for row in df1.itertuples():\n",
    "        job_details = concat(row[3], row[1])\n",
    "        job_details_list.append(job_details)\n",
    "    return job_details_list"
   ]
  },
  {
   "cell_type": "markdown",
   "metadata": {},
   "source": [
    "### Moeling (Classifier: mnb, knn, lreg, dt)"
   ]
  },
  {
   "cell_type": "markdown",
   "metadata": {},
   "source": [
    "We use a ensemble machine learing model to predict the salaries. To achieve this, voting classifier from sklearn is used. Multinomial Naive Bayes, K-Nearest Neighbor, Logistic Regression & Decision Tree classifiers are the predictors for our voting classifier."
   ]
  },
  {
   "cell_type": "code",
   "execution_count": 35,
   "metadata": {},
   "outputs": [],
   "source": [
    "def model(train, test):\n",
    "    \"\"\"\n",
    "        This function trains our model and returns predictions\n",
    "        for test data\n",
    "    \"\"\"\n",
    "    train_jd = get_job_details(train)\n",
    "    test_jd = get_job_details(test)\n",
    "\n",
    "    # Convert text into matrix of token counts\n",
    "    counter = CountVectorizer()\n",
    "    counter.fit(train_jd)\n",
    "\n",
    "    counts_train = counter.transform(train_jd)\n",
    "    counts_test = counter.transform(test_jd)\n",
    "\n",
    "    mnb_classifier = MultinomialNB()\n",
    "    knn_classifier = KNeighborsClassifier()\n",
    "    lreg_classifier = LogisticRegression()\n",
    "    dt_classifier = DecisionTreeClassifier()\n",
    "\n",
    "    predictors = [\n",
    "        ('mnb', mnb_classifier),\n",
    "        ('knn', knn_classifier),\n",
    "        ('lreg', lreg_classifier),\n",
    "        ('dt', dt_classifier)\n",
    "    ]\n",
    "    voting_classifier = VotingClassifier(predictors)\n",
    "\n",
    "    # Train the model\n",
    "    voting_classifier.fit(counts_train, train['Queried_Salary'])\n",
    "\n",
    "    # Predict the salaries for test data\n",
    "    predicted = voting_classifier.predict(counts_test)\n",
    "\n",
    "    return predicted"
   ]
  },
  {
   "cell_type": "code",
   "execution_count": 36,
   "metadata": {},
   "outputs": [
    {
     "name": "stderr",
     "output_type": "stream",
     "text": [
      "/opt/anaconda3/lib/python3.7/site-packages/sklearn/linear_model/_logistic.py:940: ConvergenceWarning: lbfgs failed to converge (status=1):\n",
      "STOP: TOTAL NO. of ITERATIONS REACHED LIMIT.\n",
      "\n",
      "Increase the number of iterations (max_iter) or scale the data as shown in:\n",
      "    https://scikit-learn.org/stable/modules/preprocessing.html\n",
      "Please also refer to the documentation for alternative solver options:\n",
      "    https://scikit-learn.org/stable/modules/linear_model.html#logistic-regression\n",
      "  extra_warning_msg=_LOGISTIC_SOLVER_CONVERGENCE_MSG)\n"
     ]
    }
   ],
   "source": [
    "predicted = model(train, test)"
   ]
  },
  {
   "cell_type": "code",
   "execution_count": 37,
   "metadata": {},
   "outputs": [
    {
     "name": "stderr",
     "output_type": "stream",
     "text": [
      "/Users/jiebai/.local/lib/python3.7/site-packages/ipykernel_launcher.py:2: SettingWithCopyWarning: \n",
      "A value is trying to be set on a copy of a slice from a DataFrame.\n",
      "Try using .loc[row_indexer,col_indexer] = value instead\n",
      "\n",
      "See the caveats in the documentation: http://pandas.pydata.org/pandas-docs/stable/user_guide/indexing.html#returning-a-view-versus-a-copy\n",
      "  \n",
      "/Users/jiebai/.local/lib/python3.7/site-packages/ipykernel_launcher.py:6: SettingWithCopyWarning: \n",
      "A value is trying to be set on a copy of a slice from a DataFrame.\n",
      "Try using .loc[row_indexer,col_indexer] = value instead\n",
      "\n",
      "See the caveats in the documentation: http://pandas.pydata.org/pandas-docs/stable/user_guide/indexing.html#returning-a-view-versus-a-copy\n",
      "  \n",
      "/Users/jiebai/.local/lib/python3.7/site-packages/ipykernel_launcher.py:7: SettingWithCopyWarning: \n",
      "A value is trying to be set on a copy of a slice from a DataFrame.\n",
      "Try using .loc[row_indexer,col_indexer] = value instead\n",
      "\n",
      "See the caveats in the documentation: http://pandas.pydata.org/pandas-docs/stable/user_guide/indexing.html#returning-a-view-versus-a-copy\n",
      "  import sys\n"
     ]
    },
    {
     "data": {
      "text/html": [
       "<div>\n",
       "<style scoped>\n",
       "    .dataframe tbody tr th:only-of-type {\n",
       "        vertical-align: middle;\n",
       "    }\n",
       "\n",
       "    .dataframe tbody tr th {\n",
       "        vertical-align: top;\n",
       "    }\n",
       "\n",
       "    .dataframe thead th {\n",
       "        text-align: right;\n",
       "    }\n",
       "</style>\n",
       "<table border=\"1\" class=\"dataframe\">\n",
       "  <thead>\n",
       "    <tr style=\"text-align: right;\">\n",
       "      <th></th>\n",
       "      <th>actual</th>\n",
       "      <th>predicted</th>\n",
       "    </tr>\n",
       "  </thead>\n",
       "  <tbody>\n",
       "    <tr>\n",
       "      <td>2</td>\n",
       "      <td>4</td>\n",
       "      <td>4</td>\n",
       "    </tr>\n",
       "    <tr>\n",
       "      <td>18</td>\n",
       "      <td>4</td>\n",
       "      <td>1</td>\n",
       "    </tr>\n",
       "    <tr>\n",
       "      <td>19</td>\n",
       "      <td>4</td>\n",
       "      <td>1</td>\n",
       "    </tr>\n",
       "    <tr>\n",
       "      <td>40</td>\n",
       "      <td>4</td>\n",
       "      <td>1</td>\n",
       "    </tr>\n",
       "    <tr>\n",
       "      <td>52</td>\n",
       "      <td>3</td>\n",
       "      <td>0</td>\n",
       "    </tr>\n",
       "  </tbody>\n",
       "</table>\n",
       "</div>"
      ],
      "text/plain": [
       "    actual  predicted\n",
       "2        4          4\n",
       "18       4          1\n",
       "19       4          1\n",
       "40       4          1\n",
       "52       3          0"
      ]
     },
     "execution_count": 37,
     "metadata": {},
     "output_type": "execute_result"
    }
   ],
   "source": [
    "result = test.loc[:, test.columns.isin(['Queried_Salary'])]\n",
    "result['predicted'] = predicted\n",
    "# Rename the columns\n",
    "result.columns = ['actual', 'predicted']\n",
    "\n",
    "result['actual'] = pd.to_numeric(result['actual'], errors='coerce')\n",
    "result['predicted'] = pd.to_numeric(result['predicted'], errors='coerce')\n",
    "\n",
    "result.head()"
   ]
  },
  {
   "cell_type": "code",
   "execution_count": 38,
   "metadata": {},
   "outputs": [
    {
     "data": {
      "text/plain": [
       "0.4676524953789279"
      ]
     },
     "execution_count": 38,
     "metadata": {},
     "output_type": "execute_result"
    }
   ],
   "source": [
    "# Calculating the accuracy score of our model\n",
    "accuracy_score(result['actual'], result['predicted'])"
   ]
  },
  {
   "cell_type": "markdown",
   "metadata": {},
   "source": [
    "We get an accuracy of 46.7% which is pretty low. However, accuracy is always not the best indicator of how good the model is. Since we are dealing with salary ranges with difference of $10k here, we could see how good the model is predicting with a single range error."
   ]
  },
  {
   "cell_type": "code",
   "execution_count": 39,
   "metadata": {},
   "outputs": [
    {
     "data": {
      "text/html": [
       "<div>\n",
       "<style scoped>\n",
       "    .dataframe tbody tr th:only-of-type {\n",
       "        vertical-align: middle;\n",
       "    }\n",
       "\n",
       "    .dataframe tbody tr th {\n",
       "        vertical-align: top;\n",
       "    }\n",
       "\n",
       "    .dataframe thead th {\n",
       "        text-align: right;\n",
       "    }\n",
       "</style>\n",
       "<table border=\"1\" class=\"dataframe\">\n",
       "  <thead>\n",
       "    <tr style=\"text-align: right;\">\n",
       "      <th></th>\n",
       "      <th>actual</th>\n",
       "      <th>predicted</th>\n",
       "      <th>difference</th>\n",
       "    </tr>\n",
       "  </thead>\n",
       "  <tbody>\n",
       "    <tr>\n",
       "      <td>2</td>\n",
       "      <td>4</td>\n",
       "      <td>4</td>\n",
       "      <td>0</td>\n",
       "    </tr>\n",
       "    <tr>\n",
       "      <td>18</td>\n",
       "      <td>4</td>\n",
       "      <td>1</td>\n",
       "      <td>3</td>\n",
       "    </tr>\n",
       "    <tr>\n",
       "      <td>19</td>\n",
       "      <td>4</td>\n",
       "      <td>1</td>\n",
       "      <td>3</td>\n",
       "    </tr>\n",
       "    <tr>\n",
       "      <td>40</td>\n",
       "      <td>4</td>\n",
       "      <td>1</td>\n",
       "      <td>3</td>\n",
       "    </tr>\n",
       "    <tr>\n",
       "      <td>52</td>\n",
       "      <td>3</td>\n",
       "      <td>0</td>\n",
       "      <td>3</td>\n",
       "    </tr>\n",
       "  </tbody>\n",
       "</table>\n",
       "</div>"
      ],
      "text/plain": [
       "    actual  predicted  difference\n",
       "2        4          4           0\n",
       "18       4          1           3\n",
       "19       4          1           3\n",
       "40       4          1           3\n",
       "52       3          0           3"
      ]
     },
     "execution_count": 39,
     "metadata": {},
     "output_type": "execute_result"
    }
   ],
   "source": [
    "result['difference'] = np.absolute(result['actual'].\n",
    "                                   subtract(result['predicted']))\n",
    "result.head()"
   ]
  },
  {
   "cell_type": "code",
   "execution_count": 40,
   "metadata": {},
   "outputs": [
    {
     "data": {
      "text/plain": [
       "0.7523105360443623"
      ]
     },
     "execution_count": 40,
     "metadata": {},
     "output_type": "execute_result"
    }
   ],
   "source": [
    "len(result[result['difference'] <= 1]) / len(result)"
   ]
  },
  {
   "cell_type": "markdown",
   "metadata": {},
   "source": [
    "75.2% of the time, it predicts within a single range of error."
   ]
  },
  {
   "cell_type": "code",
   "execution_count": 41,
   "metadata": {},
   "outputs": [
    {
     "data": {
      "text/plain": [
       "0.8160813308687616"
      ]
     },
     "execution_count": 41,
     "metadata": {},
     "output_type": "execute_result"
    }
   ],
   "source": [
    "len(result[result['difference'] <= 2]) / len(result)"
   ]
  },
  {
   "cell_type": "markdown",
   "metadata": {},
   "source": [
    "81.6% of the data are within two ranges of error."
   ]
  },
  {
   "cell_type": "markdown",
   "metadata": {},
   "source": [
    "## Data Prediction with More Features"
   ]
  },
  {
   "cell_type": "markdown",
   "metadata": {},
   "source": [
    "We think there might be more features related to the salary levels. Then we perform the salary prediction with the feauters: Job type; Location; Industy; Number of Skills required."
   ]
  },
  {
   "cell_type": "code",
   "execution_count": 42,
   "metadata": {},
   "outputs": [
    {
     "name": "stdout",
     "output_type": "stream",
     "text": [
      "Job_Title                            object\n",
      "Link                                 object\n",
      "Queried_Salary                       object\n",
      "Job_Type                             object\n",
      "Skill                                object\n",
      "No_of_Skills                        float64\n",
      "Company                              object\n",
      "No_of_Reviews                       float64\n",
      "No_of_Stars                         float64\n",
      "Date_Since_Posted                   float64\n",
      "Description                          object\n",
      "Location                             object\n",
      "Company_Revenue                      object\n",
      "Company_Employees                    object\n",
      "Company_Industry                     object\n",
      "python                              float64\n",
      "sql                                 float64\n",
      "machine learning                    float64\n",
      "r                                   float64\n",
      "hadoop                              float64\n",
      "tableau                             float64\n",
      "sas                                 float64\n",
      "spark                               float64\n",
      "java                                float64\n",
      "Others                              float64\n",
      "CA                                  float64\n",
      "NY                                  float64\n",
      "VA                                  float64\n",
      "TX                                  float64\n",
      "MA                                  float64\n",
      "IL                                  float64\n",
      "WA                                  float64\n",
      "MD                                  float64\n",
      "DC                                  float64\n",
      "NC                                  float64\n",
      "Other_states                        float64\n",
      "Consulting and Business Services    float64\n",
      "Internet and Software               float64\n",
      "Banks and Financial Services        float64\n",
      "Health Care                         float64\n",
      "Insurance                           float64\n",
      "Other_industries                    float64\n",
      "dtype: object\n"
     ]
    },
    {
     "data": {
      "text/html": [
       "<div>\n",
       "<style scoped>\n",
       "    .dataframe tbody tr th:only-of-type {\n",
       "        vertical-align: middle;\n",
       "    }\n",
       "\n",
       "    .dataframe tbody tr th {\n",
       "        vertical-align: top;\n",
       "    }\n",
       "\n",
       "    .dataframe thead th {\n",
       "        text-align: right;\n",
       "    }\n",
       "</style>\n",
       "<table border=\"1\" class=\"dataframe\">\n",
       "  <thead>\n",
       "    <tr style=\"text-align: right;\">\n",
       "      <th></th>\n",
       "      <th>Job_Type</th>\n",
       "      <th>Queried_Salary</th>\n",
       "      <th>No_of_Skills</th>\n",
       "      <th>Company</th>\n",
       "      <th>Company_Industry</th>\n",
       "      <th>Location</th>\n",
       "    </tr>\n",
       "  </thead>\n",
       "  <tbody>\n",
       "    <tr>\n",
       "      <td>0</td>\n",
       "      <td>data_scientist</td>\n",
       "      <td>&lt;80000</td>\n",
       "      <td>2.0</td>\n",
       "      <td>Express Scripts</td>\n",
       "      <td>Health Care</td>\n",
       "      <td>MO</td>\n",
       "    </tr>\n",
       "    <tr>\n",
       "      <td>3</td>\n",
       "      <td>data_scientist</td>\n",
       "      <td>&lt;80000</td>\n",
       "      <td>1.0</td>\n",
       "      <td>Central Intelligence Agency</td>\n",
       "      <td>Government</td>\n",
       "      <td>DC</td>\n",
       "    </tr>\n",
       "  </tbody>\n",
       "</table>\n",
       "</div>"
      ],
      "text/plain": [
       "         Job_Type Queried_Salary  No_of_Skills                      Company  \\\n",
       "0  data_scientist         <80000           2.0              Express Scripts   \n",
       "3  data_scientist         <80000           1.0  Central Intelligence Agency   \n",
       "\n",
       "  Company_Industry Location  \n",
       "0      Health Care       MO  \n",
       "3       Government       DC  "
      ]
     },
     "execution_count": 42,
     "metadata": {},
     "output_type": "execute_result"
    }
   ],
   "source": [
    "df2 = pd.read_csv('Resources/indeed_job_dataset.csv')\n",
    "df2 = df2[['Job_Type','Queried_Salary','No_of_Skills','Company','Company_Industry','Location']].copy()\n",
    "df2 = df2.dropna(how='any')\n",
    "df2['No_of_Skills'] = df2['No_of_Skills'].astype('float')\n",
    "print(df.dtypes)\n",
    "df2.head(2)"
   ]
  },
  {
   "cell_type": "code",
   "execution_count": 43,
   "metadata": {},
   "outputs": [],
   "source": [
    "df2 = df2.replace({'Queried_Salary' : {'<80000': 70000, '80000-99999': 90000, '100000-119999': 110000, '120000-139999': 130000, '140000-159999': 150000, '>160000': 160000}})"
   ]
  },
  {
   "cell_type": "code",
   "execution_count": 45,
   "metadata": {},
   "outputs": [
    {
     "name": "stdout",
     "output_type": "stream",
     "text": [
      "Job_Type             object\n",
      "Queried_Salary      float64\n",
      "No_of_Skills        float64\n",
      "Company              object\n",
      "Company_Industry     object\n",
      "Location             object\n",
      "dtype: object\n"
     ]
    }
   ],
   "source": [
    "df2['Queried_Salary'] = df2['Queried_Salary'].astype('float')\n",
    "print(df2.dtypes)"
   ]
  },
  {
   "cell_type": "code",
   "execution_count": 46,
   "metadata": {},
   "outputs": [
    {
     "name": "stdout",
     "output_type": "stream",
     "text": [
      "Job_Type            category\n",
      "Queried_Salary       float64\n",
      "No_of_Skills         float64\n",
      "Company             category\n",
      "Company_Industry    category\n",
      "Location            category\n",
      "dtype: object\n"
     ]
    },
    {
     "data": {
      "text/plain": [
       "(3817, 6)"
      ]
     },
     "execution_count": 46,
     "metadata": {},
     "output_type": "execute_result"
    }
   ],
   "source": [
    "# Converting the columns to 'category' type.\n",
    "df2['Job_Type'] = df2['Job_Type'].astype('category')\n",
    "df2['Company'] = df2['Company'].astype('category')\n",
    "df2['Company_Industry'] = df2['Company_Industry'].astype('category')\n",
    "df2['Location'] = df2['Location'].astype('category')\n",
    "print(df2.dtypes)\n",
    "df2.shape"
   ]
  },
  {
   "cell_type": "code",
   "execution_count": 51,
   "metadata": {},
   "outputs": [],
   "source": [
    "# Choosing 'jobType','industry','No_of_Skills','Company','locaction' as features for prediction.\n",
    "# salary is our target variable.\n",
    "predictor_columns = ['Job_Type','Company_Industry','Location','No_of_Skills']\n",
    "target_column = ['Queried_Salary']\n",
    "train_x = df2[predictor_columns]\n",
    "train_y = df2[target_column] "
   ]
  },
  {
   "cell_type": "code",
   "execution_count": 52,
   "metadata": {},
   "outputs": [],
   "source": [
    "# Encode the categorical variables\n",
    "train_x = pd.get_dummies(train_x)"
   ]
  },
  {
   "cell_type": "code",
   "execution_count": 53,
   "metadata": {},
   "outputs": [],
   "source": [
    "# Running Linear Regression (without regularization)\n",
    "from sklearn.model_selection import cross_val_score\n",
    "from sklearn import linear_model\n",
    "\n",
    "regr = linear_model.LinearRegression()\n",
    "scores = cross_val_score(regr,train_x,train_y,cv=5,scoring='r2')"
   ]
  },
  {
   "cell_type": "code",
   "execution_count": 54,
   "metadata": {},
   "outputs": [
    {
     "name": "stdout",
     "output_type": "stream",
     "text": [
      "[-3.41197132e+15 -3.91190083e+18 -3.88212170e+18 -1.61897214e+20\n",
      " -1.44277342e+19]\n",
      "-3.6824476633164657e+19\n"
     ]
    }
   ],
   "source": [
    "print(scores) \n",
    "print(scores.mean())"
   ]
  },
  {
   "cell_type": "code",
   "execution_count": 55,
   "metadata": {},
   "outputs": [
    {
     "name": "stdout",
     "output_type": "stream",
     "text": [
      "Fitting 5 folds for each of 10 candidates, totalling 50 fits\n",
      "[CV] alpha=0.001 .....................................................\n",
      "[CV] ........................ alpha=0.001, score=-4.753, total=   0.0s\n",
      "[CV] alpha=0.001 .....................................................\n",
      "[CV] ........................ alpha=0.001, score=-3.375, total=   0.0s\n",
      "[CV] alpha=0.001 .....................................................\n",
      "[CV] ......................... alpha=0.001, score=0.358, total=   0.0s\n",
      "[CV] alpha=0.001 .....................................................\n",
      "[CV] ........................ alpha=0.001, score=-1.610, total=   0.0s\n",
      "[CV] alpha=0.001 .....................................................\n",
      "[CV] ........................ alpha=0.001, score=-2.673, total=   0.0s\n",
      "[CV] alpha=0.003593813663804626 ......................................\n",
      "[CV] ......... alpha=0.003593813663804626, score=-4.753, total=   0.0s\n",
      "[CV] alpha=0.003593813663804626 ......................................\n",
      "[CV] ......... alpha=0.003593813663804626, score=-3.375, total=   0.0s\n",
      "[CV] alpha=0.003593813663804626 ......................................\n",
      "[CV] .......... alpha=0.003593813663804626, score=0.358, total=   0.0s\n",
      "[CV] alpha=0.003593813663804626 ......................................\n",
      "[CV] ......... alpha=0.003593813663804626, score=-1.610, total=   0.0s\n",
      "[CV] alpha=0.003593813663804626 ......................................\n",
      "[CV] ......... alpha=0.003593813663804626, score=-2.673, total=   0.0s\n",
      "[CV] alpha=0.01291549665014884 .......................................\n",
      "[CV] .......... alpha=0.01291549665014884, score=-4.753, total=   0.0s\n",
      "[CV] alpha=0.01291549665014884 .......................................\n",
      "[CV] .......... alpha=0.01291549665014884, score=-3.375, total=   0.0s\n",
      "[CV] alpha=0.01291549665014884 .......................................\n",
      "[CV] ........... alpha=0.01291549665014884, score=0.358, total=   0.0s\n",
      "[CV] alpha=0.01291549665014884 .......................................\n",
      "[CV] .......... alpha=0.01291549665014884, score=-1.610, total=   0.0s\n",
      "[CV] alpha=0.01291549665014884 .......................................\n",
      "[CV] .......... alpha=0.01291549665014884, score=-2.672, total=   0.0s\n",
      "[CV] alpha=0.046415888336127795 ......................................\n",
      "[CV] ......... alpha=0.046415888336127795, score=-4.753, total=   0.0s\n",
      "[CV] alpha=0.046415888336127795 ......................................\n",
      "[CV] ......... alpha=0.046415888336127795, score=-3.375, total=   0.0s\n",
      "[CV] alpha=0.046415888336127795 ......................................\n",
      "[CV] .......... alpha=0.046415888336127795, score=0.358, total=   0.0s\n",
      "[CV] alpha=0.046415888336127795 ......................................\n",
      "[CV] ......... alpha=0.046415888336127795, score=-1.610, total=   0.0s\n",
      "[CV] alpha=0.046415888336127795 ......................................\n",
      "[CV] ......... alpha=0.046415888336127795, score=-2.670, total=   0.0s\n",
      "[CV] alpha=0.1668100537200059 ........................................\n",
      "[CV] ........... alpha=0.1668100537200059, score=-4.754, total=   0.0s\n",
      "[CV] alpha=0.1668100537200059 ........................................\n",
      "[CV] ........... alpha=0.1668100537200059, score=-3.377, total=   0.0s\n",
      "[CV] alpha=0.1668100537200059 ........................................\n"
     ]
    },
    {
     "name": "stderr",
     "output_type": "stream",
     "text": [
      "[Parallel(n_jobs=1)]: Using backend SequentialBackend with 1 concurrent workers.\n",
      "[Parallel(n_jobs=1)]: Done   1 out of   1 | elapsed:    0.0s remaining:    0.0s\n",
      "[Parallel(n_jobs=1)]: Done   2 out of   2 | elapsed:    0.0s remaining:    0.0s\n",
      "[Parallel(n_jobs=1)]: Done   3 out of   3 | elapsed:    0.0s remaining:    0.0s\n",
      "[Parallel(n_jobs=1)]: Done   4 out of   4 | elapsed:    0.0s remaining:    0.0s\n",
      "[Parallel(n_jobs=1)]: Done   5 out of   5 | elapsed:    0.1s remaining:    0.0s\n",
      "[Parallel(n_jobs=1)]: Done   6 out of   6 | elapsed:    0.1s remaining:    0.0s\n",
      "[Parallel(n_jobs=1)]: Done   7 out of   7 | elapsed:    0.1s remaining:    0.0s\n",
      "[Parallel(n_jobs=1)]: Done   8 out of   8 | elapsed:    0.1s remaining:    0.0s\n",
      "[Parallel(n_jobs=1)]: Done   9 out of   9 | elapsed:    0.1s remaining:    0.0s\n"
     ]
    },
    {
     "name": "stdout",
     "output_type": "stream",
     "text": [
      "[CV] ............ alpha=0.1668100537200059, score=0.358, total=   0.0s\n",
      "[CV] alpha=0.1668100537200059 ........................................\n",
      "[CV] ........... alpha=0.1668100537200059, score=-1.609, total=   0.0s\n",
      "[CV] alpha=0.1668100537200059 ........................................\n",
      "[CV] ........... alpha=0.1668100537200059, score=-2.664, total=   0.0s\n",
      "[CV] alpha=0.5994842503189409 ........................................\n",
      "[CV] ........... alpha=0.5994842503189409, score=-4.759, total=   0.0s\n",
      "[CV] alpha=0.5994842503189409 ........................................\n",
      "[CV] ........... alpha=0.5994842503189409, score=-3.383, total=   0.0s\n",
      "[CV] alpha=0.5994842503189409 ........................................\n",
      "[CV] ............ alpha=0.5994842503189409, score=0.356, total=   0.0s\n",
      "[CV] alpha=0.5994842503189409 ........................................\n",
      "[CV] ........... alpha=0.5994842503189409, score=-1.608, total=   0.0s\n",
      "[CV] alpha=0.5994842503189409 ........................................\n",
      "[CV] ........... alpha=0.5994842503189409, score=-2.648, total=   0.0s\n",
      "[CV] alpha=2.1544346900318843 ........................................\n",
      "[CV] ........... alpha=2.1544346900318843, score=-4.777, total=   0.0s\n",
      "[CV] alpha=2.1544346900318843 ........................................\n",
      "[CV] ........... alpha=2.1544346900318843, score=-3.401, total=   0.0s\n",
      "[CV] alpha=2.1544346900318843 ........................................\n",
      "[CV] ............ alpha=2.1544346900318843, score=0.352, total=   0.0s\n",
      "[CV] alpha=2.1544346900318843 ........................................\n",
      "[CV] ........... alpha=2.1544346900318843, score=-1.603, total=   0.0s\n",
      "[CV] alpha=2.1544346900318843 ........................................\n",
      "[CV] ........... alpha=2.1544346900318843, score=-2.626, total=   0.0s\n",
      "[CV] alpha=7.742636826811277 .........................................\n",
      "[CV] ............ alpha=7.742636826811277, score=-4.821, total=   0.0s\n",
      "[CV] alpha=7.742636826811277 .........................................\n",
      "[CV] ............ alpha=7.742636826811277, score=-3.445, total=   0.0s\n",
      "[CV] alpha=7.742636826811277 .........................................\n",
      "[CV] ............. alpha=7.742636826811277, score=0.341, total=   0.0s\n",
      "[CV] alpha=7.742636826811277 .........................................\n",
      "[CV] ............ alpha=7.742636826811277, score=-1.587, total=   0.0s\n",
      "[CV] alpha=7.742636826811277 .........................................\n",
      "[CV] ............ alpha=7.742636826811277, score=-2.589, total=   0.0s\n",
      "[CV] alpha=27.825594022071257 ........................................\n",
      "[CV] ........... alpha=27.825594022071257, score=-4.867, total=   0.0s\n",
      "[CV] alpha=27.825594022071257 ........................................\n",
      "[CV] ........... alpha=27.825594022071257, score=-3.538, total=   0.0s\n",
      "[CV] alpha=27.825594022071257 ........................................\n",
      "[CV] ............ alpha=27.825594022071257, score=0.311, total=   0.0s\n",
      "[CV] alpha=27.825594022071257 ........................................\n",
      "[CV] ........... alpha=27.825594022071257, score=-1.517, total=   0.0s\n",
      "[CV] alpha=27.825594022071257 ........................................\n",
      "[CV] ........... alpha=27.825594022071257, score=-2.457, total=   0.0s\n",
      "[CV] alpha=100.0 .....................................................\n",
      "[CV] ........................ alpha=100.0, score=-4.757, total=   0.0s\n",
      "[CV] alpha=100.0 .....................................................\n",
      "[CV] ........................ alpha=100.0, score=-3.745, total=   0.0s\n",
      "[CV] alpha=100.0 .....................................................\n",
      "[CV] ......................... alpha=100.0, score=0.240, total=   0.0s\n",
      "[CV] alpha=100.0 .....................................................\n",
      "[CV] ........................ alpha=100.0, score=-1.255, total=   0.0s\n",
      "[CV] alpha=100.0 .....................................................\n",
      "[CV] ........................ alpha=100.0, score=-2.069, total=   0.0s\n"
     ]
    },
    {
     "name": "stderr",
     "output_type": "stream",
     "text": [
      "[Parallel(n_jobs=1)]: Done  50 out of  50 | elapsed:    0.4s finished\n"
     ]
    },
    {
     "data": {
      "text/plain": [
       "GridSearchCV(cv=5, error_score=nan,\n",
       "             estimator=Ridge(alpha=1.0, copy_X=True, fit_intercept=True,\n",
       "                             max_iter=None, normalize=False, random_state=None,\n",
       "                             solver='auto', tol=0.001),\n",
       "             iid='deprecated', n_jobs=None,\n",
       "             param_grid=[{'alpha': array([1.00000000e-03, 3.59381366e-03, 1.29154967e-02, 4.64158883e-02,\n",
       "       1.66810054e-01, 5.99484250e-01, 2.15443469e+00, 7.74263683e+00,\n",
       "       2.78255940e+01, 1.00000000e+02])}],\n",
       "             pre_dispatch='2*n_jobs', refit=True, return_train_score=False,\n",
       "             scoring='r2', verbose=10)"
      ]
     },
     "execution_count": 55,
     "metadata": {},
     "output_type": "execute_result"
    }
   ],
   "source": [
    "# Run Ridge Regression using GridSearch\n",
    "from sklearn.model_selection import GridSearchCV\n",
    "\n",
    "alphas = np.logspace(-3,2,10)\n",
    "tuning_parameters = [{'alpha':alphas}]\n",
    "grid = GridSearchCV(linear_model.Ridge(),tuning_parameters,cv=5,scoring='r2',verbose=10)\n",
    "grid.fit(train_x,train_y)"
   ]
  },
  {
   "cell_type": "code",
   "execution_count": 56,
   "metadata": {},
   "outputs": [
    {
     "data": {
      "text/plain": [
       "-2.316986386635318"
      ]
     },
     "execution_count": 56,
     "metadata": {},
     "output_type": "execute_result"
    }
   ],
   "source": [
    "grid.best_score_"
   ]
  },
  {
   "cell_type": "code",
   "execution_count": 57,
   "metadata": {},
   "outputs": [
    {
     "name": "stdout",
     "output_type": "stream",
     "text": [
      "Fitting 5 folds for each of 10 candidates, totalling 50 fits\n",
      "[CV] alpha=0.001 .....................................................\n",
      "[CV] ........................ alpha=0.001, score=-4.762, total=   0.2s\n",
      "[CV] alpha=0.001 .....................................................\n"
     ]
    },
    {
     "name": "stderr",
     "output_type": "stream",
     "text": [
      "[Parallel(n_jobs=1)]: Using backend SequentialBackend with 1 concurrent workers.\n",
      "/opt/anaconda3/lib/python3.7/site-packages/sklearn/linear_model/_coordinate_descent.py:476: ConvergenceWarning: Objective did not converge. You might want to increase the number of iterations. Duality gap: 401625647906.5541, tolerance: 265968090.40288195\n",
      "  positive)\n",
      "[Parallel(n_jobs=1)]: Done   1 out of   1 | elapsed:    0.2s remaining:    0.0s\n",
      "/opt/anaconda3/lib/python3.7/site-packages/sklearn/linear_model/_coordinate_descent.py:476: ConvergenceWarning: Objective did not converge. You might want to increase the number of iterations. Duality gap: 521825734380.2291, tolerance: 234816449.39403853\n",
      "  positive)\n",
      "[Parallel(n_jobs=1)]: Done   2 out of   2 | elapsed:    0.4s remaining:    0.0s\n",
      "/opt/anaconda3/lib/python3.7/site-packages/sklearn/linear_model/_coordinate_descent.py:476: ConvergenceWarning: Objective did not converge. You might want to increase the number of iterations. Duality gap: 427522785861.81274, tolerance: 146285517.35428947\n",
      "  positive)\n",
      "[Parallel(n_jobs=1)]: Done   3 out of   3 | elapsed:    0.6s remaining:    0.0s\n"
     ]
    },
    {
     "name": "stdout",
     "output_type": "stream",
     "text": [
      "[CV] ........................ alpha=0.001, score=-3.375, total=   0.2s\n",
      "[CV] alpha=0.001 .....................................................\n",
      "[CV] ......................... alpha=0.001, score=0.358, total=   0.2s\n",
      "[CV] alpha=0.001 .....................................................\n"
     ]
    },
    {
     "name": "stderr",
     "output_type": "stream",
     "text": [
      "/opt/anaconda3/lib/python3.7/site-packages/sklearn/linear_model/_coordinate_descent.py:476: ConvergenceWarning: Objective did not converge. You might want to increase the number of iterations. Duality gap: 322055291313.42633, tolerance: 242218258.02226603\n",
      "  positive)\n",
      "[Parallel(n_jobs=1)]: Done   4 out of   4 | elapsed:    0.7s remaining:    0.0s\n",
      "/opt/anaconda3/lib/python3.7/site-packages/sklearn/linear_model/_coordinate_descent.py:476: ConvergenceWarning: Objective did not converge. You might want to increase the number of iterations. Duality gap: 473146537305.5989, tolerance: 241877357.563851\n",
      "  positive)\n",
      "[Parallel(n_jobs=1)]: Done   5 out of   5 | elapsed:    0.9s remaining:    0.0s\n"
     ]
    },
    {
     "name": "stdout",
     "output_type": "stream",
     "text": [
      "[CV] ........................ alpha=0.001, score=-1.610, total=   0.2s\n",
      "[CV] alpha=0.001 .....................................................\n",
      "[CV] ........................ alpha=0.001, score=-2.673, total=   0.2s\n",
      "[CV] alpha=0.003593813663804626 ......................................\n"
     ]
    },
    {
     "name": "stderr",
     "output_type": "stream",
     "text": [
      "/opt/anaconda3/lib/python3.7/site-packages/sklearn/linear_model/_coordinate_descent.py:476: ConvergenceWarning: Objective did not converge. You might want to increase the number of iterations. Duality gap: 401630295137.748, tolerance: 265968090.40288195\n",
      "  positive)\n",
      "[Parallel(n_jobs=1)]: Done   6 out of   6 | elapsed:    1.1s remaining:    0.0s\n",
      "/opt/anaconda3/lib/python3.7/site-packages/sklearn/linear_model/_coordinate_descent.py:476: ConvergenceWarning: Objective did not converge. You might want to increase the number of iterations. Duality gap: 513595937390.83496, tolerance: 234816449.39403853\n",
      "  positive)\n"
     ]
    },
    {
     "name": "stdout",
     "output_type": "stream",
     "text": [
      "[CV] ......... alpha=0.003593813663804626, score=-4.762, total=   0.2s\n",
      "[CV] alpha=0.003593813663804626 ......................................\n",
      "[CV] ......... alpha=0.003593813663804626, score=-3.375, total=   0.2s\n",
      "[CV] alpha=0.003593813663804626 ......................................\n"
     ]
    },
    {
     "name": "stderr",
     "output_type": "stream",
     "text": [
      "[Parallel(n_jobs=1)]: Done   7 out of   7 | elapsed:    1.3s remaining:    0.0s\n",
      "/opt/anaconda3/lib/python3.7/site-packages/sklearn/linear_model/_coordinate_descent.py:476: ConvergenceWarning: Objective did not converge. You might want to increase the number of iterations. Duality gap: 427527238900.1249, tolerance: 146285517.35428947\n",
      "  positive)\n",
      "[Parallel(n_jobs=1)]: Done   8 out of   8 | elapsed:    1.5s remaining:    0.0s\n"
     ]
    },
    {
     "name": "stdout",
     "output_type": "stream",
     "text": [
      "[CV] .......... alpha=0.003593813663804626, score=0.358, total=   0.2s\n",
      "[CV] alpha=0.003593813663804626 ......................................\n",
      "[CV] ......... alpha=0.003593813663804626, score=-1.610, total=   0.2s\n",
      "[CV] alpha=0.003593813663804626 ......................................\n"
     ]
    },
    {
     "name": "stderr",
     "output_type": "stream",
     "text": [
      "/opt/anaconda3/lib/python3.7/site-packages/sklearn/linear_model/_coordinate_descent.py:476: ConvergenceWarning: Objective did not converge. You might want to increase the number of iterations. Duality gap: 322059062893.9141, tolerance: 242218258.02226603\n",
      "  positive)\n",
      "[Parallel(n_jobs=1)]: Done   9 out of   9 | elapsed:    1.7s remaining:    0.0s\n",
      "/opt/anaconda3/lib/python3.7/site-packages/sklearn/linear_model/_coordinate_descent.py:476: ConvergenceWarning: Objective did not converge. You might want to increase the number of iterations. Duality gap: 459924351936.201, tolerance: 241877357.563851\n",
      "  positive)\n"
     ]
    },
    {
     "name": "stdout",
     "output_type": "stream",
     "text": [
      "[CV] ......... alpha=0.003593813663804626, score=-2.673, total=   0.2s\n",
      "[CV] alpha=0.01291549665014884 .......................................\n",
      "[CV] .......... alpha=0.01291549665014884, score=-4.761, total=   0.2s\n",
      "[CV] alpha=0.01291549665014884 .......................................\n"
     ]
    },
    {
     "name": "stderr",
     "output_type": "stream",
     "text": [
      "/opt/anaconda3/lib/python3.7/site-packages/sklearn/linear_model/_coordinate_descent.py:476: ConvergenceWarning: Objective did not converge. You might want to increase the number of iterations. Duality gap: 401646654293.0087, tolerance: 265968090.40288195\n",
      "  positive)\n",
      "/opt/anaconda3/lib/python3.7/site-packages/sklearn/linear_model/_coordinate_descent.py:476: ConvergenceWarning: Objective did not converge. You might want to increase the number of iterations. Duality gap: 513611682547.6816, tolerance: 234816449.39403853\n",
      "  positive)\n"
     ]
    },
    {
     "name": "stdout",
     "output_type": "stream",
     "text": [
      "[CV] .......... alpha=0.01291549665014884, score=-3.375, total=   0.2s\n",
      "[CV] alpha=0.01291549665014884 .......................................\n",
      "[CV] ........... alpha=0.01291549665014884, score=0.358, total=   0.2s\n",
      "[CV] alpha=0.01291549665014884 .......................................\n"
     ]
    },
    {
     "name": "stderr",
     "output_type": "stream",
     "text": [
      "/opt/anaconda3/lib/python3.7/site-packages/sklearn/linear_model/_coordinate_descent.py:476: ConvergenceWarning: Objective did not converge. You might want to increase the number of iterations. Duality gap: 427542805051.99347, tolerance: 146285517.35428947\n",
      "  positive)\n",
      "/opt/anaconda3/lib/python3.7/site-packages/sklearn/linear_model/_coordinate_descent.py:476: ConvergenceWarning: Objective did not converge. You might want to increase the number of iterations. Duality gap: 314106798690.8783, tolerance: 242218258.02226603\n",
      "  positive)\n"
     ]
    },
    {
     "name": "stdout",
     "output_type": "stream",
     "text": [
      "[CV] .......... alpha=0.01291549665014884, score=-1.610, total=   0.2s\n",
      "[CV] alpha=0.01291549665014884 .......................................\n",
      "[CV] .......... alpha=0.01291549665014884, score=-2.673, total=   0.2s\n",
      "[CV] alpha=0.046415888336127795 ......................................\n"
     ]
    },
    {
     "name": "stderr",
     "output_type": "stream",
     "text": [
      "/opt/anaconda3/lib/python3.7/site-packages/sklearn/linear_model/_coordinate_descent.py:476: ConvergenceWarning: Objective did not converge. You might want to increase the number of iterations. Duality gap: 443967861837.2825, tolerance: 241877357.563851\n",
      "  positive)\n",
      "/opt/anaconda3/lib/python3.7/site-packages/sklearn/linear_model/_coordinate_descent.py:476: ConvergenceWarning: Objective did not converge. You might want to increase the number of iterations. Duality gap: 383356928315.9153, tolerance: 265968090.40288195\n",
      "  positive)\n"
     ]
    },
    {
     "name": "stdout",
     "output_type": "stream",
     "text": [
      "[CV] ......... alpha=0.046415888336127795, score=-4.759, total=   0.2s\n",
      "[CV] alpha=0.046415888336127795 ......................................\n"
     ]
    },
    {
     "name": "stderr",
     "output_type": "stream",
     "text": [
      "/opt/anaconda3/lib/python3.7/site-packages/sklearn/linear_model/_coordinate_descent.py:476: ConvergenceWarning: Objective did not converge. You might want to increase the number of iterations. Duality gap: 513662536535.5967, tolerance: 234816449.39403853\n",
      "  positive)\n",
      "/opt/anaconda3/lib/python3.7/site-packages/sklearn/linear_model/_coordinate_descent.py:476: ConvergenceWarning: Objective did not converge. You might want to increase the number of iterations. Duality gap: 411671415729.5431, tolerance: 146285517.35428947\n",
      "  positive)\n"
     ]
    },
    {
     "name": "stdout",
     "output_type": "stream",
     "text": [
      "[CV] ......... alpha=0.046415888336127795, score=-3.375, total=   0.2s\n",
      "[CV] alpha=0.046415888336127795 ......................................\n",
      "[CV] .......... alpha=0.046415888336127795, score=0.358, total=   0.2s\n",
      "[CV] alpha=0.046415888336127795 ......................................\n"
     ]
    },
    {
     "name": "stderr",
     "output_type": "stream",
     "text": [
      "/opt/anaconda3/lib/python3.7/site-packages/sklearn/linear_model/_coordinate_descent.py:476: ConvergenceWarning: Objective did not converge. You might want to increase the number of iterations. Duality gap: 292952445814.0585, tolerance: 242218258.02226603\n",
      "  positive)\n",
      "/opt/anaconda3/lib/python3.7/site-packages/sklearn/linear_model/_coordinate_descent.py:476: ConvergenceWarning: Objective did not converge. You might want to increase the number of iterations. Duality gap: 424360140077.28033, tolerance: 241877357.563851\n",
      "  positive)\n"
     ]
    },
    {
     "name": "stdout",
     "output_type": "stream",
     "text": [
      "[CV] ......... alpha=0.046415888336127795, score=-1.610, total=   0.2s\n",
      "[CV] alpha=0.046415888336127795 ......................................\n",
      "[CV] ......... alpha=0.046415888336127795, score=-2.672, total=   0.2s\n",
      "[CV] alpha=0.1668100537200059 ........................................\n"
     ]
    },
    {
     "name": "stderr",
     "output_type": "stream",
     "text": [
      "/opt/anaconda3/lib/python3.7/site-packages/sklearn/linear_model/_coordinate_descent.py:476: ConvergenceWarning: Objective did not converge. You might want to increase the number of iterations. Duality gap: 230134255985.58386, tolerance: 265968090.40288195\n",
      "  positive)\n",
      "/opt/anaconda3/lib/python3.7/site-packages/sklearn/linear_model/_coordinate_descent.py:476: ConvergenceWarning: Objective did not converge. You might want to increase the number of iterations. Duality gap: 299951405657.08435, tolerance: 234816449.39403853\n",
      "  positive)\n"
     ]
    },
    {
     "name": "stdout",
     "output_type": "stream",
     "text": [
      "[CV] ........... alpha=0.1668100537200059, score=-4.754, total=   0.2s\n",
      "[CV] alpha=0.1668100537200059 ........................................\n",
      "[CV] ........... alpha=0.1668100537200059, score=-3.375, total=   0.2s\n",
      "[CV] alpha=0.1668100537200059 ........................................\n"
     ]
    },
    {
     "name": "stderr",
     "output_type": "stream",
     "text": [
      "/opt/anaconda3/lib/python3.7/site-packages/sklearn/linear_model/_coordinate_descent.py:476: ConvergenceWarning: Objective did not converge. You might want to increase the number of iterations. Duality gap: 258154520691.23596, tolerance: 146285517.35428947\n",
      "  positive)\n",
      "/opt/anaconda3/lib/python3.7/site-packages/sklearn/linear_model/_coordinate_descent.py:476: ConvergenceWarning: Objective did not converge. You might want to increase the number of iterations. Duality gap: 201544584143.50525, tolerance: 242218258.02226603\n",
      "  positive)\n"
     ]
    },
    {
     "name": "stdout",
     "output_type": "stream",
     "text": [
      "[CV] ............ alpha=0.1668100537200059, score=0.358, total=   0.2s\n",
      "[CV] alpha=0.1668100537200059 ........................................\n",
      "[CV] ........... alpha=0.1668100537200059, score=-1.610, total=   0.2s\n",
      "[CV] alpha=0.1668100537200059 ........................................\n"
     ]
    },
    {
     "name": "stderr",
     "output_type": "stream",
     "text": [
      "/opt/anaconda3/lib/python3.7/site-packages/sklearn/linear_model/_coordinate_descent.py:476: ConvergenceWarning: Objective did not converge. You might want to increase the number of iterations. Duality gap: 263783373623.20807, tolerance: 241877357.563851\n",
      "  positive)\n",
      "/opt/anaconda3/lib/python3.7/site-packages/sklearn/linear_model/_coordinate_descent.py:476: ConvergenceWarning: Objective did not converge. You might want to increase the number of iterations. Duality gap: 548518863.5981445, tolerance: 265968090.40288195\n",
      "  positive)\n"
     ]
    },
    {
     "name": "stdout",
     "output_type": "stream",
     "text": [
      "[CV] ........... alpha=0.1668100537200059, score=-2.671, total=   0.2s\n",
      "[CV] alpha=0.5994842503189409 ........................................\n",
      "[CV] ........... alpha=0.5994842503189409, score=-4.755, total=   0.2s\n",
      "[CV] alpha=0.5994842503189409 ........................................\n"
     ]
    },
    {
     "name": "stderr",
     "output_type": "stream",
     "text": [
      "/opt/anaconda3/lib/python3.7/site-packages/sklearn/linear_model/_coordinate_descent.py:476: ConvergenceWarning: Objective did not converge. You might want to increase the number of iterations. Duality gap: 30540749788.90674, tolerance: 234816449.39403853\n",
      "  positive)\n"
     ]
    },
    {
     "name": "stdout",
     "output_type": "stream",
     "text": [
      "[CV] ........... alpha=0.5994842503189409, score=-3.377, total=   0.2s\n",
      "[CV] alpha=0.5994842503189409 ........................................\n",
      "[CV] ............ alpha=0.5994842503189409, score=0.358, total=   0.1s\n",
      "[CV] alpha=0.5994842503189409 ........................................\n",
      "[CV] ........... alpha=0.5994842503189409, score=-1.610, total=   0.1s\n",
      "[CV] alpha=0.5994842503189409 ........................................\n",
      "[CV] ........... alpha=0.5994842503189409, score=-2.668, total=   0.1s\n",
      "[CV] alpha=2.1544346900318843 ........................................\n",
      "[CV] ........... alpha=2.1544346900318843, score=-4.762, total=   0.1s\n",
      "[CV] alpha=2.1544346900318843 ........................................\n",
      "[CV] ........... alpha=2.1544346900318843, score=-3.390, total=   0.1s\n",
      "[CV] alpha=2.1544346900318843 ........................................\n",
      "[CV] ............ alpha=2.1544346900318843, score=0.357, total=   0.1s\n",
      "[CV] alpha=2.1544346900318843 ........................................\n",
      "[CV] ........... alpha=2.1544346900318843, score=-1.611, total=   0.0s\n",
      "[CV] alpha=2.1544346900318843 ........................................\n",
      "[CV] ........... alpha=2.1544346900318843, score=-2.656, total=   0.2s\n",
      "[CV] alpha=7.742636826811277 .........................................\n",
      "[CV] ............ alpha=7.742636826811277, score=-4.789, total=   0.1s\n",
      "[CV] alpha=7.742636826811277 .........................................\n",
      "[CV] ............ alpha=7.742636826811277, score=-3.430, total=   0.0s\n",
      "[CV] alpha=7.742636826811277 .........................................\n",
      "[CV] ............. alpha=7.742636826811277, score=0.352, total=   0.0s\n",
      "[CV] alpha=7.742636826811277 .........................................\n",
      "[CV] ............ alpha=7.742636826811277, score=-1.618, total=   0.0s\n",
      "[CV] alpha=7.742636826811277 .........................................\n",
      "[CV] ............ alpha=7.742636826811277, score=-2.615, total=   0.1s\n",
      "[CV] alpha=27.825594022071257 ........................................\n",
      "[CV] ........... alpha=27.825594022071257, score=-4.909, total=   0.0s\n",
      "[CV] alpha=27.825594022071257 ........................................\n",
      "[CV] ........... alpha=27.825594022071257, score=-3.498, total=   0.0s\n",
      "[CV] alpha=27.825594022071257 ........................................\n",
      "[CV] ............ alpha=27.825594022071257, score=0.335, total=   0.0s\n",
      "[CV] alpha=27.825594022071257 ........................................\n",
      "[CV] ........... alpha=27.825594022071257, score=-1.649, total=   0.0s\n",
      "[CV] alpha=27.825594022071257 ........................................\n",
      "[CV] ........... alpha=27.825594022071257, score=-2.614, total=   0.0s\n",
      "[CV] alpha=100.0 .....................................................\n",
      "[CV] ........................ alpha=100.0, score=-5.091, total=   0.0s\n",
      "[CV] alpha=100.0 .....................................................\n",
      "[CV] ........................ alpha=100.0, score=-3.686, total=   0.0s\n",
      "[CV] alpha=100.0 .....................................................\n",
      "[CV] ......................... alpha=100.0, score=0.291, total=   0.0s\n",
      "[CV] alpha=100.0 .....................................................\n",
      "[CV] ........................ alpha=100.0, score=-1.716, total=   0.0s\n",
      "[CV] alpha=100.0 .....................................................\n",
      "[CV] ........................ alpha=100.0, score=-2.746, total=   0.0s\n"
     ]
    },
    {
     "name": "stderr",
     "output_type": "stream",
     "text": [
      "[Parallel(n_jobs=1)]: Done  50 out of  50 | elapsed:    6.1s finished\n",
      "/opt/anaconda3/lib/python3.7/site-packages/sklearn/linear_model/_coordinate_descent.py:476: ConvergenceWarning: Objective did not converge. You might want to increase the number of iterations. Duality gap: 8484123157.055908, tolerance: 289022483.6258841\n",
      "  positive)\n"
     ]
    },
    {
     "data": {
      "text/plain": [
       "GridSearchCV(cv=5, error_score=nan,\n",
       "             estimator=Lasso(alpha=1.0, copy_X=True, fit_intercept=True,\n",
       "                             max_iter=1000, normalize=False, positive=False,\n",
       "                             precompute=False, random_state=None,\n",
       "                             selection='cyclic', tol=0.0001, warm_start=False),\n",
       "             iid='deprecated', n_jobs=None,\n",
       "             param_grid=[{'alpha': array([1.00000000e-03, 3.59381366e-03, 1.29154967e-02, 4.64158883e-02,\n",
       "       1.66810054e-01, 5.99484250e-01, 2.15443469e+00, 7.74263683e+00,\n",
       "       2.78255940e+01, 1.00000000e+02])}],\n",
       "             pre_dispatch='2*n_jobs', refit=True, return_train_score=False,\n",
       "             scoring='r2', verbose=10)"
      ]
     },
     "execution_count": 57,
     "metadata": {},
     "output_type": "execute_result"
    }
   ],
   "source": [
    "# Running Lasso regression\n",
    "alphas = np.logspace(-3,2,10)\n",
    "tuning_parameters = [{'alpha': alphas}]\n",
    "grid = GridSearchCV(linear_model.Lasso(),tuning_parameters,cv=5,scoring='r2',verbose=10)\n",
    "grid.fit(train_x,train_y)"
   ]
  },
  {
   "cell_type": "code",
   "execution_count": 58,
   "metadata": {},
   "outputs": [
    {
     "data": {
      "text/plain": [
       "-2.410410556134413"
      ]
     },
     "execution_count": 58,
     "metadata": {},
     "output_type": "execute_result"
    }
   ],
   "source": [
    "grid.best_estimator_\n",
    "grid.best_score_"
   ]
  },
  {
   "cell_type": "code",
   "execution_count": 59,
   "metadata": {},
   "outputs": [
    {
     "name": "stdout",
     "output_type": "stream",
     "text": [
      "Fitting 5 folds for each of 3 candidates, totalling 15 fits\n",
      "[CV] max_depth=None, n_estimators=50 .................................\n"
     ]
    },
    {
     "name": "stderr",
     "output_type": "stream",
     "text": [
      "[Parallel(n_jobs=1)]: Using backend SequentialBackend with 1 concurrent workers.\n",
      "/opt/anaconda3/lib/python3.7/site-packages/sklearn/model_selection/_validation.py:515: DataConversionWarning: A column-vector y was passed when a 1d array was expected. Please change the shape of y to (n_samples,), for example using ravel().\n",
      "  estimator.fit(X_train, y_train, **fit_params)\n"
     ]
    },
    {
     "name": "stdout",
     "output_type": "stream",
     "text": [
      "[CV] .... max_depth=None, n_estimators=50, score=-6.082, total=   0.5s\n",
      "[CV] max_depth=None, n_estimators=50 .................................\n"
     ]
    },
    {
     "name": "stderr",
     "output_type": "stream",
     "text": [
      "[Parallel(n_jobs=1)]: Done   1 out of   1 | elapsed:    0.5s remaining:    0.0s\n",
      "/opt/anaconda3/lib/python3.7/site-packages/sklearn/model_selection/_validation.py:515: DataConversionWarning: A column-vector y was passed when a 1d array was expected. Please change the shape of y to (n_samples,), for example using ravel().\n",
      "  estimator.fit(X_train, y_train, **fit_params)\n"
     ]
    },
    {
     "name": "stdout",
     "output_type": "stream",
     "text": [
      "[CV] .... max_depth=None, n_estimators=50, score=-5.233, total=   0.5s\n",
      "[CV] max_depth=None, n_estimators=50 .................................\n"
     ]
    },
    {
     "name": "stderr",
     "output_type": "stream",
     "text": [
      "[Parallel(n_jobs=1)]: Done   2 out of   2 | elapsed:    0.9s remaining:    0.0s\n",
      "/opt/anaconda3/lib/python3.7/site-packages/sklearn/model_selection/_validation.py:515: DataConversionWarning: A column-vector y was passed when a 1d array was expected. Please change the shape of y to (n_samples,), for example using ravel().\n",
      "  estimator.fit(X_train, y_train, **fit_params)\n"
     ]
    },
    {
     "name": "stdout",
     "output_type": "stream",
     "text": [
      "[CV] ..... max_depth=None, n_estimators=50, score=0.240, total=   0.5s\n",
      "[CV] max_depth=None, n_estimators=50 .................................\n"
     ]
    },
    {
     "name": "stderr",
     "output_type": "stream",
     "text": [
      "[Parallel(n_jobs=1)]: Done   3 out of   3 | elapsed:    1.5s remaining:    0.0s\n",
      "/opt/anaconda3/lib/python3.7/site-packages/sklearn/model_selection/_validation.py:515: DataConversionWarning: A column-vector y was passed when a 1d array was expected. Please change the shape of y to (n_samples,), for example using ravel().\n",
      "  estimator.fit(X_train, y_train, **fit_params)\n"
     ]
    },
    {
     "name": "stdout",
     "output_type": "stream",
     "text": [
      "[CV] .... max_depth=None, n_estimators=50, score=-2.194, total=   0.5s\n",
      "[CV] max_depth=None, n_estimators=50 .................................\n"
     ]
    },
    {
     "name": "stderr",
     "output_type": "stream",
     "text": [
      "[Parallel(n_jobs=1)]: Done   4 out of   4 | elapsed:    2.0s remaining:    0.0s\n",
      "/opt/anaconda3/lib/python3.7/site-packages/sklearn/model_selection/_validation.py:515: DataConversionWarning: A column-vector y was passed when a 1d array was expected. Please change the shape of y to (n_samples,), for example using ravel().\n",
      "  estimator.fit(X_train, y_train, **fit_params)\n"
     ]
    },
    {
     "name": "stdout",
     "output_type": "stream",
     "text": [
      "[CV] .... max_depth=None, n_estimators=50, score=-3.142, total=   0.5s\n",
      "[CV] max_depth=25, n_estimators=50 ...................................\n"
     ]
    },
    {
     "name": "stderr",
     "output_type": "stream",
     "text": [
      "[Parallel(n_jobs=1)]: Done   5 out of   5 | elapsed:    2.5s remaining:    0.0s\n",
      "/opt/anaconda3/lib/python3.7/site-packages/sklearn/model_selection/_validation.py:515: DataConversionWarning: A column-vector y was passed when a 1d array was expected. Please change the shape of y to (n_samples,), for example using ravel().\n",
      "  estimator.fit(X_train, y_train, **fit_params)\n"
     ]
    },
    {
     "name": "stdout",
     "output_type": "stream",
     "text": [
      "[CV] ...... max_depth=25, n_estimators=50, score=-6.074, total=   0.4s\n",
      "[CV] max_depth=25, n_estimators=50 ...................................\n"
     ]
    },
    {
     "name": "stderr",
     "output_type": "stream",
     "text": [
      "[Parallel(n_jobs=1)]: Done   6 out of   6 | elapsed:    2.9s remaining:    0.0s\n",
      "/opt/anaconda3/lib/python3.7/site-packages/sklearn/model_selection/_validation.py:515: DataConversionWarning: A column-vector y was passed when a 1d array was expected. Please change the shape of y to (n_samples,), for example using ravel().\n",
      "  estimator.fit(X_train, y_train, **fit_params)\n"
     ]
    },
    {
     "name": "stdout",
     "output_type": "stream",
     "text": [
      "[CV] ...... max_depth=25, n_estimators=50, score=-5.282, total=   0.5s\n",
      "[CV] max_depth=25, n_estimators=50 ...................................\n"
     ]
    },
    {
     "name": "stderr",
     "output_type": "stream",
     "text": [
      "[Parallel(n_jobs=1)]: Done   7 out of   7 | elapsed:    3.3s remaining:    0.0s\n",
      "/opt/anaconda3/lib/python3.7/site-packages/sklearn/model_selection/_validation.py:515: DataConversionWarning: A column-vector y was passed when a 1d array was expected. Please change the shape of y to (n_samples,), for example using ravel().\n",
      "  estimator.fit(X_train, y_train, **fit_params)\n"
     ]
    },
    {
     "name": "stdout",
     "output_type": "stream",
     "text": [
      "[CV] ....... max_depth=25, n_estimators=50, score=0.233, total=   0.5s\n",
      "[CV] max_depth=25, n_estimators=50 ...................................\n"
     ]
    },
    {
     "name": "stderr",
     "output_type": "stream",
     "text": [
      "[Parallel(n_jobs=1)]: Done   8 out of   8 | elapsed:    3.8s remaining:    0.0s\n",
      "/opt/anaconda3/lib/python3.7/site-packages/sklearn/model_selection/_validation.py:515: DataConversionWarning: A column-vector y was passed when a 1d array was expected. Please change the shape of y to (n_samples,), for example using ravel().\n",
      "  estimator.fit(X_train, y_train, **fit_params)\n"
     ]
    },
    {
     "name": "stdout",
     "output_type": "stream",
     "text": [
      "[CV] ...... max_depth=25, n_estimators=50, score=-2.192, total=   0.5s\n",
      "[CV] max_depth=25, n_estimators=50 ...................................\n"
     ]
    },
    {
     "name": "stderr",
     "output_type": "stream",
     "text": [
      "[Parallel(n_jobs=1)]: Done   9 out of   9 | elapsed:    4.3s remaining:    0.0s\n",
      "/opt/anaconda3/lib/python3.7/site-packages/sklearn/model_selection/_validation.py:515: DataConversionWarning: A column-vector y was passed when a 1d array was expected. Please change the shape of y to (n_samples,), for example using ravel().\n",
      "  estimator.fit(X_train, y_train, **fit_params)\n"
     ]
    },
    {
     "name": "stdout",
     "output_type": "stream",
     "text": [
      "[CV] ...... max_depth=25, n_estimators=50, score=-3.133, total=   0.4s\n",
      "[CV] max_depth=20, n_estimators=50 ...................................\n"
     ]
    },
    {
     "name": "stderr",
     "output_type": "stream",
     "text": [
      "/opt/anaconda3/lib/python3.7/site-packages/sklearn/model_selection/_validation.py:515: DataConversionWarning: A column-vector y was passed when a 1d array was expected. Please change the shape of y to (n_samples,), for example using ravel().\n",
      "  estimator.fit(X_train, y_train, **fit_params)\n"
     ]
    },
    {
     "name": "stdout",
     "output_type": "stream",
     "text": [
      "[CV] ...... max_depth=20, n_estimators=50, score=-6.162, total=   0.4s\n",
      "[CV] max_depth=20, n_estimators=50 ...................................\n"
     ]
    },
    {
     "name": "stderr",
     "output_type": "stream",
     "text": [
      "/opt/anaconda3/lib/python3.7/site-packages/sklearn/model_selection/_validation.py:515: DataConversionWarning: A column-vector y was passed when a 1d array was expected. Please change the shape of y to (n_samples,), for example using ravel().\n",
      "  estimator.fit(X_train, y_train, **fit_params)\n"
     ]
    },
    {
     "name": "stdout",
     "output_type": "stream",
     "text": [
      "[CV] ...... max_depth=20, n_estimators=50, score=-5.270, total=   0.4s\n",
      "[CV] max_depth=20, n_estimators=50 ...................................\n"
     ]
    },
    {
     "name": "stderr",
     "output_type": "stream",
     "text": [
      "/opt/anaconda3/lib/python3.7/site-packages/sklearn/model_selection/_validation.py:515: DataConversionWarning: A column-vector y was passed when a 1d array was expected. Please change the shape of y to (n_samples,), for example using ravel().\n",
      "  estimator.fit(X_train, y_train, **fit_params)\n"
     ]
    },
    {
     "name": "stdout",
     "output_type": "stream",
     "text": [
      "[CV] ....... max_depth=20, n_estimators=50, score=0.243, total=   0.4s\n",
      "[CV] max_depth=20, n_estimators=50 ...................................\n"
     ]
    },
    {
     "name": "stderr",
     "output_type": "stream",
     "text": [
      "/opt/anaconda3/lib/python3.7/site-packages/sklearn/model_selection/_validation.py:515: DataConversionWarning: A column-vector y was passed when a 1d array was expected. Please change the shape of y to (n_samples,), for example using ravel().\n",
      "  estimator.fit(X_train, y_train, **fit_params)\n"
     ]
    },
    {
     "name": "stdout",
     "output_type": "stream",
     "text": [
      "[CV] ...... max_depth=20, n_estimators=50, score=-2.203, total=   0.4s\n",
      "[CV] max_depth=20, n_estimators=50 ...................................\n"
     ]
    },
    {
     "name": "stderr",
     "output_type": "stream",
     "text": [
      "/opt/anaconda3/lib/python3.7/site-packages/sklearn/model_selection/_validation.py:515: DataConversionWarning: A column-vector y was passed when a 1d array was expected. Please change the shape of y to (n_samples,), for example using ravel().\n",
      "  estimator.fit(X_train, y_train, **fit_params)\n"
     ]
    },
    {
     "name": "stdout",
     "output_type": "stream",
     "text": [
      "[CV] ...... max_depth=20, n_estimators=50, score=-3.216, total=   0.4s\n"
     ]
    },
    {
     "name": "stderr",
     "output_type": "stream",
     "text": [
      "[Parallel(n_jobs=1)]: Done  15 out of  15 | elapsed:    6.8s finished\n",
      "/opt/anaconda3/lib/python3.7/site-packages/sklearn/model_selection/_search.py:739: DataConversionWarning: A column-vector y was passed when a 1d array was expected. Please change the shape of y to (n_samples,), for example using ravel().\n",
      "  self.best_estimator_.fit(X, y, **fit_params)\n"
     ]
    },
    {
     "data": {
      "text/plain": [
       "GridSearchCV(cv=5, error_score=nan,\n",
       "             estimator=RandomForestRegressor(bootstrap=True, ccp_alpha=0.0,\n",
       "                                             criterion='mse', max_depth=None,\n",
       "                                             max_features='auto',\n",
       "                                             max_leaf_nodes=None,\n",
       "                                             max_samples=None,\n",
       "                                             min_impurity_decrease=0.0,\n",
       "                                             min_impurity_split=None,\n",
       "                                             min_samples_leaf=1,\n",
       "                                             min_samples_split=2,\n",
       "                                             min_weight_fraction_leaf=0.0,\n",
       "                                             n_estimators=100, n_jobs=None,\n",
       "                                             oob_score=False, random_state=None,\n",
       "                                             verbose=0, warm_start=False),\n",
       "             iid='deprecated', n_jobs=1,\n",
       "             param_grid={'max_depth': [None, 25, 20], 'n_estimators': [50]},\n",
       "             pre_dispatch='2*n_jobs', refit=True, return_train_score=False,\n",
       "             scoring='r2', verbose=10)"
      ]
     },
     "execution_count": 59,
     "metadata": {},
     "output_type": "execute_result"
    }
   ],
   "source": [
    "# Running Random Forest\n",
    "from sklearn.ensemble import RandomForestRegressor\n",
    "rf_reg = RandomForestRegressor()\n",
    "# Running Grid search with 'n_estimators' and 'max_depth' as parameters\n",
    "param_dict = {'n_estimators':[50],'max_depth':[None,25,20]}\n",
    "grid = GridSearchCV(rf_reg,param_grid=param_dict,verbose=10,scoring='r2',cv=5,n_jobs=1)\n",
    "grid.fit(train_x,train_y)"
   ]
  },
  {
   "cell_type": "code",
   "execution_count": 60,
   "metadata": {},
   "outputs": [
    {
     "data": {
      "text/plain": [
       "-3.2819531145998915"
      ]
     },
     "execution_count": 60,
     "metadata": {},
     "output_type": "execute_result"
    }
   ],
   "source": [
    "grid.best_estimator_\n",
    "grid.best_score_"
   ]
  },
  {
   "cell_type": "code",
   "execution_count": 61,
   "metadata": {},
   "outputs": [
    {
     "name": "stdout",
     "output_type": "stream",
     "text": [
      "Fitting 5 folds for each of 4 candidates, totalling 20 fits\n",
      "[CV] max_depth=18, n_estimators=50 ...................................\n"
     ]
    },
    {
     "name": "stderr",
     "output_type": "stream",
     "text": [
      "[Parallel(n_jobs=1)]: Using backend SequentialBackend with 1 concurrent workers.\n",
      "/opt/anaconda3/lib/python3.7/site-packages/sklearn/model_selection/_validation.py:515: DataConversionWarning: A column-vector y was passed when a 1d array was expected. Please change the shape of y to (n_samples,), for example using ravel().\n",
      "  estimator.fit(X_train, y_train, **fit_params)\n"
     ]
    },
    {
     "name": "stdout",
     "output_type": "stream",
     "text": [
      "[CV] ...... max_depth=18, n_estimators=50, score=-6.158, total=   0.4s\n",
      "[CV] max_depth=18, n_estimators=50 ...................................\n"
     ]
    },
    {
     "name": "stderr",
     "output_type": "stream",
     "text": [
      "[Parallel(n_jobs=1)]: Done   1 out of   1 | elapsed:    0.4s remaining:    0.0s\n",
      "/opt/anaconda3/lib/python3.7/site-packages/sklearn/model_selection/_validation.py:515: DataConversionWarning: A column-vector y was passed when a 1d array was expected. Please change the shape of y to (n_samples,), for example using ravel().\n",
      "  estimator.fit(X_train, y_train, **fit_params)\n"
     ]
    },
    {
     "name": "stdout",
     "output_type": "stream",
     "text": [
      "[CV] ...... max_depth=18, n_estimators=50, score=-5.087, total=   0.4s\n",
      "[CV] max_depth=18, n_estimators=50 ...................................\n"
     ]
    },
    {
     "name": "stderr",
     "output_type": "stream",
     "text": [
      "[Parallel(n_jobs=1)]: Done   2 out of   2 | elapsed:    0.8s remaining:    0.0s\n",
      "/opt/anaconda3/lib/python3.7/site-packages/sklearn/model_selection/_validation.py:515: DataConversionWarning: A column-vector y was passed when a 1d array was expected. Please change the shape of y to (n_samples,), for example using ravel().\n",
      "  estimator.fit(X_train, y_train, **fit_params)\n"
     ]
    },
    {
     "name": "stdout",
     "output_type": "stream",
     "text": [
      "[CV] ....... max_depth=18, n_estimators=50, score=0.238, total=   0.4s\n",
      "[CV] max_depth=18, n_estimators=50 ...................................\n"
     ]
    },
    {
     "name": "stderr",
     "output_type": "stream",
     "text": [
      "[Parallel(n_jobs=1)]: Done   3 out of   3 | elapsed:    1.2s remaining:    0.0s\n",
      "/opt/anaconda3/lib/python3.7/site-packages/sklearn/model_selection/_validation.py:515: DataConversionWarning: A column-vector y was passed when a 1d array was expected. Please change the shape of y to (n_samples,), for example using ravel().\n",
      "  estimator.fit(X_train, y_train, **fit_params)\n"
     ]
    },
    {
     "name": "stdout",
     "output_type": "stream",
     "text": [
      "[CV] ...... max_depth=18, n_estimators=50, score=-2.202, total=   0.4s\n",
      "[CV] max_depth=18, n_estimators=50 ...................................\n"
     ]
    },
    {
     "name": "stderr",
     "output_type": "stream",
     "text": [
      "[Parallel(n_jobs=1)]: Done   4 out of   4 | elapsed:    1.7s remaining:    0.0s\n",
      "/opt/anaconda3/lib/python3.7/site-packages/sklearn/model_selection/_validation.py:515: DataConversionWarning: A column-vector y was passed when a 1d array was expected. Please change the shape of y to (n_samples,), for example using ravel().\n",
      "  estimator.fit(X_train, y_train, **fit_params)\n"
     ]
    },
    {
     "name": "stdout",
     "output_type": "stream",
     "text": [
      "[CV] ...... max_depth=18, n_estimators=50, score=-3.250, total=   0.4s\n",
      "[CV] max_depth=15, n_estimators=50 ...................................\n"
     ]
    },
    {
     "name": "stderr",
     "output_type": "stream",
     "text": [
      "[Parallel(n_jobs=1)]: Done   5 out of   5 | elapsed:    2.1s remaining:    0.0s\n",
      "/opt/anaconda3/lib/python3.7/site-packages/sklearn/model_selection/_validation.py:515: DataConversionWarning: A column-vector y was passed when a 1d array was expected. Please change the shape of y to (n_samples,), for example using ravel().\n",
      "  estimator.fit(X_train, y_train, **fit_params)\n"
     ]
    },
    {
     "name": "stdout",
     "output_type": "stream",
     "text": [
      "[CV] ...... max_depth=15, n_estimators=50, score=-6.158, total=   0.4s\n",
      "[CV] max_depth=15, n_estimators=50 ...................................\n"
     ]
    },
    {
     "name": "stderr",
     "output_type": "stream",
     "text": [
      "[Parallel(n_jobs=1)]: Done   6 out of   6 | elapsed:    2.4s remaining:    0.0s\n",
      "/opt/anaconda3/lib/python3.7/site-packages/sklearn/model_selection/_validation.py:515: DataConversionWarning: A column-vector y was passed when a 1d array was expected. Please change the shape of y to (n_samples,), for example using ravel().\n",
      "  estimator.fit(X_train, y_train, **fit_params)\n"
     ]
    },
    {
     "name": "stdout",
     "output_type": "stream",
     "text": [
      "[CV] ...... max_depth=15, n_estimators=50, score=-4.945, total=   0.4s\n",
      "[CV] max_depth=15, n_estimators=50 ...................................\n"
     ]
    },
    {
     "name": "stderr",
     "output_type": "stream",
     "text": [
      "[Parallel(n_jobs=1)]: Done   7 out of   7 | elapsed:    2.8s remaining:    0.0s\n",
      "/opt/anaconda3/lib/python3.7/site-packages/sklearn/model_selection/_validation.py:515: DataConversionWarning: A column-vector y was passed when a 1d array was expected. Please change the shape of y to (n_samples,), for example using ravel().\n",
      "  estimator.fit(X_train, y_train, **fit_params)\n"
     ]
    },
    {
     "name": "stdout",
     "output_type": "stream",
     "text": [
      "[CV] ....... max_depth=15, n_estimators=50, score=0.228, total=   0.4s\n",
      "[CV] max_depth=15, n_estimators=50 ...................................\n"
     ]
    },
    {
     "name": "stderr",
     "output_type": "stream",
     "text": [
      "[Parallel(n_jobs=1)]: Done   8 out of   8 | elapsed:    3.2s remaining:    0.0s\n",
      "/opt/anaconda3/lib/python3.7/site-packages/sklearn/model_selection/_validation.py:515: DataConversionWarning: A column-vector y was passed when a 1d array was expected. Please change the shape of y to (n_samples,), for example using ravel().\n",
      "  estimator.fit(X_train, y_train, **fit_params)\n"
     ]
    },
    {
     "name": "stdout",
     "output_type": "stream",
     "text": [
      "[CV] ...... max_depth=15, n_estimators=50, score=-2.194, total=   0.4s\n",
      "[CV] max_depth=15, n_estimators=50 ...................................\n"
     ]
    },
    {
     "name": "stderr",
     "output_type": "stream",
     "text": [
      "[Parallel(n_jobs=1)]: Done   9 out of   9 | elapsed:    3.6s remaining:    0.0s\n",
      "/opt/anaconda3/lib/python3.7/site-packages/sklearn/model_selection/_validation.py:515: DataConversionWarning: A column-vector y was passed when a 1d array was expected. Please change the shape of y to (n_samples,), for example using ravel().\n",
      "  estimator.fit(X_train, y_train, **fit_params)\n"
     ]
    },
    {
     "name": "stdout",
     "output_type": "stream",
     "text": [
      "[CV] ...... max_depth=15, n_estimators=50, score=-3.286, total=   0.3s\n",
      "[CV] max_depth=12, n_estimators=50 ...................................\n"
     ]
    },
    {
     "name": "stderr",
     "output_type": "stream",
     "text": [
      "/opt/anaconda3/lib/python3.7/site-packages/sklearn/model_selection/_validation.py:515: DataConversionWarning: A column-vector y was passed when a 1d array was expected. Please change the shape of y to (n_samples,), for example using ravel().\n",
      "  estimator.fit(X_train, y_train, **fit_params)\n"
     ]
    },
    {
     "name": "stdout",
     "output_type": "stream",
     "text": [
      "[CV] ...... max_depth=12, n_estimators=50, score=-6.242, total=   0.3s\n",
      "[CV] max_depth=12, n_estimators=50 ...................................\n"
     ]
    },
    {
     "name": "stderr",
     "output_type": "stream",
     "text": [
      "/opt/anaconda3/lib/python3.7/site-packages/sklearn/model_selection/_validation.py:515: DataConversionWarning: A column-vector y was passed when a 1d array was expected. Please change the shape of y to (n_samples,), for example using ravel().\n",
      "  estimator.fit(X_train, y_train, **fit_params)\n"
     ]
    },
    {
     "name": "stdout",
     "output_type": "stream",
     "text": [
      "[CV] ...... max_depth=12, n_estimators=50, score=-4.665, total=   0.3s\n",
      "[CV] max_depth=12, n_estimators=50 ...................................\n"
     ]
    },
    {
     "name": "stderr",
     "output_type": "stream",
     "text": [
      "/opt/anaconda3/lib/python3.7/site-packages/sklearn/model_selection/_validation.py:515: DataConversionWarning: A column-vector y was passed when a 1d array was expected. Please change the shape of y to (n_samples,), for example using ravel().\n",
      "  estimator.fit(X_train, y_train, **fit_params)\n"
     ]
    },
    {
     "name": "stdout",
     "output_type": "stream",
     "text": [
      "[CV] ....... max_depth=12, n_estimators=50, score=0.253, total=   0.3s\n",
      "[CV] max_depth=12, n_estimators=50 ...................................\n"
     ]
    },
    {
     "name": "stderr",
     "output_type": "stream",
     "text": [
      "/opt/anaconda3/lib/python3.7/site-packages/sklearn/model_selection/_validation.py:515: DataConversionWarning: A column-vector y was passed when a 1d array was expected. Please change the shape of y to (n_samples,), for example using ravel().\n",
      "  estimator.fit(X_train, y_train, **fit_params)\n"
     ]
    },
    {
     "name": "stdout",
     "output_type": "stream",
     "text": [
      "[CV] ...... max_depth=12, n_estimators=50, score=-2.192, total=   0.3s\n",
      "[CV] max_depth=12, n_estimators=50 ...................................\n"
     ]
    },
    {
     "name": "stderr",
     "output_type": "stream",
     "text": [
      "/opt/anaconda3/lib/python3.7/site-packages/sklearn/model_selection/_validation.py:515: DataConversionWarning: A column-vector y was passed when a 1d array was expected. Please change the shape of y to (n_samples,), for example using ravel().\n",
      "  estimator.fit(X_train, y_train, **fit_params)\n"
     ]
    },
    {
     "name": "stdout",
     "output_type": "stream",
     "text": [
      "[CV] ...... max_depth=12, n_estimators=50, score=-3.354, total=   0.3s\n",
      "[CV] max_depth=10, n_estimators=50 ...................................\n"
     ]
    },
    {
     "name": "stderr",
     "output_type": "stream",
     "text": [
      "/opt/anaconda3/lib/python3.7/site-packages/sklearn/model_selection/_validation.py:515: DataConversionWarning: A column-vector y was passed when a 1d array was expected. Please change the shape of y to (n_samples,), for example using ravel().\n",
      "  estimator.fit(X_train, y_train, **fit_params)\n"
     ]
    },
    {
     "name": "stdout",
     "output_type": "stream",
     "text": [
      "[CV] ...... max_depth=10, n_estimators=50, score=-6.228, total=   0.3s\n",
      "[CV] max_depth=10, n_estimators=50 ...................................\n"
     ]
    },
    {
     "name": "stderr",
     "output_type": "stream",
     "text": [
      "/opt/anaconda3/lib/python3.7/site-packages/sklearn/model_selection/_validation.py:515: DataConversionWarning: A column-vector y was passed when a 1d array was expected. Please change the shape of y to (n_samples,), for example using ravel().\n",
      "  estimator.fit(X_train, y_train, **fit_params)\n"
     ]
    },
    {
     "name": "stdout",
     "output_type": "stream",
     "text": [
      "[CV] ...... max_depth=10, n_estimators=50, score=-4.297, total=   0.3s\n",
      "[CV] max_depth=10, n_estimators=50 ...................................\n"
     ]
    },
    {
     "name": "stderr",
     "output_type": "stream",
     "text": [
      "/opt/anaconda3/lib/python3.7/site-packages/sklearn/model_selection/_validation.py:515: DataConversionWarning: A column-vector y was passed when a 1d array was expected. Please change the shape of y to (n_samples,), for example using ravel().\n",
      "  estimator.fit(X_train, y_train, **fit_params)\n"
     ]
    },
    {
     "name": "stdout",
     "output_type": "stream",
     "text": [
      "[CV] ....... max_depth=10, n_estimators=50, score=0.236, total=   0.3s\n",
      "[CV] max_depth=10, n_estimators=50 ...................................\n"
     ]
    },
    {
     "name": "stderr",
     "output_type": "stream",
     "text": [
      "/opt/anaconda3/lib/python3.7/site-packages/sklearn/model_selection/_validation.py:515: DataConversionWarning: A column-vector y was passed when a 1d array was expected. Please change the shape of y to (n_samples,), for example using ravel().\n",
      "  estimator.fit(X_train, y_train, **fit_params)\n"
     ]
    },
    {
     "name": "stdout",
     "output_type": "stream",
     "text": [
      "[CV] ...... max_depth=10, n_estimators=50, score=-2.213, total=   0.3s\n",
      "[CV] max_depth=10, n_estimators=50 ...................................\n"
     ]
    },
    {
     "name": "stderr",
     "output_type": "stream",
     "text": [
      "/opt/anaconda3/lib/python3.7/site-packages/sklearn/model_selection/_validation.py:515: DataConversionWarning: A column-vector y was passed when a 1d array was expected. Please change the shape of y to (n_samples,), for example using ravel().\n",
      "  estimator.fit(X_train, y_train, **fit_params)\n"
     ]
    },
    {
     "name": "stdout",
     "output_type": "stream",
     "text": [
      "[CV] ...... max_depth=10, n_estimators=50, score=-3.272, total=   0.3s\n"
     ]
    },
    {
     "name": "stderr",
     "output_type": "stream",
     "text": [
      "[Parallel(n_jobs=1)]: Done  20 out of  20 | elapsed:    7.1s finished\n",
      "/opt/anaconda3/lib/python3.7/site-packages/sklearn/model_selection/_search.py:739: DataConversionWarning: A column-vector y was passed when a 1d array was expected. Please change the shape of y to (n_samples,), for example using ravel().\n",
      "  self.best_estimator_.fit(X, y, **fit_params)\n"
     ]
    },
    {
     "data": {
      "text/plain": [
       "GridSearchCV(cv=5, error_score=nan,\n",
       "             estimator=RandomForestRegressor(bootstrap=True, ccp_alpha=0.0,\n",
       "                                             criterion='mse', max_depth=None,\n",
       "                                             max_features='auto',\n",
       "                                             max_leaf_nodes=None,\n",
       "                                             max_samples=None,\n",
       "                                             min_impurity_decrease=0.0,\n",
       "                                             min_impurity_split=None,\n",
       "                                             min_samples_leaf=1,\n",
       "                                             min_samples_split=2,\n",
       "                                             min_weight_fraction_leaf=0.0,\n",
       "                                             n_estimators=100, n_jobs=None,\n",
       "                                             oob_score=False, random_state=None,\n",
       "                                             verbose=0, warm_start=False),\n",
       "             iid='deprecated', n_jobs=1,\n",
       "             param_grid={'max_depth': [18, 15, 12, 10], 'n_estimators': [50]},\n",
       "             pre_dispatch='2*n_jobs', refit=True, return_train_score=False,\n",
       "             scoring='r2', verbose=10)"
      ]
     },
     "execution_count": 61,
     "metadata": {},
     "output_type": "execute_result"
    }
   ],
   "source": [
    "# Running Grid search with 'n_estimators' and 'max_depth' as parameters\n",
    "# Trying different parameters\n",
    "rf_reg = RandomForestRegressor()\n",
    "param_dict = {'n_estimators':[50],'max_depth':[18,15,12,10]}\n",
    "grid = GridSearchCV(rf_reg,param_grid=param_dict,verbose=10,scoring='r2',cv=5,n_jobs=1)\n",
    "grid.fit(train_x,train_y)"
   ]
  },
  {
   "cell_type": "code",
   "execution_count": 62,
   "metadata": {},
   "outputs": [
    {
     "data": {
      "text/plain": [
       "-3.1547016560242596"
      ]
     },
     "execution_count": 62,
     "metadata": {},
     "output_type": "execute_result"
    }
   ],
   "source": [
    "grid.best_estimator_\n",
    "grid.best_score_"
   ]
  },
  {
   "cell_type": "code",
   "execution_count": 63,
   "metadata": {},
   "outputs": [
    {
     "name": "stdout",
     "output_type": "stream",
     "text": [
      "Fitting 3 folds for each of 3 candidates, totalling 9 fits\n",
      "[CV] max_depth=18, n_estimators=100 ..................................\n"
     ]
    },
    {
     "name": "stderr",
     "output_type": "stream",
     "text": [
      "[Parallel(n_jobs=1)]: Using backend SequentialBackend with 1 concurrent workers.\n",
      "/opt/anaconda3/lib/python3.7/site-packages/sklearn/model_selection/_validation.py:515: DataConversionWarning: A column-vector y was passed when a 1d array was expected. Please change the shape of y to (n_samples,), for example using ravel().\n",
      "  estimator.fit(X_train, y_train, **fit_params)\n"
     ]
    },
    {
     "name": "stdout",
     "output_type": "stream",
     "text": [
      "[CV] ..... max_depth=18, n_estimators=100, score=-4.944, total=   0.6s\n",
      "[CV] max_depth=18, n_estimators=100 ..................................\n"
     ]
    },
    {
     "name": "stderr",
     "output_type": "stream",
     "text": [
      "[Parallel(n_jobs=1)]: Done   1 out of   1 | elapsed:    0.6s remaining:    0.0s\n",
      "/opt/anaconda3/lib/python3.7/site-packages/sklearn/model_selection/_validation.py:515: DataConversionWarning: A column-vector y was passed when a 1d array was expected. Please change the shape of y to (n_samples,), for example using ravel().\n",
      "  estimator.fit(X_train, y_train, **fit_params)\n"
     ]
    },
    {
     "name": "stdout",
     "output_type": "stream",
     "text": [
      "[CV] ..... max_depth=18, n_estimators=100, score=-0.053, total=   0.7s\n",
      "[CV] max_depth=18, n_estimators=100 ..................................\n"
     ]
    },
    {
     "name": "stderr",
     "output_type": "stream",
     "text": [
      "[Parallel(n_jobs=1)]: Done   2 out of   2 | elapsed:    1.4s remaining:    0.0s\n",
      "/opt/anaconda3/lib/python3.7/site-packages/sklearn/model_selection/_validation.py:515: DataConversionWarning: A column-vector y was passed when a 1d array was expected. Please change the shape of y to (n_samples,), for example using ravel().\n",
      "  estimator.fit(X_train, y_train, **fit_params)\n"
     ]
    },
    {
     "name": "stdout",
     "output_type": "stream",
     "text": [
      "[CV] ..... max_depth=18, n_estimators=100, score=-1.880, total=   0.7s\n",
      "[CV] max_depth=18, n_estimators=150 ..................................\n"
     ]
    },
    {
     "name": "stderr",
     "output_type": "stream",
     "text": [
      "[Parallel(n_jobs=1)]: Done   3 out of   3 | elapsed:    2.1s remaining:    0.0s\n",
      "/opt/anaconda3/lib/python3.7/site-packages/sklearn/model_selection/_validation.py:515: DataConversionWarning: A column-vector y was passed when a 1d array was expected. Please change the shape of y to (n_samples,), for example using ravel().\n",
      "  estimator.fit(X_train, y_train, **fit_params)\n"
     ]
    },
    {
     "name": "stdout",
     "output_type": "stream",
     "text": [
      "[CV] ..... max_depth=18, n_estimators=150, score=-4.931, total=   1.1s\n",
      "[CV] max_depth=18, n_estimators=150 ..................................\n"
     ]
    },
    {
     "name": "stderr",
     "output_type": "stream",
     "text": [
      "[Parallel(n_jobs=1)]: Done   4 out of   4 | elapsed:    3.2s remaining:    0.0s\n",
      "/opt/anaconda3/lib/python3.7/site-packages/sklearn/model_selection/_validation.py:515: DataConversionWarning: A column-vector y was passed when a 1d array was expected. Please change the shape of y to (n_samples,), for example using ravel().\n",
      "  estimator.fit(X_train, y_train, **fit_params)\n"
     ]
    },
    {
     "name": "stdout",
     "output_type": "stream",
     "text": [
      "[CV] ..... max_depth=18, n_estimators=150, score=-0.052, total=   1.0s\n",
      "[CV] max_depth=18, n_estimators=150 ..................................\n"
     ]
    },
    {
     "name": "stderr",
     "output_type": "stream",
     "text": [
      "[Parallel(n_jobs=1)]: Done   5 out of   5 | elapsed:    4.2s remaining:    0.0s\n",
      "/opt/anaconda3/lib/python3.7/site-packages/sklearn/model_selection/_validation.py:515: DataConversionWarning: A column-vector y was passed when a 1d array was expected. Please change the shape of y to (n_samples,), for example using ravel().\n",
      "  estimator.fit(X_train, y_train, **fit_params)\n"
     ]
    },
    {
     "name": "stdout",
     "output_type": "stream",
     "text": [
      "[CV] ..... max_depth=18, n_estimators=150, score=-1.747, total=   1.0s\n",
      "[CV] max_depth=18, n_estimators=200 ..................................\n"
     ]
    },
    {
     "name": "stderr",
     "output_type": "stream",
     "text": [
      "[Parallel(n_jobs=1)]: Done   6 out of   6 | elapsed:    5.1s remaining:    0.0s\n",
      "/opt/anaconda3/lib/python3.7/site-packages/sklearn/model_selection/_validation.py:515: DataConversionWarning: A column-vector y was passed when a 1d array was expected. Please change the shape of y to (n_samples,), for example using ravel().\n",
      "  estimator.fit(X_train, y_train, **fit_params)\n"
     ]
    },
    {
     "name": "stdout",
     "output_type": "stream",
     "text": [
      "[CV] ..... max_depth=18, n_estimators=200, score=-4.932, total=   1.3s\n",
      "[CV] max_depth=18, n_estimators=200 ..................................\n"
     ]
    },
    {
     "name": "stderr",
     "output_type": "stream",
     "text": [
      "[Parallel(n_jobs=1)]: Done   7 out of   7 | elapsed:    6.4s remaining:    0.0s\n",
      "/opt/anaconda3/lib/python3.7/site-packages/sklearn/model_selection/_validation.py:515: DataConversionWarning: A column-vector y was passed when a 1d array was expected. Please change the shape of y to (n_samples,), for example using ravel().\n",
      "  estimator.fit(X_train, y_train, **fit_params)\n"
     ]
    },
    {
     "name": "stdout",
     "output_type": "stream",
     "text": [
      "[CV] ..... max_depth=18, n_estimators=200, score=-0.066, total=   1.4s\n",
      "[CV] max_depth=18, n_estimators=200 ..................................\n"
     ]
    },
    {
     "name": "stderr",
     "output_type": "stream",
     "text": [
      "[Parallel(n_jobs=1)]: Done   8 out of   8 | elapsed:    7.8s remaining:    0.0s\n",
      "/opt/anaconda3/lib/python3.7/site-packages/sklearn/model_selection/_validation.py:515: DataConversionWarning: A column-vector y was passed when a 1d array was expected. Please change the shape of y to (n_samples,), for example using ravel().\n",
      "  estimator.fit(X_train, y_train, **fit_params)\n"
     ]
    },
    {
     "name": "stdout",
     "output_type": "stream",
     "text": [
      "[CV] ..... max_depth=18, n_estimators=200, score=-1.595, total=   1.3s\n"
     ]
    },
    {
     "name": "stderr",
     "output_type": "stream",
     "text": [
      "[Parallel(n_jobs=1)]: Done   9 out of   9 | elapsed:    9.1s remaining:    0.0s\n",
      "[Parallel(n_jobs=1)]: Done   9 out of   9 | elapsed:    9.1s finished\n",
      "/opt/anaconda3/lib/python3.7/site-packages/sklearn/model_selection/_search.py:739: DataConversionWarning: A column-vector y was passed when a 1d array was expected. Please change the shape of y to (n_samples,), for example using ravel().\n",
      "  self.best_estimator_.fit(X, y, **fit_params)\n"
     ]
    },
    {
     "data": {
      "text/plain": [
       "GridSearchCV(cv=3, error_score=nan,\n",
       "             estimator=RandomForestRegressor(bootstrap=True, ccp_alpha=0.0,\n",
       "                                             criterion='mse', max_depth=None,\n",
       "                                             max_features='auto',\n",
       "                                             max_leaf_nodes=None,\n",
       "                                             max_samples=None,\n",
       "                                             min_impurity_decrease=0.0,\n",
       "                                             min_impurity_split=None,\n",
       "                                             min_samples_leaf=1,\n",
       "                                             min_samples_split=2,\n",
       "                                             min_weight_fraction_leaf=0.0,\n",
       "                                             n_estimators=100, n_jobs=None,\n",
       "                                             oob_score=False, random_state=None,\n",
       "                                             verbose=0, warm_start=False),\n",
       "             iid='deprecated', n_jobs=1,\n",
       "             param_grid={'max_depth': [18], 'n_estimators': [100, 150, 200]},\n",
       "             pre_dispatch='2*n_jobs', refit=True, return_train_score=False,\n",
       "             scoring='r2', verbose=10)"
      ]
     },
     "execution_count": 63,
     "metadata": {},
     "output_type": "execute_result"
    }
   ],
   "source": [
    "rf_reg = RandomForestRegressor()\n",
    "# Running Grid search with 'n_estimators' and 'max_depth' as parameters\n",
    "param_dict = {'n_estimators':[100,150,200],'max_depth':[18]}\n",
    "grid = GridSearchCV(rf_reg,param_grid=param_dict,verbose=10,scoring='r2',cv=3,n_jobs=1)\n",
    "grid.fit(train_x,train_y)"
   ]
  },
  {
   "cell_type": "code",
   "execution_count": 64,
   "metadata": {},
   "outputs": [
    {
     "data": {
      "text/plain": [
       "-2.1977901272384877"
      ]
     },
     "execution_count": 64,
     "metadata": {},
     "output_type": "execute_result"
    }
   ],
   "source": [
    "grid.best_estimator_\n",
    "grid.best_score_"
   ]
  },
  {
   "cell_type": "code",
   "execution_count": 65,
   "metadata": {},
   "outputs": [
    {
     "name": "stdout",
     "output_type": "stream",
     "text": [
      "Fitting 4 folds for each of 6 candidates, totalling 24 fits\n",
      "[CV] max_depth=4, n_estimators=30 ....................................\n",
      "[CV] ....... max_depth=4, n_estimators=30, score=-3.471, total=   0.1s\n",
      "[CV] max_depth=4, n_estimators=30 ....................................\n"
     ]
    },
    {
     "name": "stderr",
     "output_type": "stream",
     "text": [
      "[Parallel(n_jobs=1)]: Using backend SequentialBackend with 1 concurrent workers.\n",
      "/opt/anaconda3/lib/python3.7/site-packages/sklearn/ensemble/_gb.py:1454: DataConversionWarning: A column-vector y was passed when a 1d array was expected. Please change the shape of y to (n_samples, ), for example using ravel().\n",
      "  y = column_or_1d(y, warn=True)\n",
      "[Parallel(n_jobs=1)]: Done   1 out of   1 | elapsed:    0.1s remaining:    0.0s\n",
      "/opt/anaconda3/lib/python3.7/site-packages/sklearn/ensemble/_gb.py:1454: DataConversionWarning: A column-vector y was passed when a 1d array was expected. Please change the shape of y to (n_samples, ), for example using ravel().\n",
      "  y = column_or_1d(y, warn=True)\n"
     ]
    },
    {
     "name": "stdout",
     "output_type": "stream",
     "text": [
      "[CV] ....... max_depth=4, n_estimators=30, score=-0.094, total=   0.1s\n",
      "[CV] max_depth=4, n_estimators=30 ....................................\n",
      "[CV] ....... max_depth=4, n_estimators=30, score=-0.268, total=   0.1s\n",
      "[CV] max_depth=4, n_estimators=30 ....................................\n"
     ]
    },
    {
     "name": "stderr",
     "output_type": "stream",
     "text": [
      "[Parallel(n_jobs=1)]: Done   2 out of   2 | elapsed:    0.2s remaining:    0.0s\n",
      "/opt/anaconda3/lib/python3.7/site-packages/sklearn/ensemble/_gb.py:1454: DataConversionWarning: A column-vector y was passed when a 1d array was expected. Please change the shape of y to (n_samples, ), for example using ravel().\n",
      "  y = column_or_1d(y, warn=True)\n",
      "[Parallel(n_jobs=1)]: Done   3 out of   3 | elapsed:    0.3s remaining:    0.0s\n",
      "/opt/anaconda3/lib/python3.7/site-packages/sklearn/ensemble/_gb.py:1454: DataConversionWarning: A column-vector y was passed when a 1d array was expected. Please change the shape of y to (n_samples, ), for example using ravel().\n",
      "  y = column_or_1d(y, warn=True)\n"
     ]
    },
    {
     "name": "stdout",
     "output_type": "stream",
     "text": [
      "[CV] ....... max_depth=4, n_estimators=30, score=-0.637, total=   0.1s\n",
      "[CV] max_depth=4, n_estimators=50 ....................................\n",
      "[CV] ....... max_depth=4, n_estimators=50, score=-3.462, total=   0.2s\n",
      "[CV] max_depth=4, n_estimators=50 ....................................\n"
     ]
    },
    {
     "name": "stderr",
     "output_type": "stream",
     "text": [
      "[Parallel(n_jobs=1)]: Done   4 out of   4 | elapsed:    0.4s remaining:    0.0s\n",
      "/opt/anaconda3/lib/python3.7/site-packages/sklearn/ensemble/_gb.py:1454: DataConversionWarning: A column-vector y was passed when a 1d array was expected. Please change the shape of y to (n_samples, ), for example using ravel().\n",
      "  y = column_or_1d(y, warn=True)\n",
      "[Parallel(n_jobs=1)]: Done   5 out of   5 | elapsed:    0.6s remaining:    0.0s\n",
      "/opt/anaconda3/lib/python3.7/site-packages/sklearn/ensemble/_gb.py:1454: DataConversionWarning: A column-vector y was passed when a 1d array was expected. Please change the shape of y to (n_samples, ), for example using ravel().\n",
      "  y = column_or_1d(y, warn=True)\n"
     ]
    },
    {
     "name": "stdout",
     "output_type": "stream",
     "text": [
      "[CV] ....... max_depth=4, n_estimators=50, score=-0.040, total=   0.2s\n",
      "[CV] max_depth=4, n_estimators=50 ....................................\n",
      "[CV] ....... max_depth=4, n_estimators=50, score=-0.241, total=   0.2s\n",
      "[CV] max_depth=4, n_estimators=50 ....................................\n"
     ]
    },
    {
     "name": "stderr",
     "output_type": "stream",
     "text": [
      "[Parallel(n_jobs=1)]: Done   6 out of   6 | elapsed:    0.8s remaining:    0.0s\n",
      "/opt/anaconda3/lib/python3.7/site-packages/sklearn/ensemble/_gb.py:1454: DataConversionWarning: A column-vector y was passed when a 1d array was expected. Please change the shape of y to (n_samples, ), for example using ravel().\n",
      "  y = column_or_1d(y, warn=True)\n",
      "[Parallel(n_jobs=1)]: Done   7 out of   7 | elapsed:    1.0s remaining:    0.0s\n",
      "/opt/anaconda3/lib/python3.7/site-packages/sklearn/ensemble/_gb.py:1454: DataConversionWarning: A column-vector y was passed when a 1d array was expected. Please change the shape of y to (n_samples, ), for example using ravel().\n",
      "  y = column_or_1d(y, warn=True)\n"
     ]
    },
    {
     "name": "stdout",
     "output_type": "stream",
     "text": [
      "[CV] ....... max_depth=4, n_estimators=50, score=-0.634, total=   0.2s\n",
      "[CV] max_depth=5, n_estimators=30 ....................................\n",
      "[CV] ....... max_depth=5, n_estimators=30, score=-3.559, total=   0.1s\n",
      "[CV] max_depth=5, n_estimators=30 ....................................\n"
     ]
    },
    {
     "name": "stderr",
     "output_type": "stream",
     "text": [
      "[Parallel(n_jobs=1)]: Done   8 out of   8 | elapsed:    1.2s remaining:    0.0s\n",
      "/opt/anaconda3/lib/python3.7/site-packages/sklearn/ensemble/_gb.py:1454: DataConversionWarning: A column-vector y was passed when a 1d array was expected. Please change the shape of y to (n_samples, ), for example using ravel().\n",
      "  y = column_or_1d(y, warn=True)\n",
      "[Parallel(n_jobs=1)]: Done   9 out of   9 | elapsed:    1.3s remaining:    0.0s\n",
      "/opt/anaconda3/lib/python3.7/site-packages/sklearn/ensemble/_gb.py:1454: DataConversionWarning: A column-vector y was passed when a 1d array was expected. Please change the shape of y to (n_samples, ), for example using ravel().\n",
      "  y = column_or_1d(y, warn=True)\n"
     ]
    },
    {
     "name": "stdout",
     "output_type": "stream",
     "text": [
      "[CV] ....... max_depth=5, n_estimators=30, score=-0.096, total=   0.1s\n",
      "[CV] max_depth=5, n_estimators=30 ....................................\n",
      "[CV] ....... max_depth=5, n_estimators=30, score=-0.484, total=   0.2s\n",
      "[CV] max_depth=5, n_estimators=30 ....................................\n"
     ]
    },
    {
     "name": "stderr",
     "output_type": "stream",
     "text": [
      "/opt/anaconda3/lib/python3.7/site-packages/sklearn/ensemble/_gb.py:1454: DataConversionWarning: A column-vector y was passed when a 1d array was expected. Please change the shape of y to (n_samples, ), for example using ravel().\n",
      "  y = column_or_1d(y, warn=True)\n",
      "/opt/anaconda3/lib/python3.7/site-packages/sklearn/ensemble/_gb.py:1454: DataConversionWarning: A column-vector y was passed when a 1d array was expected. Please change the shape of y to (n_samples, ), for example using ravel().\n",
      "  y = column_or_1d(y, warn=True)\n"
     ]
    },
    {
     "name": "stdout",
     "output_type": "stream",
     "text": [
      "[CV] ....... max_depth=5, n_estimators=30, score=-1.074, total=   0.1s\n",
      "[CV] max_depth=5, n_estimators=50 ....................................\n"
     ]
    },
    {
     "name": "stderr",
     "output_type": "stream",
     "text": [
      "/opt/anaconda3/lib/python3.7/site-packages/sklearn/ensemble/_gb.py:1454: DataConversionWarning: A column-vector y was passed when a 1d array was expected. Please change the shape of y to (n_samples, ), for example using ravel().\n",
      "  y = column_or_1d(y, warn=True)\n"
     ]
    },
    {
     "name": "stdout",
     "output_type": "stream",
     "text": [
      "[CV] ....... max_depth=5, n_estimators=50, score=-3.600, total=   0.2s\n",
      "[CV] max_depth=5, n_estimators=50 ....................................\n"
     ]
    },
    {
     "name": "stderr",
     "output_type": "stream",
     "text": [
      "/opt/anaconda3/lib/python3.7/site-packages/sklearn/ensemble/_gb.py:1454: DataConversionWarning: A column-vector y was passed when a 1d array was expected. Please change the shape of y to (n_samples, ), for example using ravel().\n",
      "  y = column_or_1d(y, warn=True)\n"
     ]
    },
    {
     "name": "stdout",
     "output_type": "stream",
     "text": [
      "[CV] ....... max_depth=5, n_estimators=50, score=-0.049, total=   0.2s\n",
      "[CV] max_depth=5, n_estimators=50 ....................................\n"
     ]
    },
    {
     "name": "stderr",
     "output_type": "stream",
     "text": [
      "/opt/anaconda3/lib/python3.7/site-packages/sklearn/ensemble/_gb.py:1454: DataConversionWarning: A column-vector y was passed when a 1d array was expected. Please change the shape of y to (n_samples, ), for example using ravel().\n",
      "  y = column_or_1d(y, warn=True)\n"
     ]
    },
    {
     "name": "stdout",
     "output_type": "stream",
     "text": [
      "[CV] ....... max_depth=5, n_estimators=50, score=-0.458, total=   0.2s\n",
      "[CV] max_depth=5, n_estimators=50 ....................................\n"
     ]
    },
    {
     "name": "stderr",
     "output_type": "stream",
     "text": [
      "/opt/anaconda3/lib/python3.7/site-packages/sklearn/ensemble/_gb.py:1454: DataConversionWarning: A column-vector y was passed when a 1d array was expected. Please change the shape of y to (n_samples, ), for example using ravel().\n",
      "  y = column_or_1d(y, warn=True)\n"
     ]
    },
    {
     "name": "stdout",
     "output_type": "stream",
     "text": [
      "[CV] ....... max_depth=5, n_estimators=50, score=-0.422, total=   0.2s\n",
      "[CV] max_depth=6, n_estimators=30 ....................................\n",
      "[CV] ....... max_depth=6, n_estimators=30, score=-3.582, total=   0.1s\n",
      "[CV] max_depth=6, n_estimators=30 ....................................\n"
     ]
    },
    {
     "name": "stderr",
     "output_type": "stream",
     "text": [
      "/opt/anaconda3/lib/python3.7/site-packages/sklearn/ensemble/_gb.py:1454: DataConversionWarning: A column-vector y was passed when a 1d array was expected. Please change the shape of y to (n_samples, ), for example using ravel().\n",
      "  y = column_or_1d(y, warn=True)\n",
      "/opt/anaconda3/lib/python3.7/site-packages/sklearn/ensemble/_gb.py:1454: DataConversionWarning: A column-vector y was passed when a 1d array was expected. Please change the shape of y to (n_samples, ), for example using ravel().\n",
      "  y = column_or_1d(y, warn=True)\n"
     ]
    },
    {
     "name": "stdout",
     "output_type": "stream",
     "text": [
      "[CV] ....... max_depth=6, n_estimators=30, score=-0.091, total=   0.1s\n",
      "[CV] max_depth=6, n_estimators=30 ....................................\n",
      "[CV] ....... max_depth=6, n_estimators=30, score=-0.678, total=   0.1s\n",
      "[CV] max_depth=6, n_estimators=30 ....................................\n"
     ]
    },
    {
     "name": "stderr",
     "output_type": "stream",
     "text": [
      "/opt/anaconda3/lib/python3.7/site-packages/sklearn/ensemble/_gb.py:1454: DataConversionWarning: A column-vector y was passed when a 1d array was expected. Please change the shape of y to (n_samples, ), for example using ravel().\n",
      "  y = column_or_1d(y, warn=True)\n",
      "/opt/anaconda3/lib/python3.7/site-packages/sklearn/ensemble/_gb.py:1454: DataConversionWarning: A column-vector y was passed when a 1d array was expected. Please change the shape of y to (n_samples, ), for example using ravel().\n",
      "  y = column_or_1d(y, warn=True)\n"
     ]
    },
    {
     "name": "stdout",
     "output_type": "stream",
     "text": [
      "[CV] ....... max_depth=6, n_estimators=30, score=-1.062, total=   0.1s\n",
      "[CV] max_depth=6, n_estimators=50 ....................................\n"
     ]
    },
    {
     "name": "stderr",
     "output_type": "stream",
     "text": [
      "/opt/anaconda3/lib/python3.7/site-packages/sklearn/ensemble/_gb.py:1454: DataConversionWarning: A column-vector y was passed when a 1d array was expected. Please change the shape of y to (n_samples, ), for example using ravel().\n",
      "  y = column_or_1d(y, warn=True)\n"
     ]
    },
    {
     "name": "stdout",
     "output_type": "stream",
     "text": [
      "[CV] ....... max_depth=6, n_estimators=50, score=-3.617, total=   0.2s\n",
      "[CV] max_depth=6, n_estimators=50 ....................................\n"
     ]
    },
    {
     "name": "stderr",
     "output_type": "stream",
     "text": [
      "/opt/anaconda3/lib/python3.7/site-packages/sklearn/ensemble/_gb.py:1454: DataConversionWarning: A column-vector y was passed when a 1d array was expected. Please change the shape of y to (n_samples, ), for example using ravel().\n",
      "  y = column_or_1d(y, warn=True)\n"
     ]
    },
    {
     "name": "stdout",
     "output_type": "stream",
     "text": [
      "[CV] ....... max_depth=6, n_estimators=50, score=-0.055, total=   0.3s\n",
      "[CV] max_depth=6, n_estimators=50 ....................................\n"
     ]
    },
    {
     "name": "stderr",
     "output_type": "stream",
     "text": [
      "/opt/anaconda3/lib/python3.7/site-packages/sklearn/ensemble/_gb.py:1454: DataConversionWarning: A column-vector y was passed when a 1d array was expected. Please change the shape of y to (n_samples, ), for example using ravel().\n",
      "  y = column_or_1d(y, warn=True)\n"
     ]
    },
    {
     "name": "stdout",
     "output_type": "stream",
     "text": [
      "[CV] ....... max_depth=6, n_estimators=50, score=-0.720, total=   0.3s\n",
      "[CV] max_depth=6, n_estimators=50 ....................................\n"
     ]
    },
    {
     "name": "stderr",
     "output_type": "stream",
     "text": [
      "/opt/anaconda3/lib/python3.7/site-packages/sklearn/ensemble/_gb.py:1454: DataConversionWarning: A column-vector y was passed when a 1d array was expected. Please change the shape of y to (n_samples, ), for example using ravel().\n",
      "  y = column_or_1d(y, warn=True)\n"
     ]
    },
    {
     "name": "stdout",
     "output_type": "stream",
     "text": [
      "[CV] ....... max_depth=6, n_estimators=50, score=-0.489, total=   0.2s\n"
     ]
    },
    {
     "name": "stderr",
     "output_type": "stream",
     "text": [
      "[Parallel(n_jobs=1)]: Done  24 out of  24 | elapsed:    4.3s finished\n",
      "/opt/anaconda3/lib/python3.7/site-packages/sklearn/ensemble/_gb.py:1454: DataConversionWarning: A column-vector y was passed when a 1d array was expected. Please change the shape of y to (n_samples, ), for example using ravel().\n",
      "  y = column_or_1d(y, warn=True)\n"
     ]
    },
    {
     "data": {
      "text/plain": [
       "GridSearchCV(cv=4, error_score=nan,\n",
       "             estimator=GradientBoostingRegressor(alpha=0.9, ccp_alpha=0.0,\n",
       "                                                 criterion='friedman_mse',\n",
       "                                                 init=None, learning_rate=0.1,\n",
       "                                                 loss='ls', max_depth=3,\n",
       "                                                 max_features=None,\n",
       "                                                 max_leaf_nodes=None,\n",
       "                                                 min_impurity_decrease=0.0,\n",
       "                                                 min_impurity_split=None,\n",
       "                                                 min_samples_leaf=1,\n",
       "                                                 min_samples_split=2,\n",
       "                                                 min_weight_fraction_leaf=0.0,\n",
       "                                                 n_estimators=100,\n",
       "                                                 n_iter_no_change=None,\n",
       "                                                 presort='deprecated',\n",
       "                                                 random_state=None,\n",
       "                                                 subsample=1.0, tol=0.0001,\n",
       "                                                 validation_fraction=0.1,\n",
       "                                                 verbose=0, warm_start=False),\n",
       "             iid='deprecated', n_jobs=None,\n",
       "             param_grid={'max_depth': [4, 5, 6], 'n_estimators': [30, 50]},\n",
       "             pre_dispatch='2*n_jobs', refit=True, return_train_score=False,\n",
       "             scoring='r2', verbose=10)"
      ]
     },
     "execution_count": 65,
     "metadata": {},
     "output_type": "execute_result"
    }
   ],
   "source": [
    "# Running Gradient Boosted Trees\n",
    "from sklearn.ensemble import GradientBoostingRegressor\n",
    "\n",
    "gbr = GradientBoostingRegressor()\n",
    "param_dict = {'n_estimators':[30,50],'max_depth':[4,5,6]}\n",
    "grid_gbr = GridSearchCV(gbr,param_grid=param_dict,verbose=10,scoring='r2',cv=4)\n",
    "grid_gbr.fit(train_x,train_y)"
   ]
  },
  {
   "cell_type": "code",
   "execution_count": 66,
   "metadata": {},
   "outputs": [
    {
     "data": {
      "text/plain": [
       "-1.0942233013695801"
      ]
     },
     "execution_count": 66,
     "metadata": {},
     "output_type": "execute_result"
    }
   ],
   "source": [
    "grid_gbr.best_estimator_\n",
    "grid_gbr.best_score_"
   ]
  },
  {
   "cell_type": "code",
   "execution_count": 67,
   "metadata": {},
   "outputs": [
    {
     "name": "stdout",
     "output_type": "stream",
     "text": [
      "Fitting 3 folds for each of 6 candidates, totalling 18 fits\n",
      "[CV] max_depth=6, n_estimators=100 ...................................\n"
     ]
    },
    {
     "name": "stderr",
     "output_type": "stream",
     "text": [
      "[Parallel(n_jobs=1)]: Using backend SequentialBackend with 1 concurrent workers.\n",
      "/opt/anaconda3/lib/python3.7/site-packages/sklearn/ensemble/_gb.py:1454: DataConversionWarning: A column-vector y was passed when a 1d array was expected. Please change the shape of y to (n_samples, ), for example using ravel().\n",
      "  y = column_or_1d(y, warn=True)\n"
     ]
    },
    {
     "name": "stdout",
     "output_type": "stream",
     "text": [
      "[CV] ...... max_depth=6, n_estimators=100, score=-4.530, total=   0.4s\n",
      "[CV] max_depth=6, n_estimators=100 ...................................\n"
     ]
    },
    {
     "name": "stderr",
     "output_type": "stream",
     "text": [
      "[Parallel(n_jobs=1)]: Done   1 out of   1 | elapsed:    0.4s remaining:    0.0s\n",
      "/opt/anaconda3/lib/python3.7/site-packages/sklearn/ensemble/_gb.py:1454: DataConversionWarning: A column-vector y was passed when a 1d array was expected. Please change the shape of y to (n_samples, ), for example using ravel().\n",
      "  y = column_or_1d(y, warn=True)\n"
     ]
    },
    {
     "name": "stdout",
     "output_type": "stream",
     "text": [
      "[CV] ...... max_depth=6, n_estimators=100, score=-0.032, total=   0.4s\n",
      "[CV] max_depth=6, n_estimators=100 ...................................\n"
     ]
    },
    {
     "name": "stderr",
     "output_type": "stream",
     "text": [
      "[Parallel(n_jobs=1)]: Done   2 out of   2 | elapsed:    0.8s remaining:    0.0s\n",
      "/opt/anaconda3/lib/python3.7/site-packages/sklearn/ensemble/_gb.py:1454: DataConversionWarning: A column-vector y was passed when a 1d array was expected. Please change the shape of y to (n_samples, ), for example using ravel().\n",
      "  y = column_or_1d(y, warn=True)\n"
     ]
    },
    {
     "name": "stdout",
     "output_type": "stream",
     "text": [
      "[CV] ...... max_depth=6, n_estimators=100, score=-1.733, total=   0.4s\n",
      "[CV] max_depth=6, n_estimators=150 ...................................\n"
     ]
    },
    {
     "name": "stderr",
     "output_type": "stream",
     "text": [
      "[Parallel(n_jobs=1)]: Done   3 out of   3 | elapsed:    1.3s remaining:    0.0s\n",
      "/opt/anaconda3/lib/python3.7/site-packages/sklearn/ensemble/_gb.py:1454: DataConversionWarning: A column-vector y was passed when a 1d array was expected. Please change the shape of y to (n_samples, ), for example using ravel().\n",
      "  y = column_or_1d(y, warn=True)\n"
     ]
    },
    {
     "name": "stdout",
     "output_type": "stream",
     "text": [
      "[CV] ...... max_depth=6, n_estimators=150, score=-4.569, total=   0.7s\n",
      "[CV] max_depth=6, n_estimators=150 ...................................\n"
     ]
    },
    {
     "name": "stderr",
     "output_type": "stream",
     "text": [
      "[Parallel(n_jobs=1)]: Done   4 out of   4 | elapsed:    1.9s remaining:    0.0s\n",
      "/opt/anaconda3/lib/python3.7/site-packages/sklearn/ensemble/_gb.py:1454: DataConversionWarning: A column-vector y was passed when a 1d array was expected. Please change the shape of y to (n_samples, ), for example using ravel().\n",
      "  y = column_or_1d(y, warn=True)\n"
     ]
    },
    {
     "name": "stdout",
     "output_type": "stream",
     "text": [
      "[CV] ...... max_depth=6, n_estimators=150, score=-0.035, total=   0.6s\n",
      "[CV] max_depth=6, n_estimators=150 ...................................\n"
     ]
    },
    {
     "name": "stderr",
     "output_type": "stream",
     "text": [
      "[Parallel(n_jobs=1)]: Done   5 out of   5 | elapsed:    2.6s remaining:    0.0s\n",
      "/opt/anaconda3/lib/python3.7/site-packages/sklearn/ensemble/_gb.py:1454: DataConversionWarning: A column-vector y was passed when a 1d array was expected. Please change the shape of y to (n_samples, ), for example using ravel().\n",
      "  y = column_or_1d(y, warn=True)\n"
     ]
    },
    {
     "name": "stdout",
     "output_type": "stream",
     "text": [
      "[CV] ...... max_depth=6, n_estimators=150, score=-1.403, total=   0.6s\n",
      "[CV] max_depth=7, n_estimators=100 ...................................\n"
     ]
    },
    {
     "name": "stderr",
     "output_type": "stream",
     "text": [
      "[Parallel(n_jobs=1)]: Done   6 out of   6 | elapsed:    3.2s remaining:    0.0s\n",
      "/opt/anaconda3/lib/python3.7/site-packages/sklearn/ensemble/_gb.py:1454: DataConversionWarning: A column-vector y was passed when a 1d array was expected. Please change the shape of y to (n_samples, ), for example using ravel().\n",
      "  y = column_or_1d(y, warn=True)\n"
     ]
    },
    {
     "name": "stdout",
     "output_type": "stream",
     "text": [
      "[CV] ...... max_depth=7, n_estimators=100, score=-4.665, total=   0.5s\n",
      "[CV] max_depth=7, n_estimators=100 ...................................\n"
     ]
    },
    {
     "name": "stderr",
     "output_type": "stream",
     "text": [
      "[Parallel(n_jobs=1)]: Done   7 out of   7 | elapsed:    3.7s remaining:    0.0s\n",
      "/opt/anaconda3/lib/python3.7/site-packages/sklearn/ensemble/_gb.py:1454: DataConversionWarning: A column-vector y was passed when a 1d array was expected. Please change the shape of y to (n_samples, ), for example using ravel().\n",
      "  y = column_or_1d(y, warn=True)\n"
     ]
    },
    {
     "name": "stdout",
     "output_type": "stream",
     "text": [
      "[CV] ...... max_depth=7, n_estimators=100, score=-0.056, total=   0.6s\n",
      "[CV] max_depth=7, n_estimators=100 ...................................\n"
     ]
    },
    {
     "name": "stderr",
     "output_type": "stream",
     "text": [
      "[Parallel(n_jobs=1)]: Done   8 out of   8 | elapsed:    4.3s remaining:    0.0s\n",
      "/opt/anaconda3/lib/python3.7/site-packages/sklearn/ensemble/_gb.py:1454: DataConversionWarning: A column-vector y was passed when a 1d array was expected. Please change the shape of y to (n_samples, ), for example using ravel().\n",
      "  y = column_or_1d(y, warn=True)\n"
     ]
    },
    {
     "name": "stdout",
     "output_type": "stream",
     "text": [
      "[CV] ...... max_depth=7, n_estimators=100, score=-1.674, total=   0.5s\n",
      "[CV] max_depth=7, n_estimators=150 ...................................\n"
     ]
    },
    {
     "name": "stderr",
     "output_type": "stream",
     "text": [
      "[Parallel(n_jobs=1)]: Done   9 out of   9 | elapsed:    4.8s remaining:    0.0s\n",
      "/opt/anaconda3/lib/python3.7/site-packages/sklearn/ensemble/_gb.py:1454: DataConversionWarning: A column-vector y was passed when a 1d array was expected. Please change the shape of y to (n_samples, ), for example using ravel().\n",
      "  y = column_or_1d(y, warn=True)\n"
     ]
    },
    {
     "name": "stdout",
     "output_type": "stream",
     "text": [
      "[CV] ...... max_depth=7, n_estimators=150, score=-4.788, total=   0.7s\n",
      "[CV] max_depth=7, n_estimators=150 ...................................\n"
     ]
    },
    {
     "name": "stderr",
     "output_type": "stream",
     "text": [
      "/opt/anaconda3/lib/python3.7/site-packages/sklearn/ensemble/_gb.py:1454: DataConversionWarning: A column-vector y was passed when a 1d array was expected. Please change the shape of y to (n_samples, ), for example using ravel().\n",
      "  y = column_or_1d(y, warn=True)\n"
     ]
    },
    {
     "name": "stdout",
     "output_type": "stream",
     "text": [
      "[CV] ...... max_depth=7, n_estimators=150, score=-0.071, total=   0.7s\n",
      "[CV] max_depth=7, n_estimators=150 ...................................\n"
     ]
    },
    {
     "name": "stderr",
     "output_type": "stream",
     "text": [
      "/opt/anaconda3/lib/python3.7/site-packages/sklearn/ensemble/_gb.py:1454: DataConversionWarning: A column-vector y was passed when a 1d array was expected. Please change the shape of y to (n_samples, ), for example using ravel().\n",
      "  y = column_or_1d(y, warn=True)\n"
     ]
    },
    {
     "name": "stdout",
     "output_type": "stream",
     "text": [
      "[CV] ...... max_depth=7, n_estimators=150, score=-1.751, total=   0.7s\n",
      "[CV] max_depth=8, n_estimators=100 ...................................\n"
     ]
    },
    {
     "name": "stderr",
     "output_type": "stream",
     "text": [
      "/opt/anaconda3/lib/python3.7/site-packages/sklearn/ensemble/_gb.py:1454: DataConversionWarning: A column-vector y was passed when a 1d array was expected. Please change the shape of y to (n_samples, ), for example using ravel().\n",
      "  y = column_or_1d(y, warn=True)\n"
     ]
    },
    {
     "name": "stdout",
     "output_type": "stream",
     "text": [
      "[CV] ...... max_depth=8, n_estimators=100, score=-4.771, total=   0.5s\n",
      "[CV] max_depth=8, n_estimators=100 ...................................\n"
     ]
    },
    {
     "name": "stderr",
     "output_type": "stream",
     "text": [
      "/opt/anaconda3/lib/python3.7/site-packages/sklearn/ensemble/_gb.py:1454: DataConversionWarning: A column-vector y was passed when a 1d array was expected. Please change the shape of y to (n_samples, ), for example using ravel().\n",
      "  y = column_or_1d(y, warn=True)\n"
     ]
    },
    {
     "name": "stdout",
     "output_type": "stream",
     "text": [
      "[CV] ...... max_depth=8, n_estimators=100, score=-0.084, total=   0.5s\n",
      "[CV] max_depth=8, n_estimators=100 ...................................\n"
     ]
    },
    {
     "name": "stderr",
     "output_type": "stream",
     "text": [
      "/opt/anaconda3/lib/python3.7/site-packages/sklearn/ensemble/_gb.py:1454: DataConversionWarning: A column-vector y was passed when a 1d array was expected. Please change the shape of y to (n_samples, ), for example using ravel().\n",
      "  y = column_or_1d(y, warn=True)\n"
     ]
    },
    {
     "name": "stdout",
     "output_type": "stream",
     "text": [
      "[CV] ...... max_depth=8, n_estimators=100, score=-1.934, total=   0.5s\n",
      "[CV] max_depth=8, n_estimators=150 ...................................\n"
     ]
    },
    {
     "name": "stderr",
     "output_type": "stream",
     "text": [
      "/opt/anaconda3/lib/python3.7/site-packages/sklearn/ensemble/_gb.py:1454: DataConversionWarning: A column-vector y was passed when a 1d array was expected. Please change the shape of y to (n_samples, ), for example using ravel().\n",
      "  y = column_or_1d(y, warn=True)\n"
     ]
    },
    {
     "name": "stdout",
     "output_type": "stream",
     "text": [
      "[CV] ...... max_depth=8, n_estimators=150, score=-4.845, total=   0.8s\n",
      "[CV] max_depth=8, n_estimators=150 ...................................\n"
     ]
    },
    {
     "name": "stderr",
     "output_type": "stream",
     "text": [
      "/opt/anaconda3/lib/python3.7/site-packages/sklearn/ensemble/_gb.py:1454: DataConversionWarning: A column-vector y was passed when a 1d array was expected. Please change the shape of y to (n_samples, ), for example using ravel().\n",
      "  y = column_or_1d(y, warn=True)\n"
     ]
    },
    {
     "name": "stdout",
     "output_type": "stream",
     "text": [
      "[CV] ...... max_depth=8, n_estimators=150, score=-0.079, total=   0.8s\n",
      "[CV] max_depth=8, n_estimators=150 ...................................\n"
     ]
    },
    {
     "name": "stderr",
     "output_type": "stream",
     "text": [
      "/opt/anaconda3/lib/python3.7/site-packages/sklearn/ensemble/_gb.py:1454: DataConversionWarning: A column-vector y was passed when a 1d array was expected. Please change the shape of y to (n_samples, ), for example using ravel().\n",
      "  y = column_or_1d(y, warn=True)\n"
     ]
    },
    {
     "name": "stdout",
     "output_type": "stream",
     "text": [
      "[CV] ...... max_depth=8, n_estimators=150, score=-1.557, total=   0.7s\n"
     ]
    },
    {
     "name": "stderr",
     "output_type": "stream",
     "text": [
      "[Parallel(n_jobs=1)]: Done  18 out of  18 | elapsed:   10.6s finished\n",
      "/opt/anaconda3/lib/python3.7/site-packages/sklearn/ensemble/_gb.py:1454: DataConversionWarning: A column-vector y was passed when a 1d array was expected. Please change the shape of y to (n_samples, ), for example using ravel().\n",
      "  y = column_or_1d(y, warn=True)\n"
     ]
    },
    {
     "data": {
      "text/plain": [
       "GridSearchCV(cv=3, error_score=nan,\n",
       "             estimator=GradientBoostingRegressor(alpha=0.9, ccp_alpha=0.0,\n",
       "                                                 criterion='friedman_mse',\n",
       "                                                 init=None, learning_rate=0.1,\n",
       "                                                 loss='ls', max_depth=3,\n",
       "                                                 max_features=None,\n",
       "                                                 max_leaf_nodes=None,\n",
       "                                                 min_impurity_decrease=0.0,\n",
       "                                                 min_impurity_split=None,\n",
       "                                                 min_samples_leaf=1,\n",
       "                                                 min_samples_split=2,\n",
       "                                                 min_weight_fraction_leaf=0.0,\n",
       "                                                 n_estimators=100,\n",
       "                                                 n_iter_no_change=None,\n",
       "                                                 presort='deprecated',\n",
       "                                                 random_state=None,\n",
       "                                                 subsample=1.0, tol=0.0001,\n",
       "                                                 validation_fraction=0.1,\n",
       "                                                 verbose=0, warm_start=False),\n",
       "             iid='deprecated', n_jobs=None,\n",
       "             param_grid={'max_depth': [6, 7, 8], 'n_estimators': [100, 150]},\n",
       "             pre_dispatch='2*n_jobs', refit=True, return_train_score=False,\n",
       "             scoring='r2', verbose=10)"
      ]
     },
     "execution_count": 67,
     "metadata": {},
     "output_type": "execute_result"
    }
   ],
   "source": [
    "# Running Gradient Boosted Regressor\n",
    "# Trying different parameters\n",
    "gbr = GradientBoostingRegressor()\n",
    "param_dict = {'n_estimators':[100,150],'max_depth':[6,7,8]}\n",
    "grid_gbr = GridSearchCV(gbr,param_grid=param_dict,verbose=10,scoring='r2',cv=3)\n",
    "grid_gbr.fit(train_x,train_y)"
   ]
  },
  {
   "cell_type": "code",
   "execution_count": 68,
   "metadata": {},
   "outputs": [
    {
     "name": "stderr",
     "output_type": "stream",
     "text": [
      "/opt/anaconda3/lib/python3.7/site-packages/sklearn/ensemble/_gb.py:1454: DataConversionWarning: A column-vector y was passed when a 1d array was expected. Please change the shape of y to (n_samples, ), for example using ravel().\n",
      "  y = column_or_1d(y, warn=True)\n"
     ]
    },
    {
     "name": "stdout",
     "output_type": "stream",
     "text": [
      "      Iter       Train Loss   Remaining Time \n",
      "         1   688535044.3966            1.04s\n",
      "         2   632896047.9617            1.01s\n",
      "         3   588353280.0649            0.97s\n",
      "         4   549167266.7917            0.95s\n",
      "         5   519351276.1377            0.92s\n",
      "         6   492112051.6946            0.91s\n",
      "         7   469911644.3909            0.90s\n",
      "         8   452300217.1121            0.93s\n",
      "         9   436933065.4919            0.93s\n",
      "        10   423620824.3219            0.93s\n",
      "        11   413183020.3258            0.92s\n",
      "        12   403552114.2461            0.91s\n",
      "        13   395199643.9256            0.90s\n",
      "        14   388372752.4689            0.90s\n",
      "        15   382511295.3289            0.89s\n",
      "        16   375795917.0757            0.87s\n",
      "        17   371331191.0443            0.86s\n",
      "        18   367506074.6285            0.85s\n",
      "        19   361827331.2540            0.84s\n",
      "        20   358839002.1971            0.84s\n",
      "        21   355742518.7503            0.83s\n",
      "        22   352484549.4894            0.83s\n",
      "        23   349938156.9079            0.83s\n",
      "        24   345616870.7281            0.82s\n",
      "        25   343364653.7687            0.83s\n",
      "        26   340706816.3892            0.84s\n",
      "        27   338057034.2577            0.84s\n",
      "        28   336363966.5687            0.83s\n",
      "        29   333866286.5799            0.82s\n",
      "        30   331871662.2283            0.82s\n",
      "        31   330717440.6210            0.81s\n",
      "        32   327473014.2525            0.81s\n",
      "        33   325732334.8813            0.81s\n",
      "        34   324973724.2580            0.81s\n",
      "        35   322933101.0366            0.80s\n",
      "        36   320753073.9715            0.80s\n",
      "        37   320158237.4368            0.79s\n",
      "        38   318654681.5761            0.79s\n",
      "        39   317641172.7929            0.78s\n",
      "        40   317177592.4472            0.77s\n",
      "        41   316171974.2233            0.77s\n",
      "        42   315220819.4510            0.76s\n",
      "        43   313859340.1465            0.75s\n",
      "        44   312552500.8753            0.74s\n",
      "        45   312158734.5705            0.73s\n",
      "        46   311477500.8065            0.72s\n",
      "        47   310759135.9032            0.71s\n",
      "        48   309701988.9903            0.70s\n",
      "        49   309308176.8763            0.69s\n",
      "        50   307351578.4285            0.68s\n",
      "        51   306499313.2457            0.68s\n",
      "        52   306047950.6923            0.67s\n",
      "        53   305398517.9022            0.66s\n",
      "        54   304759304.3812            0.66s\n",
      "        55   304450977.4714            0.65s\n",
      "        56   303310584.3046            0.64s\n",
      "        57   302825883.5616            0.63s\n",
      "        58   301411830.3753            0.62s\n",
      "        59   301074036.7391            0.62s\n",
      "        60   300432589.9481            0.61s\n",
      "        61   299209827.4506            0.61s\n",
      "        62   298002385.0185            0.60s\n",
      "        63   297845679.7254            0.59s\n",
      "        64   296934425.5794            0.59s\n",
      "        65   295823203.1961            0.58s\n",
      "        66   295161516.5283            0.57s\n",
      "        67   294847445.3636            0.57s\n",
      "        68   293712886.3371            0.56s\n",
      "        69   293327521.4830            0.55s\n",
      "        70   292718930.3704            0.54s\n",
      "        71   291783635.1975            0.54s\n",
      "        72   291659457.3148            0.53s\n",
      "        73   291092727.7641            0.52s\n",
      "        74   290881358.0136            0.51s\n",
      "        75   290001046.2779            0.51s\n",
      "        76   289036877.5524            0.50s\n",
      "        77   288411609.6121            0.49s\n",
      "        78   288236084.2215            0.48s\n",
      "        79   287034918.1434            0.48s\n",
      "        80   286870807.9351            0.47s\n",
      "        81   285737769.1052            0.46s\n",
      "        82   285549040.4161            0.45s\n",
      "        83   285040742.0582            0.45s\n",
      "        84   284054523.1542            0.44s\n",
      "        85   283823987.4617            0.43s\n",
      "        86   283697896.7295            0.43s\n",
      "        87   282688857.5485            0.42s\n",
      "        88   282045799.8399            0.41s\n",
      "        89   281802775.5119            0.40s\n",
      "        90   281497008.2338            0.40s\n",
      "        91   280854787.0782            0.39s\n",
      "        92   280433589.0573            0.38s\n",
      "        93   280077985.7753            0.38s\n",
      "        94   279751136.4367            0.37s\n",
      "        95   279609263.3654            0.36s\n",
      "        96   279369364.7809            0.36s\n",
      "        97   279259098.3147            0.35s\n",
      "        98   278303385.3733            0.35s\n",
      "        99   278041807.6855            0.34s\n",
      "       100   277903190.9449            0.34s\n",
      "       101   277586500.5799            0.33s\n",
      "       102   277421603.4972            0.32s\n",
      "       103   277172178.9798            0.32s\n",
      "       104   276683159.1723            0.31s\n",
      "       105   276049162.3334            0.30s\n",
      "       106   275775359.4270            0.30s\n",
      "       107   275253221.4980            0.29s\n",
      "       108   273500955.8343            0.28s\n",
      "       109   272857394.6769            0.28s\n",
      "       110   272134897.4387            0.27s\n",
      "       111   272087647.4926            0.26s\n",
      "       112   271053282.5461            0.26s\n",
      "       113   270330326.4121            0.25s\n",
      "       114   270141660.0474            0.24s\n",
      "       115   269775475.7993            0.24s\n",
      "       116   269728771.1878            0.23s\n",
      "       117   268691608.0328            0.22s\n",
      "       118   268205602.0377            0.22s\n",
      "       119   268032537.9444            0.21s\n",
      "       120   267171012.7825            0.20s\n",
      "       121   266716814.7617            0.20s\n",
      "       122   266211954.4334            0.19s\n",
      "       123   266118474.1588            0.18s\n",
      "       124   265913194.1307            0.18s\n",
      "       125   264989019.0758            0.17s\n",
      "       126   263991185.4244            0.16s\n",
      "       127   263398187.1601            0.16s\n",
      "       128   262522794.1120            0.15s\n",
      "       129   262455371.7526            0.14s\n",
      "       130   262263389.9838            0.14s\n",
      "       131   262174404.6639            0.13s\n",
      "       132   262148816.9332            0.12s\n",
      "       133   261920128.2150            0.12s\n",
      "       134   261170665.9170            0.11s\n",
      "       135   260868706.1853            0.10s\n",
      "       136   260544932.5666            0.10s\n",
      "       137   259983180.6380            0.09s\n",
      "       138   259855763.3107            0.08s\n",
      "       139   259093592.4245            0.08s\n",
      "       140   258851048.7173            0.07s\n",
      "       141   258075714.4468            0.06s\n",
      "       142   257609025.5732            0.05s\n",
      "       143   257202661.5143            0.05s\n",
      "       144   257090728.1660            0.04s\n",
      "       145   256957691.6384            0.03s\n",
      "       146   256901088.7063            0.03s\n",
      "       147   256447264.6693            0.02s\n",
      "       148   256263407.5003            0.01s\n",
      "       149   256225739.4601            0.01s\n",
      "       150   256035002.3200            0.00s\n"
     ]
    },
    {
     "data": {
      "text/plain": [
       "GradientBoostingRegressor(alpha=0.9, ccp_alpha=0.0, criterion='friedman_mse',\n",
       "                          init=None, learning_rate=0.1, loss='ls', max_depth=6,\n",
       "                          max_features=None, max_leaf_nodes=None,\n",
       "                          min_impurity_decrease=0.0, min_impurity_split=None,\n",
       "                          min_samples_leaf=1, min_samples_split=2,\n",
       "                          min_weight_fraction_leaf=0.0, n_estimators=150,\n",
       "                          n_iter_no_change=None, presort='deprecated',\n",
       "                          random_state=None, subsample=1.0, tol=0.0001,\n",
       "                          validation_fraction=0.1, verbose=10,\n",
       "                          warm_start=False)"
      ]
     },
     "execution_count": 68,
     "metadata": {},
     "output_type": "execute_result"
    }
   ],
   "source": [
    "# Fir GBR with the optimal paramters over the training data\n",
    "gbr = GradientBoostingRegressor(n_estimators=150,max_depth=6,verbose=10)\n",
    "gbr.fit(train_x,train_y)"
   ]
  },
  {
   "cell_type": "code",
   "execution_count": 69,
   "metadata": {},
   "outputs": [
    {
     "data": {
      "image/png": "[encoded data removed]",
      "text/plain": [
       "<Figure size 1152x864 with 1 Axes>"
      ]
     },
     "metadata": {
      "needs_background": "light"
     },
     "output_type": "display_data"
    }
   ],
   "source": [
    "# Plotting the feature importance on a graph\n",
    "# Get Feature Importance from the Regressor\n",
    "feature_importance = gbr.feature_importances_\n",
    "# Normalize The Features\n",
    "feature_importance = 100.0 * (feature_importance / feature_importance.max())\n",
    "sorted_idx = np.argsort(feature_importance)\n",
    "pos = np.arange(sorted_idx.shape[0]) + .5\n",
    "plt.figure(figsize=(16, 12))\n",
    "plt.barh(pos, feature_importance[sorted_idx], align='center', color='#7A68A6')\n",
    "plt.yticks(pos, np.asanyarray(train_x.columns.tolist())[sorted_idx])\n",
    "plt.xlabel('Relative Importance')\n",
    "plt.title('Variable Importance')\n",
    "plt.savefig('feature_importance_gbr.png')"
   ]
  },
  {
   "cell_type": "code",
   "execution_count": 70,
   "metadata": {},
   "outputs": [
    {
     "name": "stdout",
     "output_type": "stream",
     "text": [
      "[CV]  ................................................................\n",
      "[CV] ............ , score=-367795902009776246095872.000, total=   0.0s\n",
      "[CV]  ................................................................\n",
      "[CV] ........... , score=-3750536081497886166089728.000, total=   0.0s\n",
      "[CV]  ................................................................\n",
      "[CV] ........ , score=-1328532383848310959580905472.000, total=   0.0s\n",
      "[CV]  ................................................................\n",
      "[CV] .......... , score=-13586629678765500784443392.000, total=   0.0s\n",
      "[CV]  ................................................................\n",
      "[CV] .......... , score=-39237976214122515883098112.000, total=   0.0s\n"
     ]
    },
    {
     "name": "stderr",
     "output_type": "stream",
     "text": [
      "[Parallel(n_jobs=1)]: Using backend SequentialBackend with 1 concurrent workers.\n",
      "[Parallel(n_jobs=1)]: Done   1 out of   1 | elapsed:    0.0s remaining:    0.0s\n",
      "[Parallel(n_jobs=1)]: Done   2 out of   2 | elapsed:    0.0s remaining:    0.0s\n",
      "[Parallel(n_jobs=1)]: Done   3 out of   3 | elapsed:    0.1s remaining:    0.0s\n",
      "[Parallel(n_jobs=1)]: Done   4 out of   4 | elapsed:    0.1s remaining:    0.0s\n",
      "[Parallel(n_jobs=1)]: Done   5 out of   5 | elapsed:    0.1s remaining:    0.0s\n",
      "[Parallel(n_jobs=1)]: Done   5 out of   5 | elapsed:    0.1s finished\n"
     ]
    }
   ],
   "source": [
    "# Running with Scaled Features\n",
    "# Linear Regression (without regularization)\n",
    "from sklearn.preprocessing import StandardScaler\n",
    "\n",
    "scaler = StandardScaler()\n",
    "train_scaled_x = scaler.fit_transform(train_x)\n",
    "linear_regr = linear_model.LinearRegression()\n",
    "scores = cross_val_score(linear_regr,train_scaled_x,train_y,cv=5,scoring='r2',verbose=10)"
   ]
  },
  {
   "cell_type": "code",
   "execution_count": 71,
   "metadata": {},
   "outputs": [
    {
     "data": {
      "text/plain": [
       "-2.770950643449413e+26"
      ]
     },
     "execution_count": 71,
     "metadata": {},
     "output_type": "execute_result"
    }
   ],
   "source": [
    "scores.mean()"
   ]
  },
  {
   "cell_type": "code",
   "execution_count": 72,
   "metadata": {},
   "outputs": [
    {
     "name": "stdout",
     "output_type": "stream",
     "text": [
      "Fitting 5 folds for each of 10 candidates, totalling 50 fits\n",
      "[CV] alpha=0.001 .....................................................\n",
      "[CV] ........................ alpha=0.001, score=-4.763, total=   0.0s\n",
      "[CV] alpha=0.001 .....................................................\n",
      "[CV] ........................ alpha=0.001, score=-3.374, total=   0.0s\n",
      "[CV] alpha=0.001 .....................................................\n",
      "[CV] ......................... alpha=0.001, score=0.358, total=   0.0s\n",
      "[CV] alpha=0.001 .....................................................\n",
      "[CV] ........................ alpha=0.001, score=-1.611, total=   0.0s\n",
      "[CV] alpha=0.001 .....................................................\n",
      "[CV] ........................ alpha=0.001, score=-2.672, total=   0.0s\n",
      "[CV] alpha=0.003593813663804626 ......................................\n",
      "[CV] ......... alpha=0.003593813663804626, score=-4.763, total=   0.0s\n",
      "[CV] alpha=0.003593813663804626 ......................................\n",
      "[CV] ......... alpha=0.003593813663804626, score=-3.374, total=   0.0s\n",
      "[CV] alpha=0.003593813663804626 ......................................\n",
      "[CV] .......... alpha=0.003593813663804626, score=0.358, total=   0.0s\n",
      "[CV] alpha=0.003593813663804626 ......................................\n",
      "[CV] ......... alpha=0.003593813663804626, score=-1.611, total=   0.0s\n",
      "[CV] alpha=0.003593813663804626 ......................................\n",
      "[CV] ......... alpha=0.003593813663804626, score=-2.672, total=   0.0s\n",
      "[CV] alpha=0.01291549665014884 .......................................\n",
      "[CV] .......... alpha=0.01291549665014884, score=-4.763, total=   0.0s\n",
      "[CV] alpha=0.01291549665014884 .......................................\n",
      "[CV] .......... alpha=0.01291549665014884, score=-3.374, total=   0.0s\n",
      "[CV] alpha=0.01291549665014884 .......................................\n",
      "[CV] ........... alpha=0.01291549665014884, score=0.358, total=   0.0s\n",
      "[CV] alpha=0.01291549665014884 .......................................\n",
      "[CV] .......... alpha=0.01291549665014884, score=-1.611, total=   0.0s\n",
      "[CV] alpha=0.01291549665014884 .......................................\n",
      "[CV] .......... alpha=0.01291549665014884, score=-2.672, total=   0.0s\n",
      "[CV] alpha=0.046415888336127795 ......................................\n",
      "[CV] ......... alpha=0.046415888336127795, score=-4.763, total=   0.0s\n",
      "[CV] alpha=0.046415888336127795 ......................................\n",
      "[CV] ......... alpha=0.046415888336127795, score=-3.374, total=   0.0s\n",
      "[CV] alpha=0.046415888336127795 ......................................\n",
      "[CV] .......... alpha=0.046415888336127795, score=0.358, total=   0.0s\n",
      "[CV] alpha=0.046415888336127795 ......................................\n",
      "[CV] ......... alpha=0.046415888336127795, score=-1.610, total=   0.0s\n",
      "[CV] alpha=0.046415888336127795 ......................................\n",
      "[CV] ......... alpha=0.046415888336127795, score=-2.672, total=   0.0s\n",
      "[CV] alpha=0.1668100537200059 ........................................\n",
      "[CV] ........... alpha=0.1668100537200059, score=-4.763, total=   0.0s\n",
      "[CV] alpha=0.1668100537200059 ........................................\n",
      "[CV] ........... alpha=0.1668100537200059, score=-3.374, total=   0.0s\n",
      "[CV] alpha=0.1668100537200059 ........................................\n",
      "[CV] ............ alpha=0.1668100537200059, score=0.358, total=   0.0s\n",
      "[CV] alpha=0.1668100537200059 ........................................\n",
      "[CV] ........... alpha=0.1668100537200059, score=-1.610, total=   0.0s\n",
      "[CV] alpha=0.1668100537200059 ........................................\n",
      "[CV] ........... alpha=0.1668100537200059, score=-2.672, total=   0.0s\n",
      "[CV] alpha=0.5994842503189409 ........................................\n",
      "[CV] ........... alpha=0.5994842503189409, score=-4.763, total=   0.0s\n",
      "[CV] alpha=0.5994842503189409 ........................................\n"
     ]
    },
    {
     "name": "stderr",
     "output_type": "stream",
     "text": [
      "[Parallel(n_jobs=1)]: Using backend SequentialBackend with 1 concurrent workers.\n",
      "[Parallel(n_jobs=1)]: Done   1 out of   1 | elapsed:    0.0s remaining:    0.0s\n",
      "[Parallel(n_jobs=1)]: Done   2 out of   2 | elapsed:    0.0s remaining:    0.0s\n",
      "[Parallel(n_jobs=1)]: Done   3 out of   3 | elapsed:    0.0s remaining:    0.0s\n",
      "[Parallel(n_jobs=1)]: Done   4 out of   4 | elapsed:    0.0s remaining:    0.0s\n",
      "[Parallel(n_jobs=1)]: Done   5 out of   5 | elapsed:    0.0s remaining:    0.0s\n",
      "[Parallel(n_jobs=1)]: Done   6 out of   6 | elapsed:    0.0s remaining:    0.0s\n",
      "[Parallel(n_jobs=1)]: Done   7 out of   7 | elapsed:    0.1s remaining:    0.0s\n",
      "[Parallel(n_jobs=1)]: Done   8 out of   8 | elapsed:    0.1s remaining:    0.0s\n",
      "[Parallel(n_jobs=1)]: Done   9 out of   9 | elapsed:    0.1s remaining:    0.0s\n"
     ]
    },
    {
     "name": "stdout",
     "output_type": "stream",
     "text": [
      "[CV] ........... alpha=0.5994842503189409, score=-3.375, total=   0.0s\n",
      "[CV] alpha=0.5994842503189409 ........................................\n",
      "[CV] ............ alpha=0.5994842503189409, score=0.358, total=   0.0s\n",
      "[CV] alpha=0.5994842503189409 ........................................\n",
      "[CV] ........... alpha=0.5994842503189409, score=-1.610, total=   0.0s\n",
      "[CV] alpha=0.5994842503189409 ........................................\n",
      "[CV] ........... alpha=0.5994842503189409, score=-2.671, total=   0.0s\n",
      "[CV] alpha=2.1544346900318843 ........................................\n",
      "[CV] ........... alpha=2.1544346900318843, score=-4.761, total=   0.0s\n",
      "[CV] alpha=2.1544346900318843 ........................................\n",
      "[CV] ........... alpha=2.1544346900318843, score=-3.375, total=   0.0s\n",
      "[CV] alpha=2.1544346900318843 ........................................\n",
      "[CV] ............ alpha=2.1544346900318843, score=0.358, total=   0.0s\n",
      "[CV] alpha=2.1544346900318843 ........................................\n",
      "[CV] ........... alpha=2.1544346900318843, score=-1.607, total=   0.0s\n",
      "[CV] alpha=2.1544346900318843 ........................................\n",
      "[CV] ........... alpha=2.1544346900318843, score=-2.666, total=   0.0s\n",
      "[CV] alpha=7.742636826811277 .........................................\n",
      "[CV] ............ alpha=7.742636826811277, score=-4.755, total=   0.0s\n",
      "[CV] alpha=7.742636826811277 .........................................\n",
      "[CV] ............ alpha=7.742636826811277, score=-3.378, total=   0.0s\n",
      "[CV] alpha=7.742636826811277 .........................................\n",
      "[CV] ............. alpha=7.742636826811277, score=0.357, total=   0.0s\n",
      "[CV] alpha=7.742636826811277 .........................................\n",
      "[CV] ............ alpha=7.742636826811277, score=-1.600, total=   0.0s\n",
      "[CV] alpha=7.742636826811277 .........................................\n",
      "[CV] ............ alpha=7.742636826811277, score=-2.650, total=   0.0s\n",
      "[CV] alpha=27.825594022071257 ........................................\n",
      "[CV] ........... alpha=27.825594022071257, score=-4.732, total=   0.0s\n",
      "[CV] alpha=27.825594022071257 ........................................\n",
      "[CV] ........... alpha=27.825594022071257, score=-3.388, total=   0.0s\n",
      "[CV] alpha=27.825594022071257 ........................................\n",
      "[CV] ............ alpha=27.825594022071257, score=0.355, total=   0.0s\n",
      "[CV] alpha=27.825594022071257 ........................................\n",
      "[CV] ........... alpha=27.825594022071257, score=-1.572, total=   0.0s\n",
      "[CV] alpha=27.825594022071257 ........................................\n",
      "[CV] ........... alpha=27.825594022071257, score=-2.595, total=   0.0s\n",
      "[CV] alpha=100.0 .....................................................\n",
      "[CV] ........................ alpha=100.0, score=-4.654, total=   0.0s\n",
      "[CV] alpha=100.0 .....................................................\n",
      "[CV] ........................ alpha=100.0, score=-3.424, total=   0.0s\n",
      "[CV] alpha=100.0 .....................................................\n",
      "[CV] ......................... alpha=100.0, score=0.345, total=   0.0s\n",
      "[CV] alpha=100.0 .....................................................\n",
      "[CV] ........................ alpha=100.0, score=-1.478, total=   0.0s\n",
      "[CV] alpha=100.0 .....................................................\n",
      "[CV] ........................ alpha=100.0, score=-2.422, total=   0.0s\n"
     ]
    },
    {
     "name": "stderr",
     "output_type": "stream",
     "text": [
      "[Parallel(n_jobs=1)]: Done  50 out of  50 | elapsed:    0.4s finished\n"
     ]
    },
    {
     "data": {
      "text/plain": [
       "GridSearchCV(cv=5, error_score=nan,\n",
       "             estimator=Ridge(alpha=1.0, copy_X=True, fit_intercept=True,\n",
       "                             max_iter=None, normalize=False, random_state=None,\n",
       "                             solver='auto', tol=0.001),\n",
       "             iid='deprecated', n_jobs=None,\n",
       "             param_grid=[{'alpha': array([1.00000000e-03, 3.59381366e-03, 1.29154967e-02, 4.64158883e-02,\n",
       "       1.66810054e-01, 5.99484250e-01, 2.15443469e+00, 7.74263683e+00,\n",
       "       2.78255940e+01, 1.00000000e+02])}],\n",
       "             pre_dispatch='2*n_jobs', refit=True, return_train_score=False,\n",
       "             scoring='r2', verbose=10)"
      ]
     },
     "execution_count": 72,
     "metadata": {},
     "output_type": "execute_result"
    }
   ],
   "source": [
    "# Running Ridge Regression with scaled features\n",
    "alphas = np.logspace(-3,2,10)\n",
    "tuning_parameters = [{'alpha':alphas}]\n",
    "grid_ridge = GridSearchCV(linear_model.Ridge(),tuning_parameters,cv=5,scoring='r2',verbose=10)\n",
    "grid_ridge.fit(train_scaled_x,train_y)"
   ]
  },
  {
   "cell_type": "code",
   "execution_count": 73,
   "metadata": {},
   "outputs": [
    {
     "data": {
      "text/plain": [
       "-2.326527064765646"
      ]
     },
     "execution_count": 73,
     "metadata": {},
     "output_type": "execute_result"
    }
   ],
   "source": [
    "grid_ridge.best_estimator_\n",
    "grid_ridge.best_score_"
   ]
  },
  {
   "cell_type": "code",
   "execution_count": 74,
   "metadata": {},
   "outputs": [
    {
     "data": {
      "text/plain": [
       "array([[ 3501.82578328, -7775.30872676,  3208.69366706,  4527.124377  ,\n",
       "         -835.00921184,   885.84849241,   198.79258525,  1261.68986448,\n",
       "          346.27728889,    38.91699971,  1027.36225781,    58.60045745,\n",
       "        -3287.81278433,  -519.46622413,  -405.5740227 ,    23.04978358,\n",
       "        -2321.90154939, -2685.9984233 ,  2092.40858035,   422.40344147,\n",
       "          119.58272026,  -208.53347763,    51.19349435,   390.80427372,\n",
       "        -1031.82108698,  1447.0979143 ,   214.30709301, -1161.9730825 ,\n",
       "          448.2537923 ,  -478.9383641 ,  -229.28848676,  -568.77761024,\n",
       "         1222.02730937,   540.0429779 ,   247.50200711,   278.01492181,\n",
       "         -591.98379569,  -834.74371074, -1043.46932335,  -855.99827142,\n",
       "         4509.89615819, -1360.7574974 ,  -772.45469413,   -90.32569315,\n",
       "          105.31504899, -1425.43566369, -1426.17400244,  -230.52257374,\n",
       "         -679.30059684,  -621.52279206,  -908.70184054,  -407.62892569,\n",
       "         -884.26499901,  -515.40037421,  -811.05444664,    60.90335011,\n",
       "         -101.78297423,  -719.53509013, -1123.83475562, -1313.99383093,\n",
       "        -1261.72790714, -1155.10936167,  -121.07292959, -1300.81581321,\n",
       "          285.96010017,   331.92179067,  -351.27227337, -1342.26987076,\n",
       "         3224.42002398, -1239.71049453,  -576.01293896,  -107.61177207,\n",
       "        -1130.79112436,   -67.19155538,  -335.81572063,  -241.83269191,\n",
       "         -546.30910171, -1471.6260349 ,   271.27248223,  -735.92828254,\n",
       "          563.09139961,   112.42406008,  -938.06672163,   -86.79292812,\n",
       "         -292.35348185]])"
      ]
     },
     "execution_count": 74,
     "metadata": {},
     "output_type": "execute_result"
    }
   ],
   "source": [
    "# Weights of the features after fitting the model\n",
    "grid_ridge.best_estimator_.coef_"
   ]
  },
  {
   "cell_type": "code",
   "execution_count": 75,
   "metadata": {},
   "outputs": [
    {
     "data": {
      "image/png": "[encoded data removed]",
      "text/plain": [
       "<Figure size 1152x864 with 1 Axes>"
      ]
     },
     "metadata": {
      "needs_background": "light"
     },
     "output_type": "display_data"
    }
   ],
   "source": [
    "# Plot the weights on a graph\n",
    "# Get Feature Importance from the Ridge Regressor\n",
    "feature_importance = abs(grid_ridge.best_estimator_.coef_.ravel())\n",
    "# Normalize The Features\n",
    "feature_importance = 100.0 * (feature_importance / feature_importance.max())\n",
    "sorted_idx = np.argsort(feature_importance)\n",
    "pos = np.arange(sorted_idx.shape[0]) + .5\n",
    "plt.figure(figsize=(16, 12))\n",
    "plt.barh(pos, feature_importance[sorted_idx], align='center', color='#7A68A6')\n",
    "plt.yticks(pos, np.asanyarray(train_x.columns.tolist())[sorted_idx])\n",
    "plt.xlabel('Relative Importance')\n",
    "plt.title('Variable Importance')\n",
    "plt.savefig('feature_importance_ridge.png')"
   ]
  },
  {
   "cell_type": "code",
   "execution_count": null,
   "metadata": {},
   "outputs": [],
   "source": []
  }
 ],
 "metadata": {
  "kernelspec": {
   "display_name": "Python 3",
   "language": "python",
   "name": "python3"
  },
  "language_info": {
   "codemirror_mode": {
    "name": "ipython",
    "version": 3
   },
   "file_extension": ".py",
   "mimetype": "text/x-python",
   "name": "python",
   "nbconvert_exporter": "python",
   "pygments_lexer": "ipython3",
   "version": "3.7.4"
  }
 },
 "nbformat": 4,
 "nbformat_minor": 2
}
